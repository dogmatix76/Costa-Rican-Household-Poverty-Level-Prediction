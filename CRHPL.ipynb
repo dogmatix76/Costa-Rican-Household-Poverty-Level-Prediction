{
  "cells": [
    {
      "metadata": {
        "_uuid": "8f2839f25d086af736a60e9eeb907d3b93b6e0e5",
        "_cell_guid": "b1076dfc-b9ad-4769-8c92-a6c4dae69d19",
        "trusted": true
      },
      "cell_type": "markdown",
      "source": "# Costa Rican Household Poverty Level Prediction\n\n## Table of Contents\n<ul>\n<li><a href=\"#intro\">Introduction</a></li>\n<li><a href=\"#wrangling\">Data Wrangling</a></li>\n<li><a href=\"#eda\">Exploratory Data Analysis</a></li>\n<li><a href=\"#feature_engineering\">Feature Engineering</a></li>\n</ul>"
    },
    {
      "metadata": {
        "_uuid": "85d8d05cc60d88e0350dbbd4010d1a91e71aabd0"
      },
      "cell_type": "markdown",
      "source": "<a id='intro'></a>\n# Introduction\n\n> The Inter-American Development Bank is asking the Kaggle community for help with income qualification for some of the world's poorest families. Are you up for the challenge?\n\n> Here's the backstory: Many social programs have a hard time making sure the right people are given enough aid. It’s especially tricky when a program focuses on the poorest segment of the population. The world’s poorest typically can’t provide the necessary income and expense records to prove that they qualify.\n\n> In Latin America, one popular method uses an algorithm to verify income qualification. It’s called the Proxy Means Test (or PMT). With PMT, agencies use a model that considers a family’s observable household attributes like the material of their walls and ceiling, or the assets found in the home to classify them and predict their level of need.\n\n> While this is an improvement, accuracy remains a problem as the region’s population grows and poverty declines.\nBeyond Costa Rica, many countries face this same problem of inaccurately assessing social need.\n\n"
    },
    {
      "metadata": {
        "_uuid": "97ea4e9987a0e15711c4eb040c779e6d32a45b88"
      },
      "cell_type": "markdown",
      "source": "## Problem and Data Explanation\n> The data for this competition is provided in two files: train.csv and test.csv. The training set has 9557 rows and 143 columns while the testing set has 23856 rows and 142 columns. Each row represents one individual and each column is a feature, either unique to the individual, or for the household of the individual. The training set has one additional column, Target, which represents the poverty level on a 1-4 scale and is the label for the competition. A value of 1 is the most extreme poverty.\n\nThis is a supervised multi-class classification machine learning problem:\n- Supervised: provided with the labels for the training data\n- Multi-class classification: Labels are discrete values with 4 classes"
    },
    {
      "metadata": {
        "_uuid": "86f66d7496dd146a5c2c6489cc35e6a7176150a7"
      },
      "cell_type": "markdown",
      "source": "### Objective\n> The objective is to predict poverty on a household level. We are given data on the individual level with each individual having unique features but also information about their household. In order to create a dataset for the task, we'll have to perform some aggregations of the individual data for each household. Moreover, we have to make a prediction for every individual in the test set, but \"ONLY the heads of household are used in scoring\" which means we want to predict poverty on a household basis."
    },
    {
      "metadata": {
        "_uuid": "6f0332bb8439f8555d64d25fc2685b6e8f06e130"
      },
      "cell_type": "markdown",
      "source": "The Target values represent poverty levels as follows:\n\n1 = extreme poverty \n2 = moderate poverty \n3 = vulnerable households \n4 = non vulnerable households\n\nThe explanations for all 143 columns can be found in the [competition documentation](https://www.kaggle.com/c/costa-rican-household-poverty-prediction) , but a few to note are below:\n\n- **Id** : a unique identifier for each individual, this should not be a feature that we use!\n- **idhogar** : a unique identifier for each household. This variable is not a feature, but will be used to group individuals by - household as all individuals in a household will have the same identifier.\n- **parentesco1** : indicates if this person is the head of the household.\n- **Target** : the label, which should be equal for all members in a household\n\nWhen we make a model, we'll train on a household basis with the label for each household the poverty level of the head of household. The raw data contains a mix of both household and individual characteristics and for the individual data, we will have to find a way to aggregate this for each household. Some of the individuals belong to a household with no head of household which means that unfortunately we can't use this data for training. These issues with the data are completely typical of real-world data and hence this problem is great preparation for the datasets you'll encounter in a data science job!\n\n"
    },
    {
      "metadata": {
        "_cell_guid": "79c7e3d0-c299-4dcb-8224-4455121ee9b0",
        "_uuid": "d629ff2d2480ee46fbb7e2d37f6b5fab8052498a",
        "trusted": true
      },
      "cell_type": "code",
      "source": "# Import modules\nimport pandas as pd\nimport numpy as np\n\n# Visualization\nimport matplotlib.pyplot as plt\nimport seaborn as sns\n\n# Set a few plotting defaults\n%matplotlib inline\nplt.style.use('fivethirtyeight')\nplt.rcParams['font.size'] = 18\nplt.rcParams['patch.edgecolor'] = 'k'",
      "execution_count": null,
      "outputs": []
    },
    {
      "metadata": {
        "trusted": true,
        "_uuid": "6a392b8eb93d3368b77e98cdb7db19431efb3c94"
      },
      "cell_type": "code",
      "source": "# Read the data\ntrain = pd.read_csv(\"../input/train.csv\")\ntest = pd.read_csv(\"../input/test.csv\")\n\n# To display maximum number of columns \npd.options.display.max_columns = 150",
      "execution_count": null,
      "outputs": []
    },
    {
      "metadata": {
        "trusted": true,
        "_uuid": "b3a21cf26632439e9a1477403fa3614516f2d119"
      },
      "cell_type": "code",
      "source": "train.head()",
      "execution_count": null,
      "outputs": []
    },
    {
      "metadata": {
        "trusted": true,
        "_uuid": "1738ffd9f4b6626b679cebaf21ff66e760618871"
      },
      "cell_type": "markdown",
      "source": "<a id='wrangling'></a>\n# Data Wrangling"
    },
    {
      "metadata": {
        "trusted": true,
        "_uuid": "0a36169999ea30a368ab5a771d6acecf30e91da4"
      },
      "cell_type": "code",
      "source": "# Shape of train and test data\nprint(\"Train:\",train.shape)\nprint(\"Test:\",test.shape)",
      "execution_count": null,
      "outputs": []
    },
    {
      "metadata": {
        "trusted": true,
        "_uuid": "8256327baffe4b6c8b591049913e1adfbfa34a0a"
      },
      "cell_type": "code",
      "source": "# To get the information of the data \ntrain.info()",
      "execution_count": null,
      "outputs": []
    },
    {
      "metadata": {
        "_uuid": "7a7eb38eca8044d0b38bb160d8430bd85a9c7c10"
      },
      "cell_type": "markdown",
      "source": "This tells us there are 130 integer columns, 8 float (numeric) columns, and 5 object columns. The integer columns probably represent Boolean variables (that take on either 0 or 1) or ordinal variables with discrete ordered values. The object columns might pose an issue because they cannot be fed directly into a machine learning model.\n\nLet's glance at the test data which has many more rows (individuals) than the train. It does have one fewer column because there's no Target!"
    },
    {
      "metadata": {
        "trusted": true,
        "_uuid": "2b58375e8243d7e133d273bce73bc3ea32ac1908"
      },
      "cell_type": "code",
      "source": "test.info()",
      "execution_count": null,
      "outputs": []
    },
    {
      "metadata": {
        "_uuid": "7d3d962b9f2042c998c01cdd5e3f6f4959bad749"
      },
      "cell_type": "markdown",
      "source": " ### Null and missing values"
    },
    {
      "metadata": {
        "trusted": true,
        "_uuid": "a6473fa58f1cbb156a35f0cc3da7ec79ed2cfe7d"
      },
      "cell_type": "code",
      "source": "# Check for Null values\ntrain.isnull().sum()",
      "execution_count": null,
      "outputs": []
    },
    {
      "metadata": {
        "_uuid": "436246aeab04372fcb420bebaeb023895f46f63e"
      },
      "cell_type": "markdown",
      "source": "Number of tablets household owns(v18q1) , Monthly rent payment(v2a1), Years behind in school(rez_esc) have most missing values."
    },
    {
      "metadata": {
        "trusted": true,
        "_uuid": "7a84e1792598e21b5da2964484f5a1b75390afb2"
      },
      "cell_type": "markdown",
      "source": ""
    },
    {
      "metadata": {
        "trusted": true,
        "_uuid": "17626994da2928701357942669934996f00a94ab"
      },
      "cell_type": "markdown",
      "source": "<a id='eda'></a>\n# Exploratory Data Analysis"
    },
    {
      "metadata": {
        "_uuid": "ebcd68110e3a5736584fdb7b95b32b365093587f"
      },
      "cell_type": "markdown",
      "source": "### Integer Columns\nLet's look at the distribution of unique values in the integer columns. For each column, we'll count the number of unique values and show the result in a bar plot."
    },
    {
      "metadata": {
        "trusted": true,
        "_uuid": "acc069eb150a562566aaea6c25a1c7af249f7c5b"
      },
      "cell_type": "code",
      "source": "train.select_dtypes(np.int64).nunique().value_counts().sort_index().plot.bar(color = 'blue', \n                                                                             figsize = (8, 6),\n                                                                            edgecolor = 'k', linewidth = 2);\nplt.xlabel('Number of Unique Values'); plt.ylabel('Count');\nplt.title('Count of Unique Values in Integer Columns');",
      "execution_count": null,
      "outputs": []
    },
    {
      "metadata": {
        "_uuid": "72c5e1646063bbde2e6a336c25bd90fa9c39d8e4"
      },
      "cell_type": "markdown",
      "source": "The columns with only 2 unique values represent Booleans (0 or 1). In a lot of cases, this boolean information is already on a household level. For example, the refrig column says whether or not the household has a refrigerator. When it comes time to make features from the Boolean columns that are on the household level, we will not need to aggregate these. However, the Boolean columns that are on the individual level will need to be aggregated.\n\n"
    },
    {
      "metadata": {
        "_uuid": "1223392932098df180872bb1a4a0e9a325e86df1"
      },
      "cell_type": "markdown",
      "source": "### Float Columns\nAnother column type is floats which represent continuous variables. We can make a quick distribution plot to show the distribution of all float columns. We'll use an OrderedDict to map the poverty levels to colors because this keeps the keys and values in the same order as we specify (unlike a regular Python dictionary).\n\nThe following graphs shows the distributions of the float columns colored by the value of the Target. With these plots, we can see if there is a significant difference in the variable distribution depending on the household poverty level."
    },
    {
      "metadata": {
        "trusted": true,
        "_uuid": "203c5cb8351275f43538d1af53d2ecd9d05f9d82"
      },
      "cell_type": "code",
      "source": "from collections import OrderedDict\n\nplt.figure(figsize = (20, 16))\nplt.style.use('fivethirtyeight')\n\n# Color mapping\ncolors = OrderedDict({1: 'red', 2: 'orange', 3: 'blue', 4: 'green'})\npoverty_mapping = OrderedDict({1: 'extreme', 2: 'moderate', 3: 'vulnerable', 4: 'non vulnerable'})\n\n# Iterate through the float columns\nfor i, col in enumerate(train.select_dtypes('float')):\n    ax = plt.subplot(4, 2, i + 1)\n    # Iterate through the poverty levels\n    for poverty_level, color in colors.items():\n        # Plot each poverty level as a separate line\n        sns.kdeplot(train.loc[train['Target'] == poverty_level, col].dropna(), \n                    ax = ax, color = color, label = poverty_mapping[poverty_level])\n        \n    plt.title(f'{col.capitalize()} Distribution'); plt.xlabel(f'{col}'); plt.ylabel('Density')\n\nplt.subplots_adjust(top = 2)",
      "execution_count": null,
      "outputs": []
    },
    {
      "metadata": {
        "_uuid": "7609bd0ec6f8fdea3b0630b810841f655c6b400e"
      },
      "cell_type": "markdown",
      "source": "Later on we'll calculate correlations between the variables and the Target to gauge the relationships between the features, but these plots can already give us a sense of which variables may be most \"relevant\" to a model. For example, the  meaneduc, representing the average education of the adults in the household appears to be related to the poverty level: a higher average adult education leads to higher values of the target which are less severe levels of poverty. The theme of the importance of education is one we will come back to again and again in this notebook!\n\n- We can see that non vulnarable have more numbers of years of education\n-  We can see that there are less number of people living in one room in the non vulnarable catogery and it increases as the poverty increases"
    },
    {
      "metadata": {
        "_uuid": "d4436d946a09f2df1a7f6e44d1aec0fe66644880"
      },
      "cell_type": "markdown",
      "source": "### Object Columns"
    },
    {
      "metadata": {
        "trusted": true,
        "_uuid": "c1714dadcbf3e4150e307d28bdde1882ce2fef5f"
      },
      "cell_type": "code",
      "source": "train.select_dtypes('object').head()",
      "execution_count": null,
      "outputs": []
    },
    {
      "metadata": {
        "_uuid": "aaf76c4a7d574fb5d7a11520732500c20cd1f854"
      },
      "cell_type": "markdown",
      "source": "The Id and idhogar object types make sense because these are identifying variables. However, the other columns seem to be a mix of strings and numbers which we'll need to address before doing any machine learning. According to the documentation for these columns:\n\n- dependency: Dependency rate, calculated = (number of members of the household younger than 19 or older than 64)/(number of member of household between 19 and 64)\n- edjefe: years of education of male head of household, based on the interaction of escolari (years of education), head of household and gender, yes=1 and no=0\n- edjefa: years of education of female head of household, based on the interaction of escolari (years of education), head of household and gender, yes=1 and no=0\nThese explanations clear up the issue. For these three variables, \"yes\" = 1 and \"no\" = 0. We can correct the variables using a mapping and convert to floats."
    },
    {
      "metadata": {
        "trusted": true,
        "_uuid": "bbb939573db847ecc12be242034dfe866c0f91eb"
      },
      "cell_type": "code",
      "source": "mapping = {\"yes\": 1, \"no\": 0}\n\n# Apply same operation to both train and test\nfor df in [train, test]:\n    # Fill in the values with the correct mapping\n    df['dependency'] = df['dependency'].replace(mapping).astype(np.float64)\n    df['edjefa'] = df['edjefa'].replace(mapping).astype(np.float64)\n    df['edjefe'] = df['edjefe'].replace(mapping).astype(np.float64)\n\ntrain[['dependency', 'edjefa', 'edjefe']].describe()",
      "execution_count": null,
      "outputs": []
    },
    {
      "metadata": {
        "trusted": true,
        "_uuid": "0bc1a6a6a90220a902d2852531adf997b27807f5"
      },
      "cell_type": "code",
      "source": "plt.figure(figsize = (16, 12))\n\n# Iterate through the float columns\nfor i, col in enumerate(['dependency', 'edjefa', 'edjefe']):\n    ax = plt.subplot(3, 1, i + 1)\n    # Iterate through the poverty levels\n    for poverty_level, color in colors.items():\n        # Plot each poverty level as a separate line\n        sns.kdeplot(train.loc[train['Target'] == poverty_level, col].dropna(), \n                    ax = ax, color = color, label = poverty_mapping[poverty_level])\n        \n    plt.title(f'{col.capitalize()} Distribution'); plt.xlabel(f'{col}'); plt.ylabel('Density')\n\nplt.subplots_adjust(top = 2)",
      "execution_count": null,
      "outputs": []
    },
    {
      "metadata": {
        "_uuid": "6ad72985664121b7916af7735e47f2a37572b88d"
      },
      "cell_type": "markdown",
      "source": "Here we can see that\n- years of education of male and female head of household is very low in extreme poverty and very high in non vulnerable.\n- dependency is very low in non vulnareable.\n\nThese variables are now correctly represented as numbers and can be fed into a machine learning model."
    },
    {
      "metadata": {
        "_uuid": "2a0b3b720e48bb2fcb55cf438b01d8f1989931ec"
      },
      "cell_type": "markdown",
      "source": ""
    },
    {
      "metadata": {
        "_uuid": "7783f90a6ea8a43972ac3aba8ceb029c07ff88eb"
      },
      "cell_type": "markdown",
      "source": "### Join Train and Test Set\nTo make operations like that above a little easier, we'll join together the training and testing dataframes. This is important once we start feature engineering because we want to apply the same operations to both dataframes so we end up with the same features. Later we can separate out the sets based on the Target."
    },
    {
      "metadata": {
        "trusted": true,
        "_uuid": "70a1ccb5e686af7d7eaec10cc5ad9af22ba442a3"
      },
      "cell_type": "code",
      "source": "# Add null Target column to test\ntest['Target'] = np.nan\ntrain_len = len(train)\ndata =  pd.concat(objs=[train, test], axis=0).reset_index(drop=True)",
      "execution_count": null,
      "outputs": []
    },
    {
      "metadata": {
        "_uuid": "d95589b6d5b5eb5be865d7e3ced6c90e66bf05b4"
      },
      "cell_type": "markdown",
      "source": "## Exploring Label Distribution\nNext, we can get an idea of how imbalanced the problem is by looking at the distribution of labels. There are four possible integer levels, indicating four different levels of poverty. To look at the correct labels, we'll subset only to the columns where parentesco1 == 1 because this is the head of household, the correct label for each household.\n\nThe bar plot below shows the distribution of training labels (since there are no testing labels)."
    },
    {
      "metadata": {
        "trusted": true,
        "_uuid": "1f8bdad853024f1b59c9ddebf129e785e6dc5cae"
      },
      "cell_type": "code",
      "source": "# Heads of household\nheads = data.loc[data['parentesco1'] == 1].copy()\n\n# Labels for training\ntrain_labels = data.loc[(data['Target'].notnull()) & (data['parentesco1'] == 1), ['Target', 'idhogar']]\n\n# Value counts of target\nlabel_counts = train_labels['Target'].value_counts().sort_index()\n\n# Bar plot of occurrences of each label\nlabel_counts.plot.bar(figsize = (8, 6), \n                      color = colors.values(),\n                      edgecolor = 'k', linewidth = 2)\n\n# Formatting\nplt.xlabel('Poverty Level'); plt.ylabel('Count'); \nplt.xticks([x - 1 for x in poverty_mapping.keys()], \n           list(poverty_mapping.values()), rotation = 60)\nplt.title('Poverty Level Breakdown');\n\nlabel_counts",
      "execution_count": null,
      "outputs": []
    },
    {
      "metadata": {
        "_uuid": "5ac73392e589475c0ac9ca563ad78bdbb51c0b6f"
      },
      "cell_type": "markdown",
      "source": "We are dealing with an imbalanced class problem. There are many more households that classify as non vulnerable than in any other category. The extreme poverty class is the smallest (I guess this should make us optimistic!).\n\nOne problem with imbalanced classification problems is that the machine learning model can have a difficult time predicting the minority classes because it sees far less examples. Think about this in human terms: if we are classifiying poverty and we see far more cases of no poverty than extreme poverty, it will make it more difficult for us to identify the high poverty households because of less exposure. One potential method to address class imbalanceds is through oversampling (which is covered in more advanced notebooks)."
    },
    {
      "metadata": {
        "trusted": true,
        "_uuid": "88107c3940068d24ac9b74b36cedd875ae13241c"
      },
      "cell_type": "markdown",
      "source": "## Addressing Wrong Labels (Not Needed Part)\nAs with any realistic dataset, the Costa Rican Poverty data has some issues. Typically, 80% of a data science project will be spent cleaning data and fixing anomalies/errors. These can be either human entry errors, measurement errors, or sometimes just extreme values that are correct but stand out. For this problem, some of the labels are not correct because individuals in the same household have a different poverty level. We're not told why this may be the case, but we are told to use the head of household as the true label.\n\nThat information makes our job much easier, but in a real-world problem, we would have to figure out the reason Why the labels are wrong and how to address the issue on our own. This section fixes the issue with the labels although it is not strictly necessary: I kept it in the notebook just to show how we may deal with this issue.\n\nIdentify Errors\nFirst we need to find the errors before we can correct them. To find the households with different labels for family members, we can group the data by the household and then check if there is only one unique value of the Target."
    },
    {
      "metadata": {
        "trusted": true,
        "_uuid": "0418aa6c99a6b1c7a9c2810a6978f27f60d8d797"
      },
      "cell_type": "code",
      "source": "# Groupby the household and figure out the number of unique values\nall_equal = train.groupby('idhogar')['Target'].apply(lambda x: x.nunique() == 1)\n\n# Households where targets are not all equal\nnot_equal = all_equal[all_equal != True]\nprint('There are {} households where the family members do not all have the same target.'.format(len(not_equal)))",
      "execution_count": null,
      "outputs": []
    },
    {
      "metadata": {
        "trusted": true,
        "_uuid": "bfd532ef019af698248d268e2161ed1ae174781b"
      },
      "cell_type": "code",
      "source": "# Example\ntrain[train['idhogar'] == not_equal.index[0]][['idhogar', 'parentesco1', 'Target']]",
      "execution_count": null,
      "outputs": []
    },
    {
      "metadata": {
        "_uuid": "98499e4870481ced46e7a9b2d5d73f9ee54dfeb5"
      },
      "cell_type": "markdown",
      "source": "The organizers tell us that the correct label is that for the head of household, where parentesco1 == 1. For this household, the correct label is 3 for all members. We can correct this (as shown later) by reassigning all the individuals in this household the correct poverty level. In the real-world, you might have to make the tough decision of how to address the problem by yourself (or with the help of your team)."
    },
    {
      "metadata": {
        "_uuid": "431d6d9926daaabb79480335aa3a885fdf51c43e"
      },
      "cell_type": "markdown",
      "source": "### Families without Heads of Household\nWe can correct all the label discrepancies by assigning the individuals in the same household the label of the head of household. But wait, you may ask: \"What if there are households without a head of household? And what if the members of those households have differing values of the label?\"\n\nWell, since you asked, let's investigate exactly that question!"
    },
    {
      "metadata": {
        "trusted": true,
        "scrolled": true,
        "_uuid": "854326f370af0221d833528584bc498a466dd6de"
      },
      "cell_type": "code",
      "source": "households_leader = train.groupby('idhogar')['parentesco1'].sum()\n\n# Find households without a head\nhouseholds_no_head = train.loc[train['idhogar'].isin(households_leader[households_leader == 0].index), :]\n\nprint('There are {} households without a head.'.format(households_no_head['idhogar'].nunique()))",
      "execution_count": null,
      "outputs": []
    },
    {
      "metadata": {
        "trusted": true,
        "_uuid": "b296fd2b014be3fcdd1b11edf4fddd55ccbebd46"
      },
      "cell_type": "code",
      "source": "# Find households without a head and where labels are different\nhouseholds_no_head_equal = households_no_head.groupby('idhogar')['Target'].apply(lambda x: x.nunique() == 1)\nprint('{} Households with no head have different labels.'.format(sum(households_no_head_equal == False)))",
      "execution_count": null,
      "outputs": []
    },
    {
      "metadata": {
        "trusted": true,
        "_uuid": "4f5e3a0f9b57ebfa7b243d0f32bf22d175d50fbb"
      },
      "cell_type": "markdown",
      "source": "Well that's a relief! This means that we don't have to worry about a household both where there is no head AND the members have different values of the label! For this problem, according to the organizers, if a household does not have a head, then there is no true label. Therefore, we actually won't use any of the households without a head for training Nonetheless, it's still a good exercise to go through this process of investigating the data!"
    },
    {
      "metadata": {
        "_uuid": "c8af3a7373574e028e25e9154d247db28d158705"
      },
      "cell_type": "markdown",
      "source": "### Correct Errors\nNow we can correct labels for the households that do have a head AND the members have different poverty levels"
    },
    {
      "metadata": {
        "trusted": true,
        "_uuid": "9343aefc3d435c76937a7dc8c4407ab02e0a5b3a"
      },
      "cell_type": "code",
      "source": "# Iterate through each household\nfor household in not_equal.index:\n    # Find the correct label (for the head of household)\n    true_target = int(train[(train['idhogar'] == household) & (train['parentesco1'] == 1.0)]['Target'])\n    \n    # Set the correct label for all members in the household\n    train.loc[train['idhogar'] == household, 'Target'] = true_target\n    \n    \n# Groupby the household and figure out the number of unique values\nall_equal = train.groupby('idhogar')['Target'].apply(lambda x: x.nunique() == 1)\n\n# Households where targets are not all equal\nnot_equal = all_equal[all_equal != True]\nprint('There are {} households where the family members do not all have the same target.'.format(len(not_equal)))",
      "execution_count": 23,
      "outputs": [
        {
          "output_type": "stream",
          "text": "There are 0 households where the family members do not all have the same target.\n",
          "name": "stdout"
        }
      ]
    },
    {
      "metadata": {
        "_uuid": "ae2027aa84184d09c914263a0259d94546a0891d"
      },
      "cell_type": "markdown",
      "source": "Since we are only going to use the heads of household for the labels, this step is not completely necessary but it shows a workflow for correcting data errors like you may encounter in real life. Don't consider it extra work, just practice for your career!"
    },
    {
      "metadata": {
        "_uuid": "fc19ac717b394f535267f9836f244e9beb9af73a"
      },
      "cell_type": "markdown",
      "source": "### Missing Variables\nOne of the most important steps of exploratory data analysis is finding missing values in the data and determining how to handle them. Missing values have to be filled in before we use a machine learning model and we need to think of the best strategy for filling them in based on the feature: this is where we'll have to start digging into the data definitions.\n\nFirst we can look at the percentage of missing values in each column."
    },
    {
      "metadata": {
        "trusted": true,
        "_uuid": "4536498d0183a07c8bada04bb024389c32f85970"
      },
      "cell_type": "code",
      "source": "# Number of missing in each column\nmissing = pd.DataFrame(data.isnull().sum()).rename(columns = {0: 'total'})\n\n# Create a percentage missing\nmissing['percent'] = missing['total'] / len(data)\n\nmissing.sort_values('percent', ascending = False).head(10).drop('Target')",
      "execution_count": 24,
      "outputs": [
        {
          "output_type": "execute_result",
          "execution_count": 24,
          "data": {
            "text/plain": "              total   percent\nrez_esc       27581  0.825457\nv18q1         25468  0.762218\nv2a1          24263  0.726154\nSQBmeaned        36  0.001077\nmeaneduc         36  0.001077\nhogar_adul        0  0.000000\nparentesco10      0  0.000000\nparentesco11      0  0.000000\nparentesco12      0  0.000000",
            "text/html": "<div>\n<style scoped>\n    .dataframe tbody tr th:only-of-type {\n        vertical-align: middle;\n    }\n\n    .dataframe tbody tr th {\n        vertical-align: top;\n    }\n\n    .dataframe thead th {\n        text-align: right;\n    }\n</style>\n<table border=\"1\" class=\"dataframe\">\n  <thead>\n    <tr style=\"text-align: right;\">\n      <th></th>\n      <th>total</th>\n      <th>percent</th>\n    </tr>\n  </thead>\n  <tbody>\n    <tr>\n      <th>rez_esc</th>\n      <td>27581</td>\n      <td>0.825457</td>\n    </tr>\n    <tr>\n      <th>v18q1</th>\n      <td>25468</td>\n      <td>0.762218</td>\n    </tr>\n    <tr>\n      <th>v2a1</th>\n      <td>24263</td>\n      <td>0.726154</td>\n    </tr>\n    <tr>\n      <th>SQBmeaned</th>\n      <td>36</td>\n      <td>0.001077</td>\n    </tr>\n    <tr>\n      <th>meaneduc</th>\n      <td>36</td>\n      <td>0.001077</td>\n    </tr>\n    <tr>\n      <th>hogar_adul</th>\n      <td>0</td>\n      <td>0.000000</td>\n    </tr>\n    <tr>\n      <th>parentesco10</th>\n      <td>0</td>\n      <td>0.000000</td>\n    </tr>\n    <tr>\n      <th>parentesco11</th>\n      <td>0</td>\n      <td>0.000000</td>\n    </tr>\n    <tr>\n      <th>parentesco12</th>\n      <td>0</td>\n      <td>0.000000</td>\n    </tr>\n  </tbody>\n</table>\n</div>"
          },
          "metadata": {}
        }
      ]
    },
    {
      "metadata": {
        "_uuid": "2cd925ae7d41ad34c0350793b1fb6154f146add4"
      },
      "cell_type": "markdown",
      "source": "We don't have to worry about the Target becuase we made that NaN for the test data. However, we do need to address the other 3 columns with a high percentage of missing values.\n\n### v18q1: Number of tablets\n\nLet's start with v18q1 which indicates the number of tablets owned by a family. We can look at the value counts of this variable. Since this is a household variable, it only makes sense to look at it on a household level, so we'll only select the rows for the head of household."
    },
    {
      "metadata": {
        "_uuid": "bff8f55a424c51abfc92af7a0877f1cb496d10bd"
      },
      "cell_type": "markdown",
      "source": "### Function to Plot Value Counts¶\nSince we might want to plot value counts for different columns, we can write a simple function that will do it for us!"
    },
    {
      "metadata": {
        "trusted": true,
        "_uuid": "c785e90e7953c780fcf8cebff7bf35a082c337c8"
      },
      "cell_type": "code",
      "source": "def plot_value_counts(df, col, heads_only = False):\n    \"\"\"Plot value counts of a column, optionally with only the heads of a household\"\"\"\n    # Select heads of household\n    if heads_only:\n        df = df.loc[df['parentesco1'] == 1].copy()\n        \n    plt.figure(figsize = (8, 6))\n    df[col].value_counts().sort_index().plot.bar(color = 'blue',\n                                                 edgecolor = 'k',\n                                                 linewidth = 2)\n    plt.xlabel(f'{col}'); plt.title(f'{col} Value Counts'); plt.ylabel('Count')\n    plt.show();",
      "execution_count": 25,
      "outputs": []
    },
    {
      "metadata": {
        "trusted": true,
        "_uuid": "cd85fa28b41ac19d25cecea05c8baae22de9f8bd"
      },
      "cell_type": "code",
      "source": "plot_value_counts(heads, 'v18q1')",
      "execution_count": 26,
      "outputs": [
        {
          "output_type": "display_data",
          "data": {
            "text/plain": "<Figure size 576x432 with 1 Axes>",
            "image/png": "[encoded data removed]"
          },
          "metadata": {}
        }
      ]
    },
    {
      "metadata": {
        "_uuid": "83f8cd9536c97f1785f7b9689ade2b21f8eecc15"
      },
      "cell_type": "markdown",
      "source": "It looks like the most common number of tablets to own is 1 if we go only by the data that is present. However, we also need to think about the data that is missing. In this case, it could be that families with a nan in this category just do not own a tablet! If we look at the data definitions, we see that v18q indicates whether or not a family owns a tablet. We should investigate this column combined with the number of tablets to see if our hypothesis holds.\n\nWe can groupby the value of v18q (which is 1 for owns a tablet and 0 for does not) and then calculate the number of null values for v18q1. This will tell us if the null values represent that the family does not own a tablet."
    },
    {
      "metadata": {
        "trusted": true,
        "_uuid": "c7ce13d1665b94cfe99a6f04baaf49e7e2767f55"
      },
      "cell_type": "code",
      "source": "heads.groupby('v18q')['v18q1'].apply(lambda x: x.isnull().sum())",
      "execution_count": 27,
      "outputs": [
        {
          "output_type": "execute_result",
          "execution_count": 27,
          "data": {
            "text/plain": "v18q\n0    8044\n1       0\nName: v18q1, dtype: int64"
          },
          "metadata": {}
        }
      ]
    },
    {
      "metadata": {
        "_uuid": "d274644e1b8decf7f0e02dda3c2e50447cb60a00"
      },
      "cell_type": "markdown",
      "source": "Well, that solves the issue! Every family that has nan for v18q1 does not own a tablet. Therefore, we can fill in this missing value with zero."
    },
    {
      "metadata": {
        "trusted": true,
        "_uuid": "ca5b398f303fb8b2fa64b15f973b011f07b0701a"
      },
      "cell_type": "code",
      "source": "data['v18q1'] = data['v18q1'].fillna(0)",
      "execution_count": 28,
      "outputs": []
    },
    {
      "metadata": {
        "_uuid": "cfb169b71633989e7441621a3ebfddbaf6253e11"
      },
      "cell_type": "markdown",
      "source": "### v2a1: Monthly rent payment\n\nThe next missing column is v2a1 which represents the montly rent payment.\n\nIn addition to looking at the missing values of the monthly rent payment, it will be interesting to also look at the distribution of tipovivi_, the columns showing the ownership/renting status of the home. For this plot, we show the ownership status of those homes with a nan for the monthyl rent payment."
    },
    {
      "metadata": {
        "trusted": true,
        "_uuid": "d76bef80228b32db93fc28d3a1e70166507a36e4"
      },
      "cell_type": "code",
      "source": "# Variables indicating home ownership\nown_variables = [x for x in data if x.startswith('tipo')]\n\n\n# Plot of the home ownership variables for home missing rent payments\ndata.loc[data['v2a1'].isnull(), own_variables].sum().plot.bar(figsize = (10, 8),\n                                                                        color = 'green',\n                                                              edgecolor = 'k', linewidth = 2);\nplt.xticks([0, 1, 2, 3, 4],\n           ['Owns and Paid Off', 'Owns and Paying', 'Rented', 'Precarious', 'Other'],\n          rotation = 60)\nplt.title('Home Ownership Status for Households Missing Rent Payments', size = 18);",
      "execution_count": 29,
      "outputs": [
        {
          "output_type": "display_data",
          "data": {
            "text/plain": "<Figure size 720x576 with 1 Axes>",
            "image/png": "[encoded data removed]"
          },
          "metadata": {}
        }
      ]
    },
    {
      "metadata": {
        "_uuid": "5bfc428de3c31fe5e099a8a2cceb5c5272480d90"
      },
      "cell_type": "markdown",
      "source": "The meaning of the home ownership variables is below:\n\n- tipovivi1, =1 own and fully paid house\n- tipovivi2, \"=1 own,  paying in installments\"\n- tipovivi3, =1 rented\n- tipovivi4, =1 precarious\n- tipovivi5, \"=1 other(assigned,  borrowed)\""
    },
    {
      "metadata": {
        "_uuid": "fab0fa8f9d29d15599c0fdf2cf37e8eeea18dc60"
      },
      "cell_type": "markdown",
      "source": "We've solved the issue! Well, mostly: the households that do not have a monthly rent payment generally own their own home. In a few other situations, we are not sure of the reason for the missing information.\n\nFor the houses that are owned and have a missing monthly rent payment, we can set the value of the rent payment to zero. For the other homes, we can leave the missing values to be imputed but we'll add a flag (Boolean) column indicating that these households had missing values."
    },
    {
      "metadata": {
        "trusted": true,
        "_uuid": "96690e94441cb97434bc66536a18c37258a62db4"
      },
      "cell_type": "code",
      "source": "# Fill in households that own the house with 0 rent payment\ndata.loc[(data['tipovivi1'] == 1), 'v2a1'] = 0\n\n# Create missing rent payment column\ndata['v2a1-missing'] = data['v2a1'].isnull()\n\ndata['v2a1-missing'].value_counts()",
      "execution_count": 30,
      "outputs": [
        {
          "output_type": "execute_result",
          "execution_count": 30,
          "data": {
            "text/plain": "False    29994\nTrue      3419\nName: v2a1-missing, dtype: int64"
          },
          "metadata": {}
        }
      ]
    },
    {
      "metadata": {
        "_uuid": "1f9c226686904a35e214ffb41ab903905eb16210"
      },
      "cell_type": "markdown",
      "source": "### rez_esc: years behind in school\n\nThe last column with a high percentage of missing values is rez_esc indicating years behind in school. For the families with a null value, is possible that they have no children currently in school. Let's test this out by finding the ages of those who have a missing value in this column and the ages of those who do not have a missing value."
    },
    {
      "metadata": {
        "trusted": true,
        "_uuid": "23931f5eba8c5433c7baefb6b5e383c8157935f1"
      },
      "cell_type": "code",
      "source": "data.loc[data['rez_esc'].notnull()]['age'].describe()",
      "execution_count": 31,
      "outputs": [
        {
          "output_type": "execute_result",
          "execution_count": 31,
          "data": {
            "text/plain": "count    5832.000000\nmean       12.185700\nstd         3.198618\nmin         7.000000\n25%         9.000000\n50%        12.000000\n75%        15.000000\nmax        17.000000\nName: age, dtype: float64"
          },
          "metadata": {}
        }
      ]
    },
    {
      "metadata": {
        "_uuid": "05363ad347877ec1968f4c2daafe0f1bb6d48bf1"
      },
      "cell_type": "markdown",
      "source": "What this tells us is that the oldest age with a missing value is 17. For anyone older than this, maybe we can assume that they are simply not in school. Let's look at the ages of those who have a missing value."
    },
    {
      "metadata": {
        "trusted": true,
        "_uuid": "b2935bc84d508ff752b824cde24f554b3d6c6801"
      },
      "cell_type": "code",
      "source": "data.loc[data['rez_esc'].isnull()]['age'].describe()",
      "execution_count": 32,
      "outputs": [
        {
          "output_type": "execute_result",
          "execution_count": 32,
          "data": {
            "text/plain": "count    27581.000000\nmean        39.110656\nstd         20.983114\nmin          0.000000\n25%         24.000000\n50%         38.000000\n75%         54.000000\nmax         97.000000\nName: age, dtype: float64"
          },
          "metadata": {}
        }
      ]
    },
    {
      "metadata": {
        "_uuid": "193cf36e62355f999267ece6a7472e4a794329e1"
      },
      "cell_type": "markdown",
      "source": "If we read through some of the discussions for this competition, we learn that this variable is only defined for individuals between 7 and 19. Anyone younger or older than this range presumably has no years behind and therefore the value should be set to 0. For this variable, if the individual is over 19 and they have a missing value, or if they are younger than 7 and have a missing value we can set it to zero. For anyone else, we'll leave the value to be imputed and add a boolean flag."
    },
    {
      "metadata": {
        "trusted": true,
        "_uuid": "8469d261fb7d5e0bddb81f7b9ead184bfd1647a2"
      },
      "cell_type": "code",
      "source": "# If individual is over 19 or younger than 7 and missing years behind, set it to 0\ndata.loc[((data['age'] > 19) | (data['age'] < 7)) & (data['rez_esc'].isnull()), 'rez_esc'] = 0\n\n# Add a flag for those between 7 and 19 with a missing value\ndata['rez_esc-missing'] = data['rez_esc'].isnull()\n",
      "execution_count": 33,
      "outputs": []
    },
    {
      "metadata": {
        "_uuid": "7db2db17fe514ab922fcf26e0a15aa8ef7511a67"
      },
      "cell_type": "markdown",
      "source": "There is also one outlier in the rez_esc column. Again, if we read through the competition discussions, we learn that the maximum value for this variable is 5. Therefore, any values above 5 should be set to 5."
    },
    {
      "metadata": {
        "trusted": true,
        "_uuid": "03e3bd39385724529723e75e36b03d4e1c2cbced"
      },
      "cell_type": "code",
      "source": "data.loc[data['rez_esc'] > 5, 'rez_esc'] = 5",
      "execution_count": 34,
      "outputs": []
    },
    {
      "metadata": {
        "_uuid": "df6cc1dbbe2684ca3b2099ed9b66fa6eba99287f"
      },
      "cell_type": "markdown",
      "source": "### Plot Two Categorical Variables\nTo show how two categorical variables interact with one another, there are a number of plotting options: scatterplots, faceted bar plots, boxplots, etc. I wasn't satisfied with any of these choices so I wrote the function below, which essentially is a scatterplot of two categoricals where the size of the points represent the percentage of a given y-value represented by each x-value."
    },
    {
      "metadata": {
        "trusted": true,
        "_uuid": "56eb663cad3611b7fadc36d6a6bbcdb143b0cbfe"
      },
      "cell_type": "code",
      "source": "",
      "execution_count": null,
      "outputs": []
    },
    {
      "metadata": {
        "trusted": true,
        "_uuid": "0d3a9a071352127fb016efb22dc42c06ec5250b2"
      },
      "cell_type": "code",
      "source": "",
      "execution_count": null,
      "outputs": []
    },
    {
      "metadata": {
        "trusted": true,
        "_uuid": "2b87eb32f6987bc44ebe990ecc119497fe6a57f0"
      },
      "cell_type": "code",
      "source": "",
      "execution_count": null,
      "outputs": []
    },
    {
      "metadata": {
        "trusted": true,
        "_uuid": "25eae0fa61882213617da490e64eeb893d04e2c2"
      },
      "cell_type": "code",
      "source": "",
      "execution_count": null,
      "outputs": []
    }
  ],
  "metadata": {
    "kernelspec": {
      "display_name": "Python 3",
      "language": "python",
      "name": "python3"
    },
    "language_info": {
      "name": "python",
      "version": "3.6.6",
      "mimetype": "text/x-python",
      "codemirror_mode": {
        "name": "ipython",
        "version": 3
      },
      "pygments_lexer": "ipython3",
      "nbconvert_exporter": "python",
      "file_extension": ".py"
    }
  },
  "nbformat": 4,
  "nbformat_minor": 1
}