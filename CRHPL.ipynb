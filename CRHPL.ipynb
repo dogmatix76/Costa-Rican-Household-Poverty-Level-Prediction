{
  "cells": [
    {
      "metadata": {
        "_uuid": "8f2839f25d086af736a60e9eeb907d3b93b6e0e5",
        "_cell_guid": "b1076dfc-b9ad-4769-8c92-a6c4dae69d19",
        "trusted": true
      },
      "cell_type": "markdown",
      "source": "# Costa Rican Household Poverty Level Prediction\n\n## Table of Contents\n<ul>\n<li><a href=\"#intro\">Introduction</a></li>\n<li><a href=\"#wrangling\">Data Wrangling</a></li>\n<li><a href=\"#eda\">Exploratory Data Analysis</a></li>\n<li><a href=\"#feature_engineering\">Feature Engineering</a></li>\n</ul>"
    },
    {
      "metadata": {
        "_uuid": "85d8d05cc60d88e0350dbbd4010d1a91e71aabd0"
      },
      "cell_type": "markdown",
      "source": "<a id='intro'></a>\n# Introduction\n\n> The Inter-American Development Bank is asking the Kaggle community for help with income qualification for some of the world's poorest families. Are you up for the challenge?\n\n> Here's the backstory: Many social programs have a hard time making sure the right people are given enough aid. It’s especially tricky when a program focuses on the poorest segment of the population. The world’s poorest typically can’t provide the necessary income and expense records to prove that they qualify.\n\n> In Latin America, one popular method uses an algorithm to verify income qualification. It’s called the Proxy Means Test (or PMT). With PMT, agencies use a model that considers a family’s observable household attributes like the material of their walls and ceiling, or the assets found in the home to classify them and predict their level of need.\n\n> While this is an improvement, accuracy remains a problem as the region’s population grows and poverty declines.\nBeyond Costa Rica, many countries face this same problem of inaccurately assessing social need.\n\n"
    },
    {
      "metadata": {
        "_uuid": "97ea4e9987a0e15711c4eb040c779e6d32a45b88"
      },
      "cell_type": "markdown",
      "source": "## Problem and Data Explanation\n> The data for this competition is provided in two files: train.csv and test.csv. The training set has 9557 rows and 143 columns while the testing set has 23856 rows and 142 columns. Each row represents one individual and each column is a feature, either unique to the individual, or for the household of the individual. The training set has one additional column, Target, which represents the poverty level on a 1-4 scale and is the label for the competition. A value of 1 is the most extreme poverty.\n\nThis is a supervised multi-class classification machine learning problem:\n- Supervised: provided with the labels for the training data\n- Multi-class classification: Labels are discrete values with 4 classes"
    },
    {
      "metadata": {
        "_uuid": "86f66d7496dd146a5c2c6489cc35e6a7176150a7"
      },
      "cell_type": "markdown",
      "source": "### Objective\n> The objective is to predict poverty on a household level. We are given data on the individual level with each individual having unique features but also information about their household. In order to create a dataset for the task, we'll have to perform some aggregations of the individual data for each household. Moreover, we have to make a prediction for every individual in the test set, but \"ONLY the heads of household are used in scoring\" which means we want to predict poverty on a household basis."
    },
    {
      "metadata": {
        "_uuid": "6f0332bb8439f8555d64d25fc2685b6e8f06e130"
      },
      "cell_type": "markdown",
      "source": "The Target values represent poverty levels as follows:\n\n1 = extreme poverty \n2 = moderate poverty \n3 = vulnerable households \n4 = non vulnerable households\n\nThe explanations for all 143 columns can be found in the [competition documentation](https://www.kaggle.com/c/costa-rican-household-poverty-prediction) , but a few to note are below:\n\n- **Id** : a unique identifier for each individual, this should not be a feature that we use!\n- **idhogar** : a unique identifier for each household. This variable is not a feature, but will be used to group individuals by - household as all individuals in a household will have the same identifier.\n- **parentesco1** : indicates if this person is the head of the household.\n- **Target** : the label, which should be equal for all members in a household\n\nWhen we make a model, we'll train on a household basis with the label for each household the poverty level of the head of household. The raw data contains a mix of both household and individual characteristics and for the individual data, we will have to find a way to aggregate this for each household. Some of the individuals belong to a household with no head of household which means that unfortunately we can't use this data for training. These issues with the data are completely typical of real-world data and hence this problem is great preparation for the datasets you'll encounter in a data science job!\n\n"
    },
    {
      "metadata": {
        "_cell_guid": "79c7e3d0-c299-4dcb-8224-4455121ee9b0",
        "_uuid": "d629ff2d2480ee46fbb7e2d37f6b5fab8052498a",
        "trusted": true
      },
      "cell_type": "code",
      "source": "# Import modules\nimport pandas as pd\nimport numpy as np\n\n# Visualization\nimport matplotlib.pyplot as plt\nimport seaborn as sns\n\n# Set a few plotting defaults\n%matplotlib inline\nplt.style.use('fivethirtyeight')\nplt.rcParams['font.size'] = 18\nplt.rcParams['patch.edgecolor'] = 'k'\n\n# Ignore Warning\nimport warnings\nwarnings.filterwarnings('ignore', category = RuntimeWarning)",
      "execution_count": null,
      "outputs": []
    },
    {
      "metadata": {
        "trusted": true,
        "_uuid": "6a392b8eb93d3368b77e98cdb7db19431efb3c94"
      },
      "cell_type": "code",
      "source": "# Read the data\ntrain = pd.read_csv(\"../input/train.csv\")\ntest = pd.read_csv(\"../input/test.csv\")\n\n# To display maximum number of columns \npd.options.display.max_columns = 150",
      "execution_count": null,
      "outputs": []
    },
    {
      "metadata": {
        "trusted": true,
        "_uuid": "b3a21cf26632439e9a1477403fa3614516f2d119"
      },
      "cell_type": "code",
      "source": "train.head()",
      "execution_count": null,
      "outputs": []
    },
    {
      "metadata": {
        "trusted": true,
        "_uuid": "1738ffd9f4b6626b679cebaf21ff66e760618871"
      },
      "cell_type": "markdown",
      "source": "<a id='wrangling'></a>\n# Data Wrangling"
    },
    {
      "metadata": {
        "trusted": true,
        "_uuid": "0a36169999ea30a368ab5a771d6acecf30e91da4"
      },
      "cell_type": "code",
      "source": "# Shape of train and test data\nprint(\"Train:\",train.shape)\nprint(\"Test:\",test.shape)",
      "execution_count": null,
      "outputs": []
    },
    {
      "metadata": {
        "trusted": true,
        "_uuid": "8256327baffe4b6c8b591049913e1adfbfa34a0a"
      },
      "cell_type": "code",
      "source": "# To get the information of the data \ntrain.info()",
      "execution_count": null,
      "outputs": []
    },
    {
      "metadata": {
        "_uuid": "7a7eb38eca8044d0b38bb160d8430bd85a9c7c10"
      },
      "cell_type": "markdown",
      "source": "This tells us there are 130 integer columns, 8 float (numeric) columns, and 5 object columns. The integer columns probably represent Boolean variables (that take on either 0 or 1) or ordinal variables with discrete ordered values. The object columns might pose an issue because they cannot be fed directly into a machine learning model.\n\nLet's glance at the test data which has many more rows (individuals) than the train. It does have one fewer column because there's no Target!"
    },
    {
      "metadata": {
        "trusted": true,
        "_uuid": "2b58375e8243d7e133d273bce73bc3ea32ac1908"
      },
      "cell_type": "code",
      "source": "test.info()",
      "execution_count": null,
      "outputs": []
    },
    {
      "metadata": {
        "_uuid": "7d3d962b9f2042c998c01cdd5e3f6f4959bad749"
      },
      "cell_type": "markdown",
      "source": " ### Null and missing values"
    },
    {
      "metadata": {
        "trusted": true,
        "_uuid": "a6473fa58f1cbb156a35f0cc3da7ec79ed2cfe7d"
      },
      "cell_type": "code",
      "source": "# Check for Null values\ntrain.isnull().sum()",
      "execution_count": null,
      "outputs": []
    },
    {
      "metadata": {
        "_uuid": "436246aeab04372fcb420bebaeb023895f46f63e"
      },
      "cell_type": "markdown",
      "source": "Number of tablets household owns(v18q1) , Monthly rent payment(v2a1), Years behind in school(rez_esc) have most missing values."
    },
    {
      "metadata": {
        "trusted": true,
        "_uuid": "7a84e1792598e21b5da2964484f5a1b75390afb2"
      },
      "cell_type": "markdown",
      "source": ""
    },
    {
      "metadata": {
        "trusted": true,
        "_uuid": "17626994da2928701357942669934996f00a94ab"
      },
      "cell_type": "markdown",
      "source": "<a id='eda'></a>\n# Exploratory Data Analysis"
    },
    {
      "metadata": {
        "_uuid": "ebcd68110e3a5736584fdb7b95b32b365093587f"
      },
      "cell_type": "markdown",
      "source": "### Integer Columns\nLet's look at the distribution of unique values in the integer columns. For each column, we'll count the number of unique values and show the result in a bar plot."
    },
    {
      "metadata": {
        "trusted": true,
        "_uuid": "acc069eb150a562566aaea6c25a1c7af249f7c5b"
      },
      "cell_type": "code",
      "source": "train.select_dtypes(np.int64).nunique().value_counts().sort_index().plot.bar(color = 'blue', \n                                                                             figsize = (8, 6),\n                                                                            edgecolor = 'k', linewidth = 2);\nplt.xlabel('Number of Unique Values'); plt.ylabel('Count');\nplt.title('Count of Unique Values in Integer Columns');",
      "execution_count": null,
      "outputs": []
    },
    {
      "metadata": {
        "_uuid": "72c5e1646063bbde2e6a336c25bd90fa9c39d8e4"
      },
      "cell_type": "markdown",
      "source": "The columns with only 2 unique values represent Booleans (0 or 1). In a lot of cases, this boolean information is already on a household level. For example, the refrig column says whether or not the household has a refrigerator. When it comes time to make features from the Boolean columns that are on the household level, we will not need to aggregate these. However, the Boolean columns that are on the individual level will need to be aggregated.\n\n"
    },
    {
      "metadata": {
        "_uuid": "1223392932098df180872bb1a4a0e9a325e86df1"
      },
      "cell_type": "markdown",
      "source": "### Float Columns\nAnother column type is floats which represent continuous variables. We can make a quick distribution plot to show the distribution of all float columns. We'll use an OrderedDict to map the poverty levels to colors because this keeps the keys and values in the same order as we specify (unlike a regular Python dictionary).\n\nThe following graphs shows the distributions of the float columns colored by the value of the Target. With these plots, we can see if there is a significant difference in the variable distribution depending on the household poverty level."
    },
    {
      "metadata": {
        "trusted": true,
        "_uuid": "203c5cb8351275f43538d1af53d2ecd9d05f9d82"
      },
      "cell_type": "code",
      "source": "from collections import OrderedDict\n\nplt.figure(figsize = (20, 16))\nplt.style.use('fivethirtyeight')\n\n# Color mapping\ncolors = OrderedDict({1: 'red', 2: 'orange', 3: 'blue', 4: 'green'})\npoverty_mapping = OrderedDict({1: 'extreme', 2: 'moderate', 3: 'vulnerable', 4: 'non vulnerable'})\n\n# Iterate through the float columns\nfor i, col in enumerate(train.select_dtypes('float')):\n    ax = plt.subplot(4, 2, i + 1)\n    # Iterate through the poverty levels\n    for poverty_level, color in colors.items():\n        # Plot each poverty level as a separate line\n        sns.kdeplot(train.loc[train['Target'] == poverty_level, col].dropna(), \n                    ax = ax, color = color, label = poverty_mapping[poverty_level])\n        \n    plt.title(f'{col.capitalize()} Distribution'); plt.xlabel(f'{col}'); plt.ylabel('Density')\n\nplt.subplots_adjust(top = 2)",
      "execution_count": null,
      "outputs": []
    },
    {
      "metadata": {
        "_uuid": "7609bd0ec6f8fdea3b0630b810841f655c6b400e"
      },
      "cell_type": "markdown",
      "source": "Later on we'll calculate correlations between the variables and the Target to gauge the relationships between the features, but these plots can already give us a sense of which variables may be most \"relevant\" to a model. For example, the  meaneduc, representing the average education of the adults in the household appears to be related to the poverty level: a higher average adult education leads to higher values of the target which are less severe levels of poverty. The theme of the importance of education is one we will come back to again and again in this notebook!\n\n- We can see that non vulnarable have more numbers of years of education\n-  We can see that there are less number of people living in one room in the non vulnarable catogery and it increases as the poverty increases"
    },
    {
      "metadata": {
        "_uuid": "d4436d946a09f2df1a7f6e44d1aec0fe66644880"
      },
      "cell_type": "markdown",
      "source": "### Object Columns"
    },
    {
      "metadata": {
        "trusted": true,
        "_uuid": "c1714dadcbf3e4150e307d28bdde1882ce2fef5f"
      },
      "cell_type": "code",
      "source": "train.select_dtypes('object').head()",
      "execution_count": null,
      "outputs": []
    },
    {
      "metadata": {
        "_uuid": "aaf76c4a7d574fb5d7a11520732500c20cd1f854"
      },
      "cell_type": "markdown",
      "source": "The Id and idhogar object types make sense because these are identifying variables. However, the other columns seem to be a mix of strings and numbers which we'll need to address before doing any machine learning. According to the documentation for these columns:\n\n- dependency: Dependency rate, calculated = (number of members of the household younger than 19 or older than 64)/(number of member of household between 19 and 64)\n- edjefe: years of education of male head of household, based on the interaction of escolari (years of education), head of household and gender, yes=1 and no=0\n- edjefa: years of education of female head of household, based on the interaction of escolari (years of education), head of household and gender, yes=1 and no=0\nThese explanations clear up the issue. For these three variables, \"yes\" = 1 and \"no\" = 0. We can correct the variables using a mapping and convert to floats."
    },
    {
      "metadata": {
        "trusted": true,
        "_uuid": "bbb939573db847ecc12be242034dfe866c0f91eb"
      },
      "cell_type": "code",
      "source": "mapping = {\"yes\": 1, \"no\": 0}\n\n# Apply same operation to both train and test\nfor df in [train, test]:\n    # Fill in the values with the correct mapping\n    df['dependency'] = df['dependency'].replace(mapping).astype(np.float64)\n    df['edjefa'] = df['edjefa'].replace(mapping).astype(np.float64)\n    df['edjefe'] = df['edjefe'].replace(mapping).astype(np.float64)\n\ntrain[['dependency', 'edjefa', 'edjefe']].describe()",
      "execution_count": null,
      "outputs": []
    },
    {
      "metadata": {
        "trusted": true,
        "_uuid": "0bc1a6a6a90220a902d2852531adf997b27807f5"
      },
      "cell_type": "code",
      "source": "plt.figure(figsize = (16, 12))\n\n# Iterate through the float columns\nfor i, col in enumerate(['dependency', 'edjefa', 'edjefe']):\n    ax = plt.subplot(3, 1, i + 1)\n    # Iterate through the poverty levels\n    for poverty_level, color in colors.items():\n        # Plot each poverty level as a separate line\n        sns.kdeplot(train.loc[train['Target'] == poverty_level, col].dropna(), \n                    ax = ax, color = color, label = poverty_mapping[poverty_level])\n        \n    plt.title(f'{col.capitalize()} Distribution'); plt.xlabel(f'{col}'); plt.ylabel('Density')\n\nplt.subplots_adjust(top = 2)",
      "execution_count": null,
      "outputs": []
    },
    {
      "metadata": {
        "_uuid": "6ad72985664121b7916af7735e47f2a37572b88d"
      },
      "cell_type": "markdown",
      "source": "Here we can see that\n- years of education of male and female head of household is very low in extreme poverty and very high in non vulnerable.\n- dependency is very low in non vulnareable.\n\nThese variables are now correctly represented as numbers and can be fed into a machine learning model."
    },
    {
      "metadata": {
        "_uuid": "2a0b3b720e48bb2fcb55cf438b01d8f1989931ec"
      },
      "cell_type": "markdown",
      "source": ""
    },
    {
      "metadata": {
        "_uuid": "7783f90a6ea8a43972ac3aba8ceb029c07ff88eb"
      },
      "cell_type": "markdown",
      "source": "### Join Train and Test Set\nTo make operations like that above a little easier, we'll join together the training and testing dataframes. This is important once we start feature engineering because we want to apply the same operations to both dataframes so we end up with the same features. Later we can separate out the sets based on the Target."
    },
    {
      "metadata": {
        "trusted": true,
        "_uuid": "70a1ccb5e686af7d7eaec10cc5ad9af22ba442a3"
      },
      "cell_type": "code",
      "source": "# Add null Target column to test\ntest['Target'] = np.nan\ntrain_len = len(train)\ndata =  pd.concat(objs=[train, test], axis=0).reset_index(drop=True)",
      "execution_count": null,
      "outputs": []
    },
    {
      "metadata": {
        "_uuid": "d95589b6d5b5eb5be865d7e3ced6c90e66bf05b4"
      },
      "cell_type": "markdown",
      "source": "## Exploring Label Distribution\nNext, we can get an idea of how imbalanced the problem is by looking at the distribution of labels. There are four possible integer levels, indicating four different levels of poverty. To look at the correct labels, we'll subset only to the columns where parentesco1 == 1 because this is the head of household, the correct label for each household.\n\nThe bar plot below shows the distribution of training labels (since there are no testing labels)."
    },
    {
      "metadata": {
        "trusted": true,
        "_uuid": "1f8bdad853024f1b59c9ddebf129e785e6dc5cae"
      },
      "cell_type": "code",
      "source": "# Heads of household\nheads = data.loc[data['parentesco1'] == 1].copy()\n\n# Labels for training\ntrain_labels = data.loc[(data['Target'].notnull()) & (data['parentesco1'] == 1), ['Target', 'idhogar']]\n\n# Value counts of target\nlabel_counts = train_labels['Target'].value_counts().sort_index()\n\n# Bar plot of occurrences of each label\nlabel_counts.plot.bar(figsize = (8, 6), \n                      color = colors.values(),\n                      edgecolor = 'k', linewidth = 2)\n\n# Formatting\nplt.xlabel('Poverty Level'); plt.ylabel('Count'); \nplt.xticks([x - 1 for x in poverty_mapping.keys()], \n           list(poverty_mapping.values()), rotation = 60)\nplt.title('Poverty Level Breakdown');\n\nlabel_counts",
      "execution_count": null,
      "outputs": []
    },
    {
      "metadata": {
        "_uuid": "5ac73392e589475c0ac9ca563ad78bdbb51c0b6f"
      },
      "cell_type": "markdown",
      "source": "We are dealing with an imbalanced class problem. There are many more households that classify as non vulnerable than in any other category. The extreme poverty class is the smallest (I guess this should make us optimistic!).\n\nOne problem with imbalanced classification problems is that the machine learning model can have a difficult time predicting the minority classes because it sees far less examples. Think about this in human terms: if we are classifiying poverty and we see far more cases of no poverty than extreme poverty, it will make it more difficult for us to identify the high poverty households because of less exposure. One potential method to address class imbalanceds is through oversampling (which is covered in more advanced notebooks)."
    },
    {
      "metadata": {
        "trusted": true,
        "_uuid": "88107c3940068d24ac9b74b36cedd875ae13241c"
      },
      "cell_type": "markdown",
      "source": "## Addressing Wrong Labels (Not Needed Part)\nAs with any realistic dataset, the Costa Rican Poverty data has some issues. Typically, 80% of a data science project will be spent cleaning data and fixing anomalies/errors. These can be either human entry errors, measurement errors, or sometimes just extreme values that are correct but stand out. For this problem, some of the labels are not correct because individuals in the same household have a different poverty level. We're not told why this may be the case, but we are told to use the head of household as the true label.\n\nThat information makes our job much easier, but in a real-world problem, we would have to figure out the reason Why the labels are wrong and how to address the issue on our own. This section fixes the issue with the labels although it is not strictly necessary: I kept it in the notebook just to show how we may deal with this issue.\n\nIdentify Errors\nFirst we need to find the errors before we can correct them. To find the households with different labels for family members, we can group the data by the household and then check if there is only one unique value of the Target."
    },
    {
      "metadata": {
        "trusted": true,
        "_uuid": "0418aa6c99a6b1c7a9c2810a6978f27f60d8d797"
      },
      "cell_type": "code",
      "source": "# Groupby the household and figure out the number of unique values\nall_equal = train.groupby('idhogar')['Target'].apply(lambda x: x.nunique() == 1)\n\n# Households where targets are not all equal\nnot_equal = all_equal[all_equal != True]\nprint('There are {} households where the family members do not all have the same target.'.format(len(not_equal)))",
      "execution_count": null,
      "outputs": []
    },
    {
      "metadata": {
        "trusted": true,
        "_uuid": "bfd532ef019af698248d268e2161ed1ae174781b"
      },
      "cell_type": "code",
      "source": "# Example\ntrain[train['idhogar'] == not_equal.index[0]][['idhogar', 'parentesco1', 'Target']]",
      "execution_count": null,
      "outputs": []
    },
    {
      "metadata": {
        "_uuid": "98499e4870481ced46e7a9b2d5d73f9ee54dfeb5"
      },
      "cell_type": "markdown",
      "source": "The organizers tell us that the correct label is that for the head of household, where parentesco1 == 1. For this household, the correct label is 3 for all members. We can correct this (as shown later) by reassigning all the individuals in this household the correct poverty level. In the real-world, you might have to make the tough decision of how to address the problem by yourself (or with the help of your team)."
    },
    {
      "metadata": {
        "_uuid": "431d6d9926daaabb79480335aa3a885fdf51c43e"
      },
      "cell_type": "markdown",
      "source": "### Families without Heads of Household\nWe can correct all the label discrepancies by assigning the individuals in the same household the label of the head of household. But wait, you may ask: \"What if there are households without a head of household? And what if the members of those households have differing values of the label?\"\n\nWell, since you asked, let's investigate exactly that question!"
    },
    {
      "metadata": {
        "trusted": true,
        "scrolled": true,
        "_uuid": "854326f370af0221d833528584bc498a466dd6de"
      },
      "cell_type": "code",
      "source": "households_leader = train.groupby('idhogar')['parentesco1'].sum()\n\n# Find households without a head\nhouseholds_no_head = train.loc[train['idhogar'].isin(households_leader[households_leader == 0].index), :]\n\nprint('There are {} households without a head.'.format(households_no_head['idhogar'].nunique()))",
      "execution_count": null,
      "outputs": []
    },
    {
      "metadata": {
        "trusted": true,
        "_uuid": "b296fd2b014be3fcdd1b11edf4fddd55ccbebd46"
      },
      "cell_type": "code",
      "source": "# Find households without a head and where labels are different\nhouseholds_no_head_equal = households_no_head.groupby('idhogar')['Target'].apply(lambda x: x.nunique() == 1)\nprint('{} Households with no head have different labels.'.format(sum(households_no_head_equal == False)))",
      "execution_count": null,
      "outputs": []
    },
    {
      "metadata": {
        "trusted": true,
        "_uuid": "4f5e3a0f9b57ebfa7b243d0f32bf22d175d50fbb"
      },
      "cell_type": "markdown",
      "source": "Well that's a relief! This means that we don't have to worry about a household both where there is no head AND the members have different values of the label! For this problem, according to the organizers, if a household does not have a head, then there is no true label. Therefore, we actually won't use any of the households without a head for training Nonetheless, it's still a good exercise to go through this process of investigating the data!"
    },
    {
      "metadata": {
        "_uuid": "c8af3a7373574e028e25e9154d247db28d158705"
      },
      "cell_type": "markdown",
      "source": "### Correct Errors\nNow we can correct labels for the households that do have a head AND the members have different poverty levels"
    },
    {
      "metadata": {
        "trusted": true,
        "_uuid": "9343aefc3d435c76937a7dc8c4407ab02e0a5b3a"
      },
      "cell_type": "code",
      "source": "# Iterate through each household\nfor household in not_equal.index:\n    # Find the correct label (for the head of household)\n    true_target = int(train[(train['idhogar'] == household) & (train['parentesco1'] == 1.0)]['Target'])\n    \n    # Set the correct label for all members in the household\n    train.loc[train['idhogar'] == household, 'Target'] = true_target\n    \n    \n# Groupby the household and figure out the number of unique values\nall_equal = train.groupby('idhogar')['Target'].apply(lambda x: x.nunique() == 1)\n\n# Households where targets are not all equal\nnot_equal = all_equal[all_equal != True]\nprint('There are {} households where the family members do not all have the same target.'.format(len(not_equal)))",
      "execution_count": null,
      "outputs": []
    },
    {
      "metadata": {
        "_uuid": "ae2027aa84184d09c914263a0259d94546a0891d"
      },
      "cell_type": "markdown",
      "source": "Since we are only going to use the heads of household for the labels, this step is not completely necessary but it shows a workflow for correcting data errors like you may encounter in real life. Don't consider it extra work, just practice for your career!"
    },
    {
      "metadata": {
        "_uuid": "fc19ac717b394f535267f9836f244e9beb9af73a"
      },
      "cell_type": "markdown",
      "source": "### Missing Variables\nOne of the most important steps of exploratory data analysis is finding missing values in the data and determining how to handle them. Missing values have to be filled in before we use a machine learning model and we need to think of the best strategy for filling them in based on the feature: this is where we'll have to start digging into the data definitions.\n\nFirst we can look at the percentage of missing values in each column."
    },
    {
      "metadata": {
        "trusted": true,
        "_uuid": "4536498d0183a07c8bada04bb024389c32f85970"
      },
      "cell_type": "code",
      "source": "# Number of missing in each column\nmissing = pd.DataFrame(data.isnull().sum()).rename(columns = {0: 'total'})\n\n# Create a percentage missing\nmissing['percent'] = missing['total'] / len(data)\n\nmissing.sort_values('percent', ascending = False).head(10).drop('Target')",
      "execution_count": null,
      "outputs": []
    },
    {
      "metadata": {
        "_uuid": "2cd925ae7d41ad34c0350793b1fb6154f146add4"
      },
      "cell_type": "markdown",
      "source": "We don't have to worry about the Target becuase we made that NaN for the test data. However, we do need to address the other 3 columns with a high percentage of missing values.\n\n### v18q1: Number of tablets\n\nLet's start with v18q1 which indicates the number of tablets owned by a family. We can look at the value counts of this variable. Since this is a household variable, it only makes sense to look at it on a household level, so we'll only select the rows for the head of household."
    },
    {
      "metadata": {
        "_uuid": "bff8f55a424c51abfc92af7a0877f1cb496d10bd"
      },
      "cell_type": "markdown",
      "source": "### Function to Plot Value Counts¶\nSince we might want to plot value counts for different columns, we can write a simple function that will do it for us!"
    },
    {
      "metadata": {
        "trusted": true,
        "_uuid": "c785e90e7953c780fcf8cebff7bf35a082c337c8"
      },
      "cell_type": "code",
      "source": "def plot_value_counts(df, col, heads_only = False):\n    \"\"\"Plot value counts of a column, optionally with only the heads of a household\"\"\"\n    # Select heads of household\n    if heads_only:\n        df = df.loc[df['parentesco1'] == 1].copy()\n        \n    plt.figure(figsize = (8, 6))\n    df[col].value_counts().sort_index().plot.bar(color = 'blue',\n                                                 edgecolor = 'k',\n                                                 linewidth = 2)\n    plt.xlabel(f'{col}'); plt.title(f'{col} Value Counts'); plt.ylabel('Count')\n    plt.show();",
      "execution_count": null,
      "outputs": []
    },
    {
      "metadata": {
        "trusted": true,
        "_uuid": "cd85fa28b41ac19d25cecea05c8baae22de9f8bd"
      },
      "cell_type": "code",
      "source": "plot_value_counts(heads, 'v18q1')",
      "execution_count": null,
      "outputs": []
    },
    {
      "metadata": {
        "_uuid": "83f8cd9536c97f1785f7b9689ade2b21f8eecc15"
      },
      "cell_type": "markdown",
      "source": "It looks like the most common number of tablets to own is 1 if we go only by the data that is present. However, we also need to think about the data that is missing. In this case, it could be that families with a nan in this category just do not own a tablet! If we look at the data definitions, we see that v18q indicates whether or not a family owns a tablet. We should investigate this column combined with the number of tablets to see if our hypothesis holds.\n\nWe can groupby the value of v18q (which is 1 for owns a tablet and 0 for does not) and then calculate the number of null values for v18q1. This will tell us if the null values represent that the family does not own a tablet."
    },
    {
      "metadata": {
        "trusted": true,
        "_uuid": "c7ce13d1665b94cfe99a6f04baaf49e7e2767f55"
      },
      "cell_type": "code",
      "source": "heads.groupby('v18q')['v18q1'].apply(lambda x: x.isnull().sum())",
      "execution_count": null,
      "outputs": []
    },
    {
      "metadata": {
        "_uuid": "d274644e1b8decf7f0e02dda3c2e50447cb60a00"
      },
      "cell_type": "markdown",
      "source": "Well, that solves the issue! Every family that has nan for v18q1 does not own a tablet. Therefore, we can fill in this missing value with zero."
    },
    {
      "metadata": {
        "trusted": true,
        "_uuid": "ca5b398f303fb8b2fa64b15f973b011f07b0701a"
      },
      "cell_type": "code",
      "source": "data['v18q1'] = data['v18q1'].fillna(0)",
      "execution_count": null,
      "outputs": []
    },
    {
      "metadata": {
        "_uuid": "cfb169b71633989e7441621a3ebfddbaf6253e11"
      },
      "cell_type": "markdown",
      "source": "### v2a1: Monthly rent payment\n\nThe next missing column is v2a1 which represents the montly rent payment.\n\nIn addition to looking at the missing values of the monthly rent payment, it will be interesting to also look at the distribution of tipovivi_, the columns showing the ownership/renting status of the home. For this plot, we show the ownership status of those homes with a nan for the monthyl rent payment."
    },
    {
      "metadata": {
        "trusted": true,
        "_uuid": "d76bef80228b32db93fc28d3a1e70166507a36e4"
      },
      "cell_type": "code",
      "source": "# Variables indicating home ownership\nown_variables = [x for x in data if x.startswith('tipo')]\n\n\n# Plot of the home ownership variables for home missing rent payments\ndata.loc[data['v2a1'].isnull(), own_variables].sum().plot.bar(figsize = (10, 8),\n                                                                        color = 'green',\n                                                              edgecolor = 'k', linewidth = 2);\nplt.xticks([0, 1, 2, 3, 4],\n           ['Owns and Paid Off', 'Owns and Paying', 'Rented', 'Precarious', 'Other'],\n          rotation = 60)\nplt.title('Home Ownership Status for Households Missing Rent Payments', size = 18);",
      "execution_count": null,
      "outputs": []
    },
    {
      "metadata": {
        "_uuid": "5bfc428de3c31fe5e099a8a2cceb5c5272480d90"
      },
      "cell_type": "markdown",
      "source": "The meaning of the home ownership variables is below:\n\n- tipovivi1, =1 own and fully paid house\n- tipovivi2, \"=1 own,  paying in installments\"\n- tipovivi3, =1 rented\n- tipovivi4, =1 precarious\n- tipovivi5, \"=1 other(assigned,  borrowed)\""
    },
    {
      "metadata": {
        "_uuid": "fab0fa8f9d29d15599c0fdf2cf37e8eeea18dc60"
      },
      "cell_type": "markdown",
      "source": "We've solved the issue! Well, mostly: the households that do not have a monthly rent payment generally own their own home. In a few other situations, we are not sure of the reason for the missing information.\n\nFor the houses that are owned and have a missing monthly rent payment, we can set the value of the rent payment to zero. For the other homes, we can leave the missing values to be imputed but we'll add a flag (Boolean) column indicating that these households had missing values."
    },
    {
      "metadata": {
        "trusted": true,
        "_uuid": "96690e94441cb97434bc66536a18c37258a62db4"
      },
      "cell_type": "code",
      "source": "# Fill in households that own the house with 0 rent payment\ndata.loc[(data['tipovivi1'] == 1), 'v2a1'] = 0\n\n# Create missing rent payment column\ndata['v2a1-missing'] = data['v2a1'].isnull()\n\ndata['v2a1-missing'].value_counts()",
      "execution_count": null,
      "outputs": []
    },
    {
      "metadata": {
        "_uuid": "1f9c226686904a35e214ffb41ab903905eb16210"
      },
      "cell_type": "markdown",
      "source": "### rez_esc: years behind in school\n\nThe last column with a high percentage of missing values is rez_esc indicating years behind in school. For the families with a null value, is possible that they have no children currently in school. Let's test this out by finding the ages of those who have a missing value in this column and the ages of those who do not have a missing value."
    },
    {
      "metadata": {
        "trusted": true,
        "_uuid": "23931f5eba8c5433c7baefb6b5e383c8157935f1"
      },
      "cell_type": "code",
      "source": "data.loc[data['rez_esc'].notnull()]['age'].describe()",
      "execution_count": null,
      "outputs": []
    },
    {
      "metadata": {
        "_uuid": "05363ad347877ec1968f4c2daafe0f1bb6d48bf1"
      },
      "cell_type": "markdown",
      "source": "What this tells us is that the oldest age with a missing value is 17. For anyone older than this, maybe we can assume that they are simply not in school. Let's look at the ages of those who have a missing value."
    },
    {
      "metadata": {
        "trusted": true,
        "_uuid": "b2935bc84d508ff752b824cde24f554b3d6c6801"
      },
      "cell_type": "code",
      "source": "data.loc[data['rez_esc'].isnull()]['age'].describe()",
      "execution_count": null,
      "outputs": []
    },
    {
      "metadata": {
        "_uuid": "193cf36e62355f999267ece6a7472e4a794329e1"
      },
      "cell_type": "markdown",
      "source": "If we read through some of the discussions for this competition, we learn that this variable is only defined for individuals between 7 and 19. Anyone younger or older than this range presumably has no years behind and therefore the value should be set to 0. For this variable, if the individual is over 19 and they have a missing value, or if they are younger than 7 and have a missing value we can set it to zero. For anyone else, we'll leave the value to be imputed and add a boolean flag."
    },
    {
      "metadata": {
        "trusted": true,
        "_uuid": "8469d261fb7d5e0bddb81f7b9ead184bfd1647a2"
      },
      "cell_type": "code",
      "source": "# If individual is over 19 or younger than 7 and missing years behind, set it to 0\ndata.loc[((data['age'] > 19) | (data['age'] < 7)) & (data['rez_esc'].isnull()), 'rez_esc'] = 0\n\n# Add a flag for those between 7 and 19 with a missing value\ndata['rez_esc-missing'] = data['rez_esc'].isnull()\n",
      "execution_count": null,
      "outputs": []
    },
    {
      "metadata": {
        "_uuid": "7db2db17fe514ab922fcf26e0a15aa8ef7511a67"
      },
      "cell_type": "markdown",
      "source": "There is also one outlier in the rez_esc column. Again, if we read through the competition discussions, we learn that the maximum value for this variable is 5. Therefore, any values above 5 should be set to 5."
    },
    {
      "metadata": {
        "trusted": true,
        "_uuid": "03e3bd39385724529723e75e36b03d4e1c2cbced"
      },
      "cell_type": "code",
      "source": "data.loc[data['rez_esc'] > 5, 'rez_esc'] = 5",
      "execution_count": null,
      "outputs": []
    },
    {
      "metadata": {
        "_uuid": "df6cc1dbbe2684ca3b2099ed9b66fa6eba99287f"
      },
      "cell_type": "markdown",
      "source": "### Plot Two Categorical Variables\nTo show how two categorical variables interact with one another, there are a number of plotting options: scatterplots, faceted bar plots, boxplots, etc. I wasn't satisfied with any of these choices so I wrote the function below, which essentially is a scatterplot of two categoricals where the size of the points represent the percentage of a given y-value represented by each x-value."
    },
    {
      "metadata": {
        "trusted": true,
        "_uuid": "56eb663cad3611b7fadc36d6a6bbcdb143b0cbfe"
      },
      "cell_type": "code",
      "source": "# Function for better scatter plot\ndef plot_categoricals(x, y, data, annotate = True):\n    \"\"\"Plot counts of two categoricals.\n    Size is raw count for each grouping.\n    Percentages are for a given value of y.\"\"\"\n    \n    # Raw counts \n    raw_counts = pd.DataFrame(data.groupby(y)[x].value_counts(normalize = False))\n    raw_counts = raw_counts.rename(columns = {x: 'raw_count'})\n    \n    # Calculate counts for each group of x and y\n    counts = pd.DataFrame(data.groupby(y)[x].value_counts(normalize = True))\n    \n    # Rename the column and reset the index\n    counts = counts.rename(columns = {x: 'normalized_count'}).reset_index()\n    counts['percent'] = 100 * counts['normalized_count']\n    \n    # Add the raw count\n    counts['raw_count'] = list(raw_counts['raw_count'])\n    \n    plt.figure(figsize = (14, 10))\n    # Scatter plot sized by percent\n    plt.scatter(counts[x], counts[y], edgecolor = 'k', color = 'lightgreen',\n                s = 100 * np.sqrt(counts['raw_count']), marker = 'o',\n                alpha = 0.6, linewidth = 1.5)\n    \n    if annotate:\n        # Annotate the plot with text\n        for i, row in counts.iterrows():\n            # Put text with appropriate offsets\n            plt.annotate(xy = (row[x] - (1 / counts[x].nunique()), \n                               row[y] - (0.15 / counts[y].nunique())),\n                         color = 'navy',\n                         s = f\"{round(row['percent'], 1)}%\")\n        \n    # Set tick marks\n    plt.yticks(counts[y].unique())\n    plt.xticks(counts[x].unique())\n    \n    # Transform min and max to evenly space in square root domain\n    sqr_min = int(np.sqrt(raw_counts['raw_count'].min()))\n    sqr_max = int(np.sqrt(raw_counts['raw_count'].max()))\n    \n    # 5 sizes for legend\n    msizes = list(range(sqr_min, sqr_max,\n                        int(( sqr_max - sqr_min) / 5)))\n    markers = []\n    \n    # Markers for legend\n    for size in msizes:\n        markers.append(plt.scatter([], [], s = 100 * size, \n                                   label = f'{int(round(np.square(size) / 100) * 100)}', \n                                   color = 'lightgreen',\n                                   alpha = 0.6, edgecolor = 'k', linewidth = 1.5))\n        \n    # Legend and formatting\n    plt.legend(handles = markers, title = 'Counts',\n               labelspacing = 3, handletextpad = 2,\n               fontsize = 16,\n               loc = (1.10, 0.19))\n    \n    plt.annotate(f'* Size represents raw count while % is for a given y value.',\n                 xy = (0, 1), xycoords = 'figure points', size = 10)\n    \n    # Adjust axes limits\n    plt.xlim((counts[x].min() - (6 / counts[x].nunique()), \n              counts[x].max() + (6 / counts[x].nunique())))\n    plt.ylim((counts[y].min() - (4 / counts[y].nunique()), \n              counts[y].max() + (4 / counts[y].nunique())))\n    plt.grid(None)\n    plt.xlabel(f\"{x}\"); plt.ylabel(f\"{y}\"); plt.title(f\"{y} vs {x}\");",
      "execution_count": null,
      "outputs": []
    },
    {
      "metadata": {
        "trusted": true,
        "_uuid": "f87d163f0d79e4533737e6d8e3c5debc165eedeb"
      },
      "cell_type": "code",
      "source": "plot_categoricals('rez_esc', 'Target', data);",
      "execution_count": null,
      "outputs": []
    },
    {
      "metadata": {
        "_uuid": "e56a1322304597e321b5dba36f48cf4b93919c96"
      },
      "cell_type": "markdown",
      "source": "The size of the markers represents the raw count. To read the plot, choose a given y-value and then read across the row. For example, with a poverty level of 1, 93% of individuals have no years behind with a total count of around 800 individuals and about 0.4% of individuals are 5 years behind with about 50 total individuals in this category. This plot attempts to show both the overall counts and the within category proportion; it's not perfect , but I gave it a shot!"
    },
    {
      "metadata": {
        "trusted": true,
        "_uuid": "3b93661e5f7a37d550ccd4c31c36b16e51e9ec8d"
      },
      "cell_type": "code",
      "source": "# Poverty vs years of schooling\nplot_categoricals('escolari', 'Target', data, annotate = False)",
      "execution_count": null,
      "outputs": []
    },
    {
      "metadata": {
        "_uuid": "016ea8a31063bf0ad1175557415573cb1b2f2948"
      },
      "cell_type": "markdown",
      "source": "The remaining missing values in each column will be filled in, a process known as Imputation. There are several types of imputation commonly used, and one of the simplest and most effective methods is to fill in the missing values with the median of the column."
    },
    {
      "metadata": {
        "_uuid": "19d851107600265e55f9a76aa4d817c817d1016d"
      },
      "cell_type": "markdown",
      "source": "As a final step with the missing values, we can plot the distribution of target for the case where either of these values are missing."
    },
    {
      "metadata": {
        "trusted": true,
        "_uuid": "f9356daef51eef9e0389b69bfd52a0ac1ef8b94d"
      },
      "cell_type": "code",
      "source": "plot_value_counts(data[(data['rez_esc-missing'] == 1)], \n                  'Target')",
      "execution_count": null,
      "outputs": []
    },
    {
      "metadata": {
        "_uuid": "75e7eb63b7c0f9a6c86b41742abb48906dd5a111"
      },
      "cell_type": "markdown",
      "source": "The distribution here seems to match that for all the data at large."
    },
    {
      "metadata": {
        "trusted": true,
        "_uuid": "cc4595d4730980b0fb5cbded2ec334170b1b32dc"
      },
      "cell_type": "code",
      "source": "plot_value_counts(data[(data['v2a1-missing'] == 1)], \n                  'Target')",
      "execution_count": null,
      "outputs": []
    },
    {
      "metadata": {
        "_uuid": "93c8ecc78f51aa2b11793973bebd87a1a293e696"
      },
      "cell_type": "markdown",
      "source": "This looks like it could be an indicator of more poverty given the higher prevalence of 2: moderate poverty.\n\nThis represents an important point: sometimes the missing information is just as important as the information you are given."
    },
    {
      "metadata": {
        "_uuid": "4e665b4ba20e26acf013580d4038526085d7a2b7"
      },
      "cell_type": "markdown",
      "source": "<a id='feature_engineering'></a>\n# Feature Engineering\n\nThere is plenty more exploratory data analysis we can do, but first we should work on consolidating our data at a household level. We already have some of the information for each household, but for training, we will need all of the information summarized for each household. This means grouping the individuals in a house (groupby) and performing an aggregation (agg) of the individual variables."
    },
    {
      "metadata": {
        "_uuid": "4aeea58c379557f0ba4c9d6d7d80aa75e2ca0f6b"
      },
      "cell_type": "markdown",
      "source": "### Column Definitions\nSometimes in data science we have to get our hands dirty digging through the data or do tedious tasks that take a lot of time. This is that part of the analysis: we have to define the columns that are at an individual level and at a household level using the data decsriptions. There is simply no other way to identify which variables at are the household level than to go through the variables themselves in the data description. Except, I've already done this for you, so all you have to do is copy and paste!\n\nWe'll define different variables because we need to treat some of them in a different manner. Once we have the variables defined on each level, we can work to start aggregating them as needed.\n\nThe process is as follows\n\n1. Break variables into household level and invididual level\n2. Find suitable aggregations for the individual level data\n    - Ordinal variables can use statistical aggregations\n    - Boolean variables can also be aggregated but with fewer stats\n3. Join the individual aggregations to the household level data\n\n### Define Variable Categories\nThere are several different categories of variables:\n\n1. Individual Variables: these are characteristics of each individual rather than the household\n    - Boolean: Yes or No (0 or 1)\n    - Ordered Discrete: Integers with an ordering\n2. Household variables\n    - Boolean: Yes or No\n    - Ordered Discrete: Integers with an ordering\n    - Continuous numeric\n3. Squared Variables: derived from squaring variables in the data\n4. Id variables: identifies the data and should not be used as features\n\nBelow we manually define the variables in each category. This is a little tedious, but also necessary."
    },
    {
      "metadata": {
        "trusted": true,
        "_uuid": "8ced4f8600c2d8c84727d856f3ae861514c555ad"
      },
      "cell_type": "code",
      "source": "id_ = ['Id', 'idhogar', 'Target']",
      "execution_count": null,
      "outputs": []
    },
    {
      "metadata": {
        "trusted": true,
        "_uuid": "68c9476015047a5e610af58162a60c8de92c9bfb"
      },
      "cell_type": "code",
      "source": "# Individual boolean\nind_bool = ['v18q', 'dis', 'male', 'female', 'estadocivil1', 'estadocivil2', 'estadocivil3', \n            'estadocivil4', 'estadocivil5', 'estadocivil6', 'estadocivil7', \n            'parentesco1', 'parentesco2',  'parentesco3', 'parentesco4', 'parentesco5', \n            'parentesco6', 'parentesco7', 'parentesco8',  'parentesco9', 'parentesco10', \n            'parentesco11', 'parentesco12', 'instlevel1', 'instlevel2', 'instlevel3', \n            'instlevel4', 'instlevel5', 'instlevel6', 'instlevel7', 'instlevel8', \n            'instlevel9', 'mobilephone', 'rez_esc-missing']\n\n# Individual Numbers\nind_ordered = ['rez_esc', 'escolari', 'age']",
      "execution_count": null,
      "outputs": []
    },
    {
      "metadata": {
        "trusted": true,
        "_uuid": "14de07ab967558de01e9e6cd8d5976bee8a7ac43"
      },
      "cell_type": "code",
      "source": "# Household boolean\nhh_bool = ['hacdor', 'hacapo', 'v14a', 'refrig', 'paredblolad', 'paredzocalo', \n           'paredpreb','pisocemento', 'pareddes', 'paredmad',\n           'paredzinc', 'paredfibras', 'paredother', 'pisomoscer', 'pisoother', \n           'pisonatur', 'pisonotiene', 'pisomadera',\n           'techozinc', 'techoentrepiso', 'techocane', 'techootro', 'cielorazo', \n           'abastaguadentro', 'abastaguafuera', 'abastaguano',\n            'public', 'planpri', 'noelec', 'coopele', 'sanitario1', \n           'sanitario2', 'sanitario3', 'sanitario5',   'sanitario6',\n           'energcocinar1', 'energcocinar2', 'energcocinar3', 'energcocinar4', \n           'elimbasu1', 'elimbasu2', 'elimbasu3', 'elimbasu4', \n           'elimbasu5', 'elimbasu6', 'epared1', 'epared2', 'epared3',\n           'etecho1', 'etecho2', 'etecho3', 'eviv1', 'eviv2', 'eviv3', \n           'tipovivi1', 'tipovivi2', 'tipovivi3', 'tipovivi4', 'tipovivi5', \n           'computer', 'television', 'lugar1', 'lugar2', 'lugar3',\n           'lugar4', 'lugar5', 'lugar6', 'area1', 'area2', 'v2a1-missing']\n\n# Household numbers\nhh_ordered = [ 'rooms', 'r4h1', 'r4h2', 'r4h3', 'r4m1','r4m2','r4m3', 'r4t1',  'r4t2', \n              'r4t3', 'v18q1', 'tamhog','tamviv','hhsize','hogar_nin',\n              'hogar_adul','hogar_mayor','hogar_total',  'bedrooms', 'qmobilephone']\n\n# Household continuous numbers\nhh_cont = ['v2a1', 'dependency', 'edjefe', 'edjefa', 'meaneduc', 'overcrowding']",
      "execution_count": null,
      "outputs": []
    },
    {
      "metadata": {
        "trusted": true,
        "_uuid": "0af1db922809cbb399fa219ef03afd65925b6fe3"
      },
      "cell_type": "code",
      "source": "# Squared Variables\nsqr_ = ['SQBescolari', 'SQBage', 'SQBhogar_total', 'SQBedjefe', \n        'SQBhogar_nin', 'SQBovercrowding', 'SQBdependency', 'SQBmeaned', 'agesq']",
      "execution_count": null,
      "outputs": []
    },
    {
      "metadata": {
        "_uuid": "23c1f55954fe6ab7bce762f13024e26fae81065e"
      },
      "cell_type": "markdown",
      "source": "Let's make sure we covered all of the variables and didn't repeat any."
    },
    {
      "metadata": {
        "trusted": true,
        "_uuid": "92380330dd89425d22144e7e92f8ab453efa43d1"
      },
      "cell_type": "code",
      "source": "x = ind_bool + ind_ordered + id_ + hh_bool + hh_ordered + hh_cont + sqr_\n\nfrom collections import Counter\n\nprint('There are no repeats: ', np.all(np.array(list(Counter(x).values())) == 1))\nprint('We covered every variable: ', len(x) == data.shape[1])",
      "execution_count": null,
      "outputs": []
    },
    {
      "metadata": {
        "_uuid": "71b01c73bb8830f16214ebbc340278e89f3e76b3"
      },
      "cell_type": "markdown",
      "source": "### Squared Variables\nFirst, the easiest step: we'll remove all of the squared variables. Sometimes variables are squared or transformed as part of feature engineering because it can help linear models learn relationships that are non-linear. However, since we will be using more complex models, these squared features are redundant. They are highly correlated with the non-squared version, and hence can actually hurt our model by adding irrelevant information and also slowing down training.\n\nFor an example, let's take a look at SQBage vs age."
    },
    {
      "metadata": {
        "trusted": true,
        "_uuid": "8d9283c06e32545ed8c2e2cea1ea198a9b6107d1"
      },
      "cell_type": "code",
      "source": "sns.lmplot('age', 'SQBage', data = data, fit_reg=False);\nplt.title('Squared Age versus Age');",
      "execution_count": null,
      "outputs": []
    },
    {
      "metadata": {
        "_uuid": "6d1ff169903bf9dd814e57e1ec3fdc76ebc9fac9"
      },
      "cell_type": "markdown",
      "source": "These variables are highly correlated, and we don't need to keep both in our data."
    },
    {
      "metadata": {
        "trusted": true,
        "_uuid": "e2f63460e4038424754f3f8d8f6cbe48d003e295"
      },
      "cell_type": "code",
      "source": "# Remove squared variables\ndata = data.drop(columns = sqr_)\ndata.shape",
      "execution_count": null,
      "outputs": []
    },
    {
      "metadata": {
        "_uuid": "56d5c59caad0a24a35b85f606e1de3893e493d24"
      },
      "cell_type": "markdown",
      "source": "### Id Variables\nThese are pretty simple: they will be kept as is in the data since we need them for identification."
    },
    {
      "metadata": {
        "_uuid": "bbddacbf44e3aa93db6afbd2dc9c29ad46a85585"
      },
      "cell_type": "markdown",
      "source": "### Household Level Variables\nFirst let's subset to the heads of household and then to the household level variables."
    },
    {
      "metadata": {
        "trusted": true,
        "_uuid": "f98cd30fb48551a555ca6da1734e6f4ca6cc977b"
      },
      "cell_type": "code",
      "source": "heads = data.loc[data['parentesco1'] == 1, :]\nheads = heads[id_ + hh_bool + hh_cont + hh_ordered]\nheads.shape",
      "execution_count": null,
      "outputs": []
    },
    {
      "metadata": {
        "_uuid": "d0d15b75acdeddc414504d4c2fae6b087b1ccd7b"
      },
      "cell_type": "markdown",
      "source": "For most of the household level variables, we can simply keep them as is: since we want to make predictions for each household, we use these variables as features. However, we can also remove some redundant variables and also add in some more features derived from existing data."
    },
    {
      "metadata": {
        "_uuid": "368a1822c8c29a9000cfd20830a2844a8ef2e2e3"
      },
      "cell_type": "markdown",
      "source": "### Redundant Household Variables\nLet's take a look at the correlations between all of the household variables. If there are any that are too highly correlated, then we might want to remove one of the pair of highly correlated variables.\n\nThe following code identifies any variables with a greater than 0.95 absolute magnitude correlation."
    },
    {
      "metadata": {
        "trusted": true,
        "_uuid": "0d3a9a071352127fb016efb22dc42c06ec5250b2"
      },
      "cell_type": "code",
      "source": "## Code to find highly corelated variables\n# Create correlation matrix\ncorr_matrix = heads.corr()\n\n# Select upper triangle of correlation matrix\nupper = corr_matrix.where(np.triu(np.ones(corr_matrix.shape), k=1).astype(np.bool))\n\n# Find index of feature columns with correlation greater than 0.95\nto_drop = [column for column in upper.columns if any(abs(upper[column]) > 0.95)]\n\nto_drop",
      "execution_count": null,
      "outputs": []
    },
    {
      "metadata": {
        "_uuid": "479ca3b6edc575c853659e926ba3921e01448651"
      },
      "cell_type": "markdown",
      "source": "These show one out of each pair of correlated variables. To find the other pair, we can subset the corr_matrix."
    },
    {
      "metadata": {
        "trusted": true,
        "_uuid": "93fc29bf3513c119b0a7ea19b848ac1fcbb9944b"
      },
      "cell_type": "code",
      "source": "corr_matrix.loc[corr_matrix['tamhog'].abs() > 0.9, corr_matrix['tamhog'].abs() > 0.9]",
      "execution_count": null,
      "outputs": []
    },
    {
      "metadata": {
        "trusted": true,
        "_uuid": "41fd21b5df93d99a6a24564143d03574f45cd97d"
      },
      "cell_type": "code",
      "source": "# Lets look at the heatmap to see the corelation\nsns.heatmap(corr_matrix.loc[corr_matrix['tamhog'].abs() > 0.9, corr_matrix['tamhog'].abs() > 0.9],\n            annot=True, cmap = plt.cm.autumn_r, fmt='.3f');",
      "execution_count": null,
      "outputs": []
    },
    {
      "metadata": {
        "_uuid": "3fcc40d5d49365ea9b8c9b2121d5887419a6255c"
      },
      "cell_type": "markdown",
      "source": "There are several variables here having to do with the size of the house:\n\n- r4t3, Total persons in the household\n- tamhog, size of the household\n- tamviv, number of persons living in the household\n- hhsize, household size\n- hogar_total, # of total individuals in the household\n\nThese variables are all highly correlated with one another. In fact, hhsize has a perfect correlation with tamhog and hogar_total.\nWe will remove these two variables because the information is redundant. We can also remove r4t3 because it has a near perfect correlation with hhsize.\nWe wil drop **tamhog,  hogar_total,  r4t3**\n\ntamviv is not necessarily the same as hhsize because there might be family members that are not living in the household. Let's visualize this difference in a scatterplot."
    },
    {
      "metadata": {
        "trusted": true,
        "_uuid": "2b87eb32f6987bc44ebe990ecc119497fe6a57f0"
      },
      "cell_type": "code",
      "source": "heads = heads.drop(columns = ['tamhog', 'hogar_total', 'r4t3'])",
      "execution_count": null,
      "outputs": []
    },
    {
      "metadata": {
        "trusted": true,
        "_uuid": "926ba6f3bde5d426f60fb363c57e27962cf19ce1"
      },
      "cell_type": "code",
      "source": "# Scatter plot of house size and number of people living in the household\nsns.lmplot('tamviv', 'hhsize', data, fit_reg=False, size = 8);\nplt.title('Household size vs number of persons living in the household');",
      "execution_count": null,
      "outputs": []
    },
    {
      "metadata": {
        "_uuid": "ae654b1d5998ed3e91b985f397f1bf44fa856e67"
      },
      "cell_type": "markdown",
      "source": "We see for a number of cases, there are more people living in the household than there are in the family. This gives us a good idea for a new feature: the difference between these two measurements!\n\nLet's make this new feature."
    },
    {
      "metadata": {
        "trusted": true,
        "_uuid": "67ef13b2997d6b580ee5e6899bea90c61bfcca94"
      },
      "cell_type": "code",
      "source": "# Difference between household size and number of people living in that house\nheads['hhsize-diff'] = heads['tamviv'] - heads['hhsize']\nplot_categoricals('hhsize-diff', 'Target', heads)",
      "execution_count": null,
      "outputs": []
    },
    {
      "metadata": {
        "_uuid": "066fef4b1f5770544c14fa180bcb7c6ffc6be678"
      },
      "cell_type": "markdown",
      "source": "Even though most households do not have a difference, there are a few that have more people living in the household than are members of the household.\n\nLet's move on to the other redundant variables. First we can look at coopele(electricity from cooperative)"
    },
    {
      "metadata": {
        "trusted": true,
        "_uuid": "05be5e97939c7da079e893dd8155ea93cb67e06e"
      },
      "cell_type": "code",
      "source": "corr_matrix.loc[corr_matrix['coopele'].abs() > 0.9, corr_matrix['coopele'].abs() > 0.9]",
      "execution_count": null,
      "outputs": []
    },
    {
      "metadata": {
        "_uuid": "5f121b2c5b2e9ca6de2b139236b9b665bbbca301"
      },
      "cell_type": "markdown",
      "source": "These variables indicate where the electricity in the home is coming from. There are four options, and the families that don't have one of these two options either have no electricity (noelec) or get it from a private plant (planpri)."
    },
    {
      "metadata": {
        "_uuid": "da40f0b9528cdf52194c74786df9585d1b3cd1e2"
      },
      "cell_type": "markdown",
      "source": "### Creating Ordinal Variable\nI'm going to compress these four variables into one by creating an ordinal variable. I'm going to choose the mapping myself, based on the data decriptions:"
    },
    {
      "metadata": {
        "_uuid": "93aac07f7a2abab5029c2b43c40eed699fac74fb"
      },
      "cell_type": "markdown",
      "source": "0: No electricity\n\n1: Electricity from cooperative\n\n2: Electricity from CNFL, ICA, ESPH/JASEC\n\n3: Electricity from private plant"
    },
    {
      "metadata": {
        "trusted": true,
        "_uuid": "f923c2ff94a965305f59b7ccdc58a9b853d95422"
      },
      "cell_type": "code",
      "source": "elec = []\n\n# Assign values\nfor i, row in heads.iterrows():\n    if row['noelec'] == 1:\n        elec.append(0)\n    elif row['coopele'] == 1:\n        elec.append(1)\n    elif row['public'] == 1:\n        elec.append(2)\n    elif row['planpri'] == 1:\n        elec.append(3)\n    else:\n        elec.append(np.nan)\n        \n# Record the new variable and missing flag\nheads['elec'] = elec\nheads['elec-missing'] = heads['elec'].isnull()",
      "execution_count": null,
      "outputs": []
    },
    {
      "metadata": {
        "trusted": true,
        "_uuid": "3b45c59b1f2b2690e961375ee14811164469e63d"
      },
      "cell_type": "code",
      "source": "plot_categoricals('elec', 'Target', heads)",
      "execution_count": null,
      "outputs": []
    },
    {
      "metadata": {
        "_uuid": "7fdcdbc4f9eb6129b2253cc9b41cf1aebe0d5826"
      },
      "cell_type": "markdown",
      "source": "We can see that for every value of the Target, the most common source of electricity is from one of the listed providers."
    },
    {
      "metadata": {
        "_uuid": "cf186801ec700d6f1d3319614256f6fdd5bc7c0f"
      },
      "cell_type": "markdown",
      "source": "The final redundant column is area2. This means the house is in a rural zone, but it's redundant because we have a column indicating if the house is in a urban zone. Therefore, we can drop this column."
    },
    {
      "metadata": {
        "trusted": true,
        "_uuid": "e3c7cc360c1d34ca0f1347d74c90b0992c63ca55"
      },
      "cell_type": "code",
      "source": "heads = heads.drop(columns = 'area2')\n\nheads.groupby('area1')['Target'].value_counts(normalize = True)",
      "execution_count": null,
      "outputs": []
    },
    {
      "metadata": {
        "_uuid": "bd100b52d35fa289541003a4dcd4afc8b1737ac4"
      },
      "cell_type": "markdown",
      "source": "It seems like households in an urban area (value of 1) are more likely to have lower poverty levels than households in a rural area (value of 0)."
    },
    {
      "metadata": {
        "_uuid": "cc413572495ff60bdb9db8aef74c00f9ea1a17d0"
      },
      "cell_type": "markdown",
      "source": "### Creating Ordinal Variables\nFor the walls, roof, and floor of the house, there are three columns each: the first indicating 'bad', the second 'regular', and the third 'good'. We could leave the variables as booleans, but to me it makes more sense to turn them into ordinal variables because there is an inherent order: bad < regular < good. To do this, we can simply find whichever column is non-zero for each household using np.argmax.\n\nOnce we have created the ordinal variable, we are able to drop the original variables."
    },
    {
      "metadata": {
        "trusted": true,
        "_uuid": "511187735505b8861fd39a12006d996911dea7b8"
      },
      "cell_type": "code",
      "source": "# Wall ordinal variable\nheads['walls'] = np.argmax(np.array(heads[['epared1', 'epared2', 'epared3']]),\n                           axis = 1)\n\n# heads = heads.drop(columns = ['epared1', 'epared2', 'epared3'])\nplot_categoricals('walls', 'Target', heads)",
      "execution_count": null,
      "outputs": []
    },
    {
      "metadata": {
        "trusted": true,
        "_uuid": "3631e8f7524521b5cd955e8433463012bb3863be"
      },
      "cell_type": "code",
      "source": "# Roof ordinal variable\nheads['roof'] = np.argmax(np.array(heads[['etecho1', 'etecho2', 'etecho3']]),\n                           axis = 1)\nheads = heads.drop(columns = ['etecho1', 'etecho2', 'etecho3'])\n\n# Floor ordinal variable\nheads['floor'] = np.argmax(np.array(heads[['eviv1', 'eviv2', 'eviv3']]),\n                           axis = 1)",
      "execution_count": null,
      "outputs": []
    },
    {
      "metadata": {
        "_uuid": "d36a191b11e325e5fa6d303f41dee6c0a20225f9"
      },
      "cell_type": "markdown",
      "source": "### Feature Construction\nIn addition to mapping variables to ordinal features, we can also create entirely new features from the existing data, known as feature construction. For example, we can add up the previous three features we just created to get an overall measure of the quality of the house's structure."
    },
    {
      "metadata": {
        "trusted": true,
        "_uuid": "0cdcbf459d3f3283f0ff112a9b2b90ac53928cd6"
      },
      "cell_type": "code",
      "source": "# Create new feature (overall quality of the house)\nheads['walls+roof+floor'] = heads['walls'] + heads['roof'] + heads['floor']\n\nplot_categoricals('walls+roof+floor', 'Target', heads, annotate=False)",
      "execution_count": null,
      "outputs": []
    },
    {
      "metadata": {
        "_uuid": "22d55259b1cc2e44920cfc6a4c71ddfecd123f4e"
      },
      "cell_type": "markdown",
      "source": "This new feature may be useful because it seems like a Target of 4 (the lowest poverty level) tends to have higher values of the 'house quality' variable. We can also look at this in a table to get the fine-grained details."
    },
    {
      "metadata": {
        "trusted": true,
        "_uuid": "ac76e8837afebf7ca5210f2213f53a2d7e77baaa"
      },
      "cell_type": "code",
      "source": "counts = pd.DataFrame(heads.groupby(['walls+roof+floor'])['Target'].value_counts(normalize = True)\n                     ).rename(columns = {'Target': 'Normalized Count'}).reset_index()\ncounts.head()",
      "execution_count": null,
      "outputs": []
    },
    {
      "metadata": {
        "_uuid": "c376b0a68524e2f27efd9dba4ac60353a6a57029"
      },
      "cell_type": "markdown",
      "source": "The next variable will be a warning about the quality of the house. It will be a negative value, with -1 point each for no toilet, electricity, floor, water service, and ceiling."
    },
    {
      "metadata": {
        "trusted": true,
        "_uuid": "152685203a58c6cc26a85b2db529ebe67bb70355"
      },
      "cell_type": "code",
      "source": "# No toilet, no electricity, no floor, no water service, no ceiling\nheads['warning'] = 1 * (heads['sanitario1'] + \n                         (heads['elec'] == 0) + \n                         heads['pisonotiene'] + \n                         heads['abastaguano'] + \n                         (heads['cielorazo'] == 0))",
      "execution_count": null,
      "outputs": []
    },
    {
      "metadata": {
        "_uuid": "a77469dce0f54ee35c4eaeda5dfa3c09c1721d64"
      },
      "cell_type": "markdown",
      "source": "We can keep using our plot_categoricals function to visualize these relationships, but seaborn also has a number of plotting options that can work with categoricals. One is the violinplot which shows the distribution of a variable on the y axis with the width of each plot showing the number of observations in that category."
    },
    {
      "metadata": {
        "trusted": true,
        "_uuid": "40fbc26e3b6197955cf9aa2aa507b88eb8401b54"
      },
      "cell_type": "code",
      "source": "# Ignore this plot\nplt.figure(figsize = (10, 6))\nsns.violinplot(x = 'warning', y = 'Target', data = heads);\nplt.title('Target vs Warning Variable');",
      "execution_count": null,
      "outputs": []
    },
    {
      "metadata": {
        "trusted": true,
        "_uuid": "8a7eee802f1b84862b764f68df949afa04a3fe2b"
      },
      "cell_type": "code",
      "source": "plot_categoricals('warning', 'Target', data = heads)",
      "execution_count": null,
      "outputs": []
    },
    {
      "metadata": {
        "_uuid": "77fc6b6757822ece067f0a7cd76e2488b40fe7e3"
      },
      "cell_type": "markdown",
      "source": "The violinplot is not great here because it smooths out the categorical variable with the effect that it looks as if the Target can take on lesser and greater values than in reality. Nonetheless, we can see a high concentration of households that have no warning signs and have the lowest level of poverty. It looks as if this may be a useful feature, but we can't know for sure until we get to modeling!"
    },
    {
      "metadata": {
        "_uuid": "fb451d94a31af6ddbddc33fe8879015b62ecfac8"
      },
      "cell_type": "markdown",
      "source": "The final household feature we can make for now is a bonus where a family gets a point for having a refrigerator, computer, tablet, or television.\n\n"
    },
    {
      "metadata": {
        "trusted": true,
        "_uuid": "421def74f743cd6c915f34693b43419a9b644d9b"
      },
      "cell_type": "code",
      "source": "# Owns a refrigerator, computer, tablet, and television\nheads['bonus'] = 1 * (heads['refrig'] + \n                      heads['computer'] + \n                      (heads['v18q1'] > 0) + \n                      heads['television'])\n\nsns.violinplot('bonus', 'Target', data = heads,\n                figsize = (10, 6));\nplt.title('Target vs Bonus Variable');",
      "execution_count": null,
      "outputs": []
    },
    {
      "metadata": {
        "_uuid": "1f53d7f08120a73d5a622c29f41ad674294f10c2"
      },
      "cell_type": "markdown",
      "source": "### Per Capita Features\nAdditional features we can make calculate the number of certain measurements for each person in the household\ntamviv -> Number of person living in the household"
    },
    {
      "metadata": {
        "trusted": true,
        "_uuid": "aa3d8cf88812caee884fc4c18e0fb0bd5edbda0f"
      },
      "cell_type": "code",
      "source": "heads['phones-per-capita'] = heads['qmobilephone'] / heads['tamviv']\nheads['tablets-per-capita'] = heads['v18q1'] / heads['tamviv']\nheads['rooms-per-capita'] = heads['rooms'] / heads['tamviv']\nheads['rent-per-capita'] = heads['v2a1'] / heads['tamviv']",
      "execution_count": null,
      "outputs": []
    },
    {
      "metadata": {
        "_uuid": "bdb65c74d18cfe9a3491b22f83a952b4192fbb15"
      },
      "cell_type": "markdown",
      "source": "## Exploring Household Variables\nAfter going to all the trouble of getting our features in order, now we can take a look at them in relation to the Target. We've already done a little of this, but now we can try to quantify relationships."
    },
    {
      "metadata": {
        "_uuid": "c7f30c3a4747913adbdc9000382a24556d451908"
      },
      "cell_type": "markdown",
      "source": "### Measuring Relationships\nThere are many ways for measuring relationships between two variables. Here we will examine two of these:\n\n1. The Pearson Correlation: from -1 to 1 measuring the linear relationship between two variables\n2. The Spearman Correlation: from -1 to 1 measuring the monotonic relationship between two variables\n\nThe Spearman correlation is 1 if as one variable increases, the other does as well, even if the relationship is not linear. On the other hand, the Pearson correlation can only be one if the increase is exactly linear. These are best illustrated by example."
    },
    {
      "metadata": {
        "trusted": true,
        "_uuid": "a5ee9bcb3c14ed4d5d6c05d2186a7aa84f91898d"
      },
      "cell_type": "code",
      "source": "# The spearmanr correlation\nfrom scipy.stats import spearmanr",
      "execution_count": null,
      "outputs": []
    },
    {
      "metadata": {
        "trusted": true,
        "_uuid": "0961963a8c23cebeaf7e8736794209cbd5cda346"
      },
      "cell_type": "code",
      "source": "# Function to plot spearman and pearson correlation\ndef plot_corrs(x, y):\n    \"\"\"Plot data and show the spearman and pearson correlation.\"\"\"\n    \n    # Calculate correlations\n    spr = spearmanr(x, y).correlation\n    pcr = np.corrcoef(x, y)[0, 1]\n    \n    # Scatter plot\n    data = pd.DataFrame({'x': x, 'y': y})\n    plt.figure( figsize = (6, 4))\n    sns.regplot('x', 'y', data = data, fit_reg = False);\n    plt.title(f'Spearman: {round(spr, 2)}; Pearson: {round(pcr, 2)}');",
      "execution_count": null,
      "outputs": []
    },
    {
      "metadata": {
        "trusted": true,
        "_uuid": "c3bb007ccba736fdc0252d007874b29a495f1a11"
      },
      "cell_type": "code",
      "source": "x = np.array(range(100))\ny = x ** 2\n\nplot_corrs(x, y)",
      "execution_count": null,
      "outputs": []
    },
    {
      "metadata": {
        "_uuid": "6b4f99eeeba07e13238aa6f0da69f2514a69a995"
      },
      "cell_type": "markdown",
      "source": "The Spearman correlation is often considered to be better for ordinal variables such as the Target or the years of education. Most relationshisp in the real world aren't linear, and although the Pearson correlation can be an approximation of how related two variables are, it's inexact and not the best method of comparison"
    },
    {
      "metadata": {
        "trusted": true,
        "_uuid": "681c5ae3e864450357c50a53d4bc870fbc9b29b4"
      },
      "cell_type": "code",
      "source": "x = np.array([1, 1, 1, 2, 3, 3, 4, 4, 4, 5, 5, 6, 7, 8, 8, 9, 9, 9])\ny = np.array([1, 2, 1, 1, 1, 1, 2, 2, 2, 2, 1, 3, 3, 2, 4, 2, 2, 4])\n\nplot_corrs(x, y)",
      "execution_count": null,
      "outputs": []
    },
    {
      "metadata": {
        "trusted": true,
        "_uuid": "e5e93741ddda66efb7e54422948df5757df0aaf0"
      },
      "cell_type": "code",
      "source": "#In most cases, the values are very similar.\nx = np.array(range(-19, 20))\ny = 2 * np.sin(x)\n\nplot_corrs(x, y)",
      "execution_count": null,
      "outputs": []
    },
    {
      "metadata": {
        "_uuid": "513e83840bf9cb62baea87de197a080b9d5c5933"
      },
      "cell_type": "markdown",
      "source": "First, we'll calculate the Pearson correlation of every variable with the Target."
    },
    {
      "metadata": {
        "trusted": true,
        "_uuid": "bb99ff8e9b68823c20fa54aa078a7db608c5c2c2"
      },
      "cell_type": "code",
      "source": "# Use only training data\ntrain_heads = heads.loc[heads['Target'].notnull(), :].copy()\n\npcorrs = pd.DataFrame(train_heads.corr()['Target'].sort_values()).rename(columns = {'Target': 'pcorr'}).reset_index()\npcorrs = pcorrs.rename(columns = {'index': 'feature'})\n\nprint('Most negatively correlated variables:')\nprint(pcorrs.head())\n\nprint('\\nMost positively correlated variables:')\nprint(pcorrs.dropna().tail())",
      "execution_count": null,
      "outputs": []
    },
    {
      "metadata": {
        "_uuid": "c8688eb233135f13bed88f686fb7d4091f3a2a1a"
      },
      "cell_type": "markdown",
      "source": "For the negative correlations, as we increase the variable, the Target decreases indicating the poverty severity increases. Therefore, as the warning increases, the poverty level also increases which makes sense because this was meant to show potential bad signs about a house. The hogar_nin is the number of children 0 - 19 in the family which also makes sense: younger children can be financial source of stress on a family leading to higher levels of poverty. Or, families with lower socioeconomic status have more children in the hopes that one of them will be able to succeed. Whatever the explanation, there is a real link between family size and poverty\n\nOn the other hand, for the positive correlations, a higher value means a higher value of Target indicating the poverty severity decreases. The most highly correlated household level variable is meaneduc, the average education level of the adults in the household. This relationship between education and poverty intuitively makes sense: greater levels of education generally correlate with lower levels of poverty. We don't necessarily know which causes which, but we do know these tend to move in the same direction.\n\nThe general guidelines for correlation values are below, but these will change depending on who you ask ([source](http://www.statstutor.ac.uk/resources/uploaded/pearsons.pdf) for these):\n\n- .00-.19 “very weak”\n- .20-.39 “weak”\n- .40-.59 “moderate”\n- .60-.79 “strong”\n- .80-1.0 “very strong”\n\nWhat these correlations show is that there are some weak relationships that hopefully our model will be able to use to learn a mapping from the features to the Target.\n\nNow we can move on to the Spearman correlation."
    },
    {
      "metadata": {
        "trusted": true,
        "_uuid": "e66f1dea6babb3aceeb17a1991cbae07a3ed83db"
      },
      "cell_type": "code",
      "source": "# Spearman correlation.\nfeats = []\nscorr = []\npvalues = []\n\n# Iterate through each column\nfor c in heads:\n    # Only valid for numbers\n    if heads[c].dtype != 'object':\n        feats.append(c)\n        \n        # Calculate spearman correlation\n        scorr.append(spearmanr(train_heads[c], train_heads['Target']).correlation)\n        pvalues.append(spearmanr(train_heads[c], train_heads['Target']).pvalue)\n\nscorrs = pd.DataFrame({'feature': feats, 'scorr': scorr, 'pvalue': pvalues}).sort_values('scorr')",
      "execution_count": null,
      "outputs": []
    },
    {
      "metadata": {
        "_uuid": "1009be97c0c7b3213a038fb39d6d2226a503149d"
      },
      "cell_type": "markdown",
      "source": "The Spearman correlation coefficient calculation also comes with a pvalue indicating the significance level of the relationship. Any pvalue less than 0.05 is genearally regarded as significant, although since we are doing multiple comparisons, we want to divide the p-value by the number of comparisons, a process known as the Bonferroni correction."
    },
    {
      "metadata": {
        "trusted": true,
        "_uuid": "5a899d5a32f28310cc5d314bcccbd75c6127f9b6"
      },
      "cell_type": "code",
      "source": "print('Most negative Spearman correlations:')\nprint(scorrs.head())\nprint('\\nMost positive Spearman correlations:')\nprint(scorrs.dropna().tail())",
      "execution_count": null,
      "outputs": []
    },
    {
      "metadata": {
        "_uuid": "8b74df2e37903807ef5d47cc7054a7d6cf926ad7"
      },
      "cell_type": "markdown",
      "source": "For the most part, the two methods of calculating correlations are in agreement. Just out of curiousity, we can look for the values that are furthest apart."
    },
    {
      "metadata": {
        "trusted": true,
        "_uuid": "7188e60d530a5dca0efe5d9a6f82390acc70001e"
      },
      "cell_type": "code",
      "source": "corrs = pcorrs.merge(scorrs, on = 'feature')\ncorrs['diff'] = corrs['pcorr'] - corrs['scorr']\n\ncorrs.sort_values('diff').head()",
      "execution_count": null,
      "outputs": []
    },
    {
      "metadata": {
        "trusted": true,
        "_uuid": "ed6d8b492ef65cb902467775d606cc96de53c2ec"
      },
      "cell_type": "code",
      "source": "corrs.sort_values('diff').dropna().tail()",
      "execution_count": null,
      "outputs": []
    },
    {
      "metadata": {
        "_uuid": "a7fbd4bc0f417519207db226c98537c3cf07b47a"
      },
      "cell_type": "markdown",
      "source": "The largest discrepancy in the correlations is dependency. We can make a scatterplot of the Target versus the dependency to visualize the relationship. We'll add a little jitter to the plot because these are both discrete variables."
    },
    {
      "metadata": {
        "trusted": true,
        "_uuid": "3def3e246c6d26784b9173620432e2e7b315d1a2"
      },
      "cell_type": "code",
      "source": "sns.lmplot('dependency', 'Target', fit_reg = True, data = train_heads, x_jitter=0.05, y_jitter=0.05);\nplt.title('Target vs Dependency');",
      "execution_count": null,
      "outputs": []
    },
    {
      "metadata": {
        "_uuid": "a882eed9241e2978211d8d1dcd545adb23b23015"
      },
      "cell_type": "markdown",
      "source": "It's hard to see the relationship, but it's slightly negative: as the dependency increases, the value of the Target decreases. This makes sense: the dependency is the number of dependent individuals divided by the number of non-dependents. As we increase this value, the poverty severty tends to increase: having more dependent family members (who usually are non-working) leads to higher levels of poverty because they must be supported by the non-dependent family members."
    },
    {
      "metadata": {
        "trusted": true,
        "_uuid": "83c9e24733bb701a966307aa6d7678f25c9191ab"
      },
      "cell_type": "code",
      "source": "sns.lmplot('rooms-per-capita', 'Target', fit_reg = True, data = train_heads, x_jitter=0.05, y_jitter=0.05);\nplt.title('Target vs Rooms Per Capita');",
      "execution_count": null,
      "outputs": []
    },
    {
      "metadata": {
        "_uuid": "b44a8f3e4d96e00340a71ac6b25eb8341431b6ee"
      },
      "cell_type": "markdown",
      "source": "### Correlation Heatmap\nOne of my favorite plots is the correlation heatmap because it shows a ton of info in one image. For the heatmap, we'll pick 7 variables and show the correlations between themselves and with the target."
    },
    {
      "metadata": {
        "trusted": true,
        "_uuid": "2dd9108f8e0456a457a5b621fd241f1e0840022d"
      },
      "cell_type": "code",
      "source": "variables = ['Target', 'dependency', 'warning', 'walls+roof+floor', 'meaneduc',\n             'floor', 'r4m1', 'overcrowding']\n\n# Calculate the correlations\ncorr_mat = train_heads[variables].corr().round(2)\n\n# Draw a correlation heatmap\nplt.rcParams['font.size'] = 18\nplt.figure(figsize = (12, 12))\nsns.heatmap(corr_mat, vmin = -0.5, vmax = 0.8, center = 0, \n            cmap = plt.cm.RdYlGn_r, annot = True);",
      "execution_count": null,
      "outputs": []
    },
    {
      "metadata": {
        "_uuid": "799d6ac37941509a6b4313e4c19b1e301d11cad5"
      },
      "cell_type": "markdown",
      "source": "This plot shows us that there are a number of variables that have a weak correlation with the Target. There are also high correlations between some variables (such as floor and walls+roof+floor) which could pose an issue because of collinearity."
    },
    {
      "metadata": {
        "_uuid": "0e06a3d65f33a0a582a4c54f136bb24f1e59e14e"
      },
      "cell_type": "markdown",
      "source": "### Features Plot\nFor the final exploration of the household level data, we can make a plot of some of the most correlated variables with the Target. This shows scatterplots on the upper triangle, kernel density estimate (kde) plots on the diagonal, and 2D KDE plots on the lower triangle."
    },
    {
      "metadata": {
        "trusted": true,
        "_uuid": "fb6597e2a6b97cee0bbe2724757cc61e2ad78a81"
      },
      "cell_type": "code",
      "source": "import warnings\nwarnings.filterwarnings('ignore')\n# Copy the data for plotting\nplot_data = train_heads[['Target', 'dependency', 'walls+roof+floor',\n                         'meaneduc', 'overcrowding']]\n\n# Create the pairgrid object\ngrid = sns.PairGrid(data = plot_data, size = 4, diag_sharey=False,\n                    hue = 'Target', hue_order = [4, 3, 2, 1], \n                    vars = [x for x in list(plot_data.columns) if x != 'Target'])\n\n# Upper is a scatter plot\ngrid.map_upper(plt.scatter, alpha = 0.8, s = 20)\n\n# Diagonal is a histogram\ngrid.map_diag(sns.kdeplot)\n\n# Bottom is density plot\ngrid.map_lower(sns.kdeplot, cmap = plt.cm.OrRd_r);\ngrid = grid.add_legend()\nplt.suptitle('Feature Plots Colored By Target', size = 32, y = 1.05);",
      "execution_count": null,
      "outputs": []
    },
    {
      "metadata": {
        "_uuid": "e125ad2978f39bb9582e524733a9f79d689c14a9"
      },
      "cell_type": "markdown",
      "source": "We'll leave the feature engineering of the household variables for now. Later, we can come back to this step if we are not pleased with the model performance."
    },
    {
      "metadata": {
        "trusted": true,
        "_uuid": "a5d9f31953a9a3dcea12cba838d506d5f51bb121"
      },
      "cell_type": "code",
      "source": "household_feats = list(heads.columns)",
      "execution_count": null,
      "outputs": []
    },
    {
      "metadata": {
        "_uuid": "08415401275b93ee07ab0b8ff4586530eed5b987"
      },
      "cell_type": "markdown",
      "source": "## Individual Level Variables\nThere are two types of individual level variables: Boolean (1 or 0 for True or False) and ordinal (discrete values with a meaningful ordering)"
    },
    {
      "metadata": {
        "trusted": true,
        "_uuid": "b3b8797e39abf4efc3413d17a78106c432baf299"
      },
      "cell_type": "code",
      "source": "ind = data[id_ + ind_bool + ind_ordered]\nind.shape",
      "execution_count": null,
      "outputs": []
    },
    {
      "metadata": {
        "_uuid": "136ca8a34d7b1a0fa0a429c4cde8ba01b3615c5d"
      },
      "cell_type": "markdown",
      "source": "### Redundant Individual Variables\nWe can do the same process we did with the household level variables to identify any redundant individual variables. We'll focus on any variables that have an absolute magnitude of the correlation coefficient greater than 0.95."
    },
    {
      "metadata": {
        "trusted": true,
        "_uuid": "e9018bcc1cbbd451e26d6ddcafe2f0dcdb3093c1"
      },
      "cell_type": "code",
      "source": "# Create correlation matrix\ncorr_matrix = ind.corr()\n\n# Select upper triangle of correlation matrix\nupper = corr_matrix.where(np.triu(np.ones(corr_matrix.shape), k=1).astype(np.bool))\n\n# Find index of feature columns with correlation greater than 0.95\nto_drop = [column for column in upper.columns if any(abs(upper[column]) > 0.95)]\n\nto_drop",
      "execution_count": null,
      "outputs": []
    },
    {
      "metadata": {
        "_uuid": "7e2341c40d68c6a58faa84e516fd47830ff20d6d"
      },
      "cell_type": "markdown",
      "source": "This is simply the opposite of male! We can remove the male flag."
    },
    {
      "metadata": {
        "trusted": true,
        "_uuid": "faa7f452dbc7c0e5c8b25d42e095bc70c6831a3d"
      },
      "cell_type": "code",
      "source": "ind = ind.drop(columns = 'male')",
      "execution_count": null,
      "outputs": []
    },
    {
      "metadata": {
        "_uuid": "fdb8a6a92b26e708622463c10e9b898c121729ba"
      },
      "cell_type": "markdown",
      "source": "### Creating Ordinal Variables\nMuch as we did with the household level data, we can map existing columns to an ordinal variable. Here we will focus on the \n\ninstlevel_ variables which indicate the amount of education an individual has from \n\ninstlevel1: no level of education to \n\ninstlevel9: postgraduate education.\n\nTo create the ordinal variable, for each individual, we will simply find which column is non-zero. The education has an inherent ordering (higher is better) so this conversion to an ordinal variable makes sense in the problem context."
    },
    {
      "metadata": {
        "trusted": true,
        "_uuid": "5e3b5634f55e6ae2ece5fb103aa4eb88d6b1a021"
      },
      "cell_type": "code",
      "source": "ind[[c for c in ind if c.startswith('instl')]].head()",
      "execution_count": null,
      "outputs": []
    },
    {
      "metadata": {
        "trusted": true,
        "_uuid": "1d44af537294195e7d14d066e1f39c4a35de1d30"
      },
      "cell_type": "code",
      "source": "ind['inst'] = np.argmax(np.array(ind[[c for c in ind if c.startswith('instl')]]), axis = 1)\n\nplot_categoricals('inst', 'Target', ind, annotate = False);",
      "execution_count": null,
      "outputs": []
    },
    {
      "metadata": {
        "_uuid": "5350bdea53bb2898409fe2da1d8228d568e4235b"
      },
      "cell_type": "markdown",
      "source": "Higher levels of education seem to correspond to less extreme levels of poverty. We do need to keep in mind this is on an individual level though and we eventually will have to aggregate this data at the household level."
    },
    {
      "metadata": {
        "trusted": true,
        "_uuid": "9a051ea5e6e98dcb5a0ae9dba7b30d5747ec0faf"
      },
      "cell_type": "code",
      "source": "plt.figure(figsize = (10, 8))\nsns.violinplot(x = 'Target', y = 'inst', data = ind);\nplt.title('Education Distribution by Target');",
      "execution_count": null,
      "outputs": []
    },
    {
      "metadata": {
        "trusted": true,
        "_uuid": "8fc385def398bf6230ad9aa5fec5fca64f73f557"
      },
      "cell_type": "code",
      "source": "ind.shape",
      "execution_count": null,
      "outputs": []
    },
    {
      "metadata": {
        "_uuid": "d7e24577e8d85e7c9585901daa46b3cf87925739"
      },
      "cell_type": "markdown",
      "source": "### Feature Construction\nWe can make a few features using the existing data. For example, we can divide the years of schooling by the age."
    },
    {
      "metadata": {
        "trusted": true,
        "_uuid": "1e6193744549694a4cbc15d5026bcfa3b0af5a57"
      },
      "cell_type": "code",
      "source": "ind['escolari/age'] = ind['escolari'] / ind['age']\n\nplt.figure(figsize = (10, 8))\nsns.violinplot('Target', 'escolari/age', data = ind);",
      "execution_count": null,
      "outputs": []
    },
    {
      "metadata": {
        "_uuid": "364dc9f0add8028de69681cf7e7a03447cb7032b"
      },
      "cell_type": "markdown",
      "source": "We can also take our new variable, inst, and divide this by the age. The final variable we'll name tech: this represents the combination of tablet and mobile phones."
    },
    {
      "metadata": {
        "trusted": true,
        "_uuid": "ef0939e5d295726b5b43c1d070c08a7c2faeb88d"
      },
      "cell_type": "code",
      "source": "ind['inst/age'] = ind['inst'] / ind['age']\nind['tech'] = ind['v18q'] + ind['mobilephone']\nind['tech'].describe()",
      "execution_count": null,
      "outputs": []
    },
    {
      "metadata": {
        "_uuid": "3d0d4b5c82233217f673a1c8bf253a9260b5a1f6"
      },
      "cell_type": "markdown",
      "source": "## Feature Engineering through Aggregations\nIn order to incorporate the individual data into the household data, we need to aggregate it for each household. The simplest way to do this is to groupby the family id idhogar and then agg the data. For the aggregations for ordered or continuous variables, we can use six, five of which are built in to pandas, and one of which we define ourselves range_. The boolean aggregations can be the same, but this will create many redundant columns which we will then need to drop. For this case, we'll use the same aggregations and then go back and drop the redundant columns."
    },
    {
      "metadata": {
        "trusted": true,
        "_uuid": "95643ecc84723bbe2c6b253b6b069c1cfce95a22"
      },
      "cell_type": "code",
      "source": "# Define custom function\nrange_ = lambda x: x.max() - x.min()\nrange_.__name__ = 'range_'\n\n# Group and aggregate\nind_agg = ind.drop(columns = 'Target').groupby('idhogar').agg(['min', 'max', 'sum', 'count', 'std', range_])\nind_agg.head()",
      "execution_count": null,
      "outputs": []
    },
    {
      "metadata": {
        "_uuid": "1d275d63eedcfe9832b5eb196d6ec8efdbfbf49a"
      },
      "cell_type": "markdown",
      "source": "With just that one line, we go from 30 features to 180. Next we can rename the columns to make it easier to keep track."
    },
    {
      "metadata": {
        "trusted": true,
        "_uuid": "91112e1fa4d3d73f9c34e406ba4cdfdd65432217"
      },
      "cell_type": "code",
      "source": "# Rename the columns\nnew_col = []\nfor c in ind_agg.columns.levels[0]:\n    for stat in ind_agg.columns.levels[1]:\n        new_col.append(f'{c}-{stat}')\n        \nind_agg.columns = new_col\nind_agg.head()",
      "execution_count": null,
      "outputs": []
    },
    {
      "metadata": {
        "trusted": true,
        "_uuid": "7d7353689d45830aa6c18e2a0e6a7fa3e02753cb"
      },
      "cell_type": "code",
      "source": "ind_agg.iloc[:, [0, 1, 2, 3, 6, 7, 8, 9]].head()",
      "execution_count": null,
      "outputs": []
    },
    {
      "metadata": {
        "_uuid": "676f4dbe4c3935019e255ba08377b4ce057d56a4"
      },
      "cell_type": "markdown",
      "source": "### Feature Selection\nAs a first round of feature selection, we can remove one out of every pair of variables with a correlation greater than 0.95."
    },
    {
      "metadata": {
        "trusted": true,
        "_uuid": "0654c3812fb6a479a4f97d921b64c909502ce86f"
      },
      "cell_type": "code",
      "source": "# Create correlation matrix\ncorr_matrix = ind_agg.corr()\n\n# Select upper triangle of correlation matrix\nupper = corr_matrix.where(np.triu(np.ones(corr_matrix.shape), k=1).astype(np.bool))\n\n# Find index of feature columns with correlation greater than 0.95\nto_drop = [column for column in upper.columns if any(abs(upper[column]) > 0.95)]\n\nprint(f'There are {len(to_drop)} correlated columns to remove.')",
      "execution_count": null,
      "outputs": []
    },
    {
      "metadata": {
        "_uuid": "8963c1c9f19e0e8c06745c2590bb9f782a3335a0"
      },
      "cell_type": "markdown",
      "source": "We'll drop the columns and then merge with the heads data to create a final dataframe."
    },
    {
      "metadata": {
        "trusted": true,
        "_uuid": "464f8fb08e33f77a4a3ff0e15a34e752b8dcae90"
      },
      "cell_type": "code",
      "source": "ind_agg = ind_agg.drop(columns = to_drop)\nind_feats = list(ind_agg.columns)\n\n# Merge on the household id\nfinal = heads.merge(ind_agg, on = 'idhogar', how = 'left')\n\nprint('Final features shape: ', final.shape)",
      "execution_count": null,
      "outputs": []
    },
    {
      "metadata": {
        "trusted": true,
        "_uuid": "259d09dc83275aa0d4e97ae3d349f87d7956214e"
      },
      "cell_type": "code",
      "source": "final.head()",
      "execution_count": null,
      "outputs": []
    },
    {
      "metadata": {
        "trusted": true,
        "_uuid": "7e2f24361439b69d0901a7bf681ced01e9449c2e"
      },
      "cell_type": "markdown",
      "source": "## Final Data Exploration\nWe'll do a little bit of exploration."
    },
    {
      "metadata": {
        "trusted": true,
        "_uuid": "5d03e843b8c83a0862eb1964c8f1c5c2e5b02cdb"
      },
      "cell_type": "code",
      "source": "corrs = final.corr()['Target']",
      "execution_count": null,
      "outputs": []
    },
    {
      "metadata": {
        "trusted": true,
        "_uuid": "19fc1e41d05a5af49b1f291446f118afbff21071"
      },
      "cell_type": "code",
      "source": "corrs.sort_values().head()",
      "execution_count": null,
      "outputs": []
    },
    {
      "metadata": {
        "trusted": true,
        "_uuid": "fc7c615425b535de29bd7e86f53842aebcf9325e"
      },
      "cell_type": "code",
      "source": "corrs.sort_values().dropna().tail()",
      "execution_count": null,
      "outputs": []
    },
    {
      "metadata": {
        "_uuid": "c9707a325eae371417ca134e86d925bf6020befc"
      },
      "cell_type": "markdown",
      "source": "We can see some of the variables that we made are highly correlated with the Target. Whether these variables are actually useful will be determined in the modeling stage.\n\n"
    },
    {
      "metadata": {
        "trusted": true,
        "_uuid": "d797a301994d2185b00e7a3a1062bfce4c1517bf"
      },
      "cell_type": "code",
      "source": "plot_categoricals('escolari-max', 'Target', final, annotate=False);",
      "execution_count": null,
      "outputs": []
    },
    {
      "metadata": {
        "trusted": true,
        "_uuid": "1d6690a40504c79ef94704777968e830231eff81"
      },
      "cell_type": "code",
      "source": "plt.figure(figsize = (10, 6))\nsns.violinplot(x = 'Target', y = 'escolari-max', data = final);\nplt.title('Max Schooling by Target');",
      "execution_count": null,
      "outputs": []
    },
    {
      "metadata": {
        "trusted": true,
        "_uuid": "f87229d115d99f375d1b46bfe34c4c13c3b7bfb1"
      },
      "cell_type": "code",
      "source": "plt.figure(figsize = (10, 6))\nsns.boxplot(x = 'Target', y = 'escolari-max', data = final);\nplt.title('Max Schooling by Target');",
      "execution_count": null,
      "outputs": []
    },
    {
      "metadata": {
        "trusted": true,
        "_uuid": "53a417551de3132e6588795b3b71d53986d2722c"
      },
      "cell_type": "code",
      "source": "plt.figure(figsize = (10, 6))\nsns.boxplot(x = 'Target', y = 'meaneduc', data = final);\nplt.xticks([0, 1, 2, 3], poverty_mapping.values())\nplt.title('Average Schooling by Target');",
      "execution_count": null,
      "outputs": []
    },
    {
      "metadata": {
        "trusted": true,
        "_uuid": "13055defa45e881bbfdda07b160d3621ed1058c4"
      },
      "cell_type": "code",
      "source": "plt.figure(figsize = (10, 6))\nsns.boxplot(x = 'Target', y = 'overcrowding', data = final);\nplt.xticks([0, 1, 2, 3], poverty_mapping.values())\nplt.title('Overcrowding by Target');",
      "execution_count": null,
      "outputs": []
    },
    {
      "metadata": {
        "_uuid": "c941c737c8de51815cebdfb931b9e1069445f851"
      },
      "cell_type": "markdown",
      "source": "One other feature that might be useful is the gender of the head of household. Since we aggregated the data, we'll have to go back to the individual level data and find the gender for the head of household."
    },
    {
      "metadata": {
        "trusted": true,
        "_uuid": "e7eb38423944f004c7cf1185bf581e2e36420a5d"
      },
      "cell_type": "code",
      "source": "head_gender = ind.loc[ind['parentesco1'] == 1, ['idhogar', 'female']]\nfinal = final.merge(head_gender, on = 'idhogar', how = 'left').rename(columns = \n                                                                      {'female': 'female-head'})",
      "execution_count": null,
      "outputs": []
    },
    {
      "metadata": {
        "trusted": true,
        "_uuid": "986a20a59c160ecef019de4c91dfa071a1c551f8"
      },
      "cell_type": "code",
      "source": "final.groupby('female-head')['Target'].value_counts(normalize=True)",
      "execution_count": null,
      "outputs": []
    },
    {
      "metadata": {
        "_uuid": "9f4bbcbdab200b40d5ed1579cb45d81df944c02d"
      },
      "cell_type": "markdown",
      "source": "It looks like households where the head is female are slightly more likely to have a severe level of poverty."
    },
    {
      "metadata": {
        "trusted": true,
        "_uuid": "30f596874cbea06019cbbe06cd2319b71f0f9cb5"
      },
      "cell_type": "code",
      "source": "sns.violinplot(x = 'female-head', y = 'Target', data = final);\nplt.title('Target by Female Head of Household');",
      "execution_count": null,
      "outputs": []
    },
    {
      "metadata": {
        "_uuid": "de04ee6f8cc9a03e413fc3ea305027f3ef1a285d"
      },
      "cell_type": "markdown",
      "source": "We can also look at the difference in average education by whether or not the family has a female head of household."
    },
    {
      "metadata": {
        "trusted": true,
        "_uuid": "9399f4fe64f127b79c8e994e865535f27ce37bb6"
      },
      "cell_type": "code",
      "source": "plt.figure(figsize = (8, 8))\nsns.boxplot(x = 'Target', y = 'meaneduc', hue = 'female-head', data = final);\nplt.title('Average Education by Target and Female Head of Household', size = 16);",
      "execution_count": null,
      "outputs": []
    },
    {
      "metadata": {
        "_uuid": "3becc3ae4036595dab429d8276dfc10a33524bc2"
      },
      "cell_type": "markdown",
      "source": "It looks like at every value of the Target, households with female heads have higher levels of education. Yet, we saw that overall, households with female heads are more likely to have severe poverty."
    },
    {
      "metadata": {
        "trusted": true,
        "_uuid": "828a759ea5e828b4a9e75a7ea3ee0d201f732d13"
      },
      "cell_type": "code",
      "source": "final.groupby('female-head')['meaneduc'].agg(['mean', 'count'])",
      "execution_count": null,
      "outputs": []
    },
    {
      "metadata": {
        "_uuid": "250f44f459268a3cbc3d2015d3efe7743350cbe0"
      },
      "cell_type": "markdown",
      "source": "Overall, the average education of households with female heads is slightly higher than those with male heads. I'm not too sure what to make of this, but it seems right to me."
    },
    {
      "metadata": {
        "_uuid": "4c7af24db563c45d76ed76501b90f168b7564ef1"
      },
      "cell_type": "markdown",
      "source": "## Machine Learning Modeling\nOnce feature engineering/construction is done, we can get started with the machine learning! All of our data (both training and testing) is aggregated for each household and so can be directly used in a model. To first show the process of modeling, we'll use the capable Random Forest Classifier in Scikit-Learn. This probably won't get us to the top of the leaderboard, but it will allow us to establish a baseline. Later we'll try several other models including the powerful Gradient Boosting Machine.\n\nTo assess our model, we'll use 10-fold cross validation on the training data. This will essentially train and test the model 10 times using different splits of the training data. 10-fold cross validation is an effective method for estimating the performance of a model on the test set. We want to look at the average performance in cross validation as well as the standard deviation to see how much scores change between the folds. We use the F1 Macro measure to evaluate performance."
    },
    {
      "metadata": {
        "trusted": true,
        "_uuid": "72e60fd61892de1f3b8d56b2b9b22d7b5183e4e2"
      },
      "cell_type": "code",
      "source": "from sklearn.ensemble import RandomForestClassifier\nfrom sklearn.metrics import f1_score, make_scorer\nfrom sklearn.model_selection import cross_val_score\nfrom sklearn.preprocessing import Imputer\nfrom sklearn.preprocessing import MinMaxScaler\nfrom sklearn.pipeline import Pipeline\n\n# Custom scorer for cross validation\nscorer = make_scorer(f1_score, greater_is_better=True, average = 'macro')",
      "execution_count": null,
      "outputs": []
    },
    {
      "metadata": {
        "trusted": true,
        "_uuid": "238e9a41c823b49cc60954c79a030af750a68d4e"
      },
      "cell_type": "code",
      "source": "# Labels for training\ntrain_labels = np.array(list(final[final['Target'].notnull()]['Target'].astype(np.uint8)))\n\n# Extract the training data\ntrain_set = final[final['Target'].notnull()].drop(columns = ['Id', 'idhogar', 'Target'])\ntest_set = final[final['Target'].isnull()].drop(columns = ['Id', 'idhogar', 'Target'])\n\n# Submission base which is used for making submissions to the competition\nsubmission_base = test[['Id', 'idhogar']].copy()",
      "execution_count": null,
      "outputs": []
    },
    {
      "metadata": {
        "_uuid": "6387eba431141747c60a952c809c7a1a6c0d1ffd"
      },
      "cell_type": "markdown",
      "source": "Because we are going to be comparing different models, we want to scale the features (limit the range of each column to between 0 and 1). For many ensemble models this is not necessary, but when we use models that depend on a distance metric, such as KNearest Neighbors or the Support Vector Machine, feature scaling is an absolute necessity. When comparing different models, it's always safest to scale the features. We also impute the missing values with the median of the feature.\n\nFor imputing missing values and scaling the features in one step, we can make a pipeline. This will be fit on the training data and used to transform the training and testing data."
    },
    {
      "metadata": {
        "trusted": true,
        "_uuid": "7fba73260e00707315005204e7c7b6e01d8d35e9"
      },
      "cell_type": "code",
      "source": "features = list(train_set.columns)\n\npipeline = Pipeline([('imputer', Imputer(strategy = 'median')), \n                      ('scaler', MinMaxScaler())])\n\n# Fit and transform training data\ntrain_set = pipeline.fit_transform(train_set)\ntest_set = pipeline.transform(test_set)",
      "execution_count": null,
      "outputs": []
    },
    {
      "metadata": {
        "_uuid": "de8825f3de425244958e84b32f9599675375657d"
      },
      "cell_type": "markdown",
      "source": "The data has no missing values and is scaled between zero and one. This means it can be directly used in any Scikit-Learn model."
    },
    {
      "metadata": {
        "trusted": true,
        "_uuid": "dd0cb48043e7643d01b377248c90f3b3dcf9e071"
      },
      "cell_type": "code",
      "source": "model = RandomForestClassifier(n_estimators=100, random_state=10, \n                               n_jobs = -1)\n# 10 fold cross validation\ncv_score = cross_val_score(model, train_set, train_labels, cv = 10, scoring = scorer)\n\nprint(f'10 Fold Cross Validation F1 Score = {round(cv_score.mean(), 4)} with std = {round(cv_score.std(), 4)}')",
      "execution_count": null,
      "outputs": []
    },
    {
      "metadata": {
        "_uuid": "f8e861d2432382731dc6896eff4e68c0096f4a33"
      },
      "cell_type": "markdown",
      "source": "hat score is not great, but it will serve as a baseline and leaves us plenty of room to improve!"
    },
    {
      "metadata": {
        "_uuid": "acdc673787528e1dab91aeaeb5370b5951ebbaf0"
      },
      "cell_type": "markdown",
      "source": "### Feature Importances\nWith a tree-based model, we can look at the feature importances which show a relative ranking of the usefulness of features in the model. These represent the sum of the reduction in impurity at nodes that used the variable for splitting, but we don't have to pay much attention to the absolute value. Instead we'll focus on relative scores.\n\nIf we want to view the feature importances, we'll have to train a model on the whole training set. Cross validation does not return the feature importances."
    },
    {
      "metadata": {
        "trusted": true,
        "_uuid": "dbaaec4d07fbd51bac0f070cf3957b334255a41a"
      },
      "cell_type": "code",
      "source": "model.fit(train_set, train_labels)\n\n# Feature importances into a dataframe\nfeature_importances = pd.DataFrame({'feature': features, 'importance': model.feature_importances_})\nfeature_importances.head()",
      "execution_count": null,
      "outputs": []
    },
    {
      "metadata": {
        "_uuid": "3acbe3ff94e96e352f4edaf933babad57fda2eec"
      },
      "cell_type": "markdown",
      "source": "Below is a short function we'll use to plot the feature importances. I use this function a lot and often copy and paste it between scripts. I hope the documentation makes sense!"
    },
    {
      "metadata": {
        "trusted": true,
        "_uuid": "e6f856dfa658760c532a9da1da75a4666bb2a0c5"
      },
      "cell_type": "code",
      "source": "def plot_feature_importances(df, n = 10, threshold = None):\n    \"\"\"Plots n most important features. Also plots the cumulative importance if\n    threshold is specified and prints the number of features needed to reach threshold cumulative importance.\n    Intended for use with any tree-based feature importances. \n    \n    Args:\n        df (dataframe): Dataframe of feature importances. Columns must be \"feature\" and \"importance\".\n    \n        n (int): Number of most important features to plot. Default is 15.\n    \n        threshold (float): Threshold for cumulative importance plot. If not provided, no plot is made. Default is None.\n        \n    Returns:\n        df (dataframe): Dataframe ordered by feature importances with a normalized column (sums to 1) \n                        and a cumulative importance column\n    \n    Note:\n    \n        * Normalization in this case means sums to 1. \n        * Cumulative importance is calculated by summing features from most to least important\n        * A threshold of 0.9 will show the most important features needed to reach 90% of cumulative importance\n    \n    \"\"\"\n    plt.style.use('fivethirtyeight')\n    \n    # Sort features with most important at the head\n    df = df.sort_values('importance', ascending = False).reset_index(drop = True)\n    \n    # Normalize the feature importances to add up to one and calculate cumulative importance\n    df['importance_normalized'] = df['importance'] / df['importance'].sum()\n    df['cumulative_importance'] = np.cumsum(df['importance_normalized'])\n    \n    plt.rcParams['font.size'] = 12\n    \n    # Bar plot of n most important features\n    df.loc[:n, :].plot.barh(y = 'importance_normalized', \n                            x = 'feature', color = 'darkgreen', \n                            edgecolor = 'k', figsize = (12, 8),\n                            legend = False, linewidth = 2)\n\n    plt.xlabel('Normalized Importance', size = 18); plt.ylabel(''); \n    plt.title(f'{n} Most Important Features', size = 18)\n    plt.gca().invert_yaxis()\n    \n    \n    if threshold:\n        # Cumulative importance plot\n        plt.figure(figsize = (8, 6))\n        plt.plot(list(range(len(df))), df['cumulative_importance'], 'b-')\n        plt.xlabel('Number of Features', size = 16); plt.ylabel('Cumulative Importance', size = 16); \n        plt.title('Cumulative Feature Importance', size = 18);\n        \n        # Number of features needed for threshold cumulative importance\n        # This is the index (will need to add 1 for the actual number)\n        importance_index = np.min(np.where(df['cumulative_importance'] > threshold))\n        \n        # Add vertical line to plot\n        plt.vlines(importance_index + 1, ymin = 0, ymax = 1.05, linestyles = '--', colors = 'red')\n        plt.show();\n        \n        print('{} features required for {:.0f}% of cumulative importance.'.format(importance_index + 1, \n                                                                                  100 * threshold))\n    \n    return df",
      "execution_count": null,
      "outputs": []
    },
    {
      "metadata": {
        "trusted": true,
        "_uuid": "199aa09b9947027ff361694e17fc598053cbdb1a"
      },
      "cell_type": "code",
      "source": "norm_fi = plot_feature_importances(feature_importances, threshold=0.95)",
      "execution_count": null,
      "outputs": []
    },
    {
      "metadata": {
        "_uuid": "36e7962c2bceee7682789ad937a2d1abfc0d2fb4"
      },
      "cell_type": "markdown",
      "source": "**Education reigns supreme!** The most important variable is the average amount of education in the household, followed by the maximum education of anyone in the household. I have a suspicion these variables are highly correlated (collinear) which means we may want to remove one of them from the data. The other most important features are a combination of variables we created and variables that were already present in the data.\n\nIt's interesting that we only need 106 of the ~180 features to account for 90% of the importance. This tells us that we may be able to remove some of the features. However, feature importances don't tell us which direction of the feature is important (for example, we can't use these to tell whether more or less education leads to more severe poverty) they only tell us which features the model considered relevant."
    },
    {
      "metadata": {
        "trusted": true,
        "_uuid": "d0f9ad986e53ef83a3101600653d49a9491df726"
      },
      "cell_type": "code",
      "source": "def kde_target(df, variable):\n    \"\"\"Plots the distribution of `variable` in `df` colored by the `Target` column\"\"\"\n    \n    colors = {1: 'red', 2: 'orange', 3: 'blue', 4: 'green'}\n\n    plt.figure(figsize = (12, 8))\n    \n    df = df[df['Target'].notnull()]\n    \n    for level in df['Target'].unique():\n        subset = df[df['Target'] == level].copy()\n        sns.kdeplot(subset[variable].dropna(), \n                    label = f'Poverty Level: {level}', \n                    color = colors[int(subset['Target'].unique())])\n\n    plt.xlabel(variable); plt.ylabel('Density');\n    plt.title('{} Distribution'.format(variable.capitalize()));",
      "execution_count": null,
      "outputs": []
    },
    {
      "metadata": {
        "trusted": true,
        "_uuid": "d47ce45ca01c618dbc10a82c3719bec935b842e8"
      },
      "cell_type": "code",
      "source": "kde_target(final, 'meaneduc')",
      "execution_count": null,
      "outputs": []
    },
    {
      "metadata": {
        "trusted": true,
        "_uuid": "6bc5743de63628cec4c99fb71027cd6dbd9a6020"
      },
      "cell_type": "code",
      "source": "kde_target(final, 'escolari/age-range_')",
      "execution_count": null,
      "outputs": []
    },
    {
      "metadata": {
        "_uuid": "23cde939dc945bc9314308936d06538b8e625efb"
      },
      "cell_type": "markdown",
      "source": "Model Selection\nNow that we have a good set of features, it's time to get into the modeling. We already tried one basic model, the Random Forest Classifier which delivered a best macro F1 of 0.35. However, in machine learning, there is no way to know ahead of time which model will work best for a given dataset. The following plot shows that **there are some problems where even Gaussian Naive Bayes will outperform a gradient boosting machine.** This is from an excellent paper by [Randal Olson that discusses many points of machine learning](https://psb.stanford.edu/psb-online/proceedings/psb18/olson.pdf)\n\n<img src=\"https://raw.githubusercontent.com/WillKoehrsen/Machine-Learning-Projects/master/algorithm_comparison.png\">\n\nWhat this plot tells us is that we have to try out a number of different models to see which is optimal. Most people eventually settle on the **gradient boosting machine** and we will try that out, but for now we'll take a look at some of the other options. There are literally dozens (maybe hundreds) of multi-class machine learning models if we look at the [Scikit-Learn documentation](http://scikit-learn.org/stable/modules/multiclass.html). We don't have to try them all, but we should sample from the options.\n\nWhat we want to do is write a function that can evaluate a model. This will be pretty simple since we already wrote most of the code. In addition to the Random Forest Classifier, we'll try eight other Scikit-Learn models. Luckily, this dataset is relatively small and we can rapidly iterate through the models. We will make a dataframe to hold the results and the function will add a row to the dataframe for each model."
    },
    {
      "metadata": {
        "trusted": true,
        "_uuid": "3c3a48cc30920a664e20041b158d09cb5a4c3f5c"
      },
      "cell_type": "code",
      "source": "# Model imports\nfrom sklearn.svm import LinearSVC\nfrom sklearn.naive_bayes import GaussianNB\nfrom sklearn.neural_network import MLPClassifier\nfrom sklearn.linear_model import LogisticRegressionCV, RidgeClassifierCV\nfrom sklearn.discriminant_analysis import LinearDiscriminantAnalysis\nfrom sklearn.neighbors import KNeighborsClassifier",
      "execution_count": null,
      "outputs": []
    },
    {
      "metadata": {
        "trusted": true,
        "_uuid": "25eae0fa61882213617da490e64eeb893d04e2c2"
      },
      "cell_type": "code",
      "source": "import warnings \nfrom sklearn.exceptions import ConvergenceWarning\n\n# Filter out warnings from models\nwarnings.filterwarnings('ignore', category = ConvergenceWarning)\nwarnings.filterwarnings('ignore', category = DeprecationWarning)\nwarnings.filterwarnings('ignore', category = UserWarning)\n\n# Dataframe to hold results\nmodel_results = pd.DataFrame(columns = ['model', 'cv_mean', 'cv_std'])\n\ndef cv_model(train, train_labels, model, name, model_results=None):\n    \"\"\"Perform 10 fold cross validation of a model\"\"\"\n    \n    cv_scores = cross_val_score(model, train, train_labels, cv = 10, scoring=scorer, n_jobs = -1)\n    print(f'10 Fold CV Score: {round(cv_scores.mean(), 5)} with std: {round(cv_scores.std(), 5)}')\n    \n    if model_results is not None:\n        model_results = model_results.append(pd.DataFrame({'model': name, \n                                                           'cv_mean': cv_scores.mean(), \n                                                            'cv_std': cv_scores.std()},\n                                                           index = [0]),\n                                             ignore_index = True)\n\n        return model_results",
      "execution_count": null,
      "outputs": []
    },
    {
      "metadata": {
        "trusted": true,
        "_uuid": "b15e0152b69497ee6bd0325cbdf3f1328c90f4f5"
      },
      "cell_type": "code",
      "source": "model_results = cv_model(train_set, train_labels, LinearSVC(), \n                         'LSVC', model_results)",
      "execution_count": null,
      "outputs": []
    },
    {
      "metadata": {
        "_uuid": "60681dea450a49ec497f0a673569378065fc08dd"
      },
      "cell_type": "markdown",
      "source": "That's one model to cross off the list (although we didn't perform hyperparameter tuning so the actual performance could possibly be improved)."
    },
    {
      "metadata": {
        "trusted": true,
        "_uuid": "1a7fd9e33e17df67cdaf6595d088431b6b7eaa73"
      },
      "cell_type": "code",
      "source": "model_results = cv_model(train_set, train_labels, \n                         GaussianNB(), 'GNB', model_results)",
      "execution_count": null,
      "outputs": []
    },
    {
      "metadata": {
        "_uuid": "ec1865b54fe6ef8a18cd652b1213fa614e6ac0d8"
      },
      "cell_type": "markdown",
      "source": "That performance is very poor. I don't think we need to revisit the Gaussian Naive Bayes method (although there are problems on which it can outperform the Gradient Boosting Machine)."
    },
    {
      "metadata": {
        "trusted": true,
        "_uuid": "c411a3cb4da7b59fc954f0d45b9540f3ee5f94c9"
      },
      "cell_type": "code",
      "source": "model_results = cv_model(train_set, train_labels, \n                          LinearDiscriminantAnalysis(), \n                          'LDA', model_results)",
      "execution_count": null,
      "outputs": []
    },
    {
      "metadata": {
        "trusted": true,
        "_uuid": "0f0951bd64a0a9f5c0074c47bdcc044a1fd66f49"
      },
      "cell_type": "markdown",
      "source": "If you run LinearDiscriminantAnalysis without filtering out the UserWarnings, you get many messages saying \"Variables are collinear.\" This might give us a hint that we want to remove some collinear features! We might want to try this model again after removing the collinear variables because the score is comparable to the random forest."
    },
    {
      "metadata": {
        "trusted": true,
        "_uuid": "6e18246d1b199e1b4cf036ee25e656e7a907c536"
      },
      "cell_type": "code",
      "source": "model_results = cv_model(train_set, train_labels, \n                         RidgeClassifierCV(), 'RIDGE', model_results)",
      "execution_count": null,
      "outputs": []
    },
    {
      "metadata": {
        "_uuid": "d3d55d8404ae0bd86f5a9a60c3a29beccb22c1ab"
      },
      "cell_type": "markdown",
      "source": "The linear model (with ridge regularization) does surprisingly well. This might indicate that a simple model can go a long way in this problem (although we'll probably end up using a more powerful method)."
    },
    {
      "metadata": {
        "trusted": true,
        "_uuid": "07e6ee96b6c130709ed07a8ee51f518464f204d2"
      },
      "cell_type": "code",
      "source": "for n in [5, 10, 20]:\n    print(f'\\nKNN with {n} neighbors\\n')\n    model_results = cv_model(train_set, train_labels, \n                             KNeighborsClassifier(n_neighbors = n),\n                             f'knn-{n}', model_results)",
      "execution_count": null,
      "outputs": []
    },
    {
      "metadata": {
        "_uuid": "8bf9c1d5295e487ec092589a2e72608f6d763279"
      },
      "cell_type": "markdown",
      "source": "As one more attempt, we'll consider the ExtraTreesClassifier, a variant on the random forest using ensembles of decision trees as well."
    },
    {
      "metadata": {
        "trusted": true,
        "_uuid": "6bf01ca12eda723053e3f1ebcf0289e9cb928dc4"
      },
      "cell_type": "code",
      "source": "from sklearn.ensemble import ExtraTreesClassifier\n\nmodel_results = cv_model(train_set, train_labels, \n                         ExtraTreesClassifier(n_estimators = 100, random_state = 10),\n                         'EXT', model_results)",
      "execution_count": null,
      "outputs": []
    },
    {
      "metadata": {
        "_uuid": "049be9497f22b12bc912c5c5351245d56246d928"
      },
      "cell_type": "markdown",
      "source": "## Comparing Model Performance\nWith the modeling results in a dataframe, we can plot them to see which model does the best."
    },
    {
      "metadata": {
        "trusted": true,
        "_uuid": "013d43419b6537a500393c87e4ee2a50f75a1e19"
      },
      "cell_type": "code",
      "source": "model_results = cv_model(train_set, train_labels,\n                          RandomForestClassifier(100, random_state=10),\n                              'RF', model_results)",
      "execution_count": null,
      "outputs": []
    },
    {
      "metadata": {
        "trusted": true,
        "_uuid": "2325d8f37555bab96d098c9d034e78f8678fbc27"
      },
      "cell_type": "code",
      "source": "model_results.set_index('model', inplace = True)\nmodel_results['cv_mean'].plot.bar(color = 'orange', figsize = (8, 6),\n                                  yerr = list(model_results['cv_std']),\n                                  edgecolor = 'k', linewidth = 2)\nplt.title('Model F1 Score Results');\nplt.ylabel('Mean F1 Score (with error bar)');\nmodel_results.reset_index(inplace = True)",
      "execution_count": null,
      "outputs": []
    },
    {
      "metadata": {
        "_uuid": "cb6692e9128331a552597291727a070b15849cbd"
      },
      "cell_type": "markdown",
      "source": "The most likely candidate seems to be the Random Forest because it does best right out of the box. While we didn't tune any of the hyperparameters so the comparison between models is not perfect, these results reflect those of many other Kaggle competitiors finding that tree-based ensemble methods (including the Gradient Boosting Machine) perform very well on structured datasets. Hyperparameter performance does improve the performance of machine learning models, but we don't have time to try all possible combinations of settings for all models. The graph below ([from the paper by Randal Olson](https://psb.stanford.edu/psb-online/proceedings/psb18/olson.pdf)) shows the effect of hyperparameter tuning versus the default values in Scikit-Learn.\n<img src=\"https://raw.githubusercontent.com/WillKoehrsen/Machine-Learning-Projects/master/hyperparameter_improvement.png\">\n\nIn most cases the accuracy gain is less than 10% so the worst model is probably not suddenly going to become the best model through tuning.\n\nFor now we'll say the random forest does the best. Later we'll look at using the Gradient Boosting Machine, although not implemented in Scikit-Learn. Instead we'll be using the more powerful [LightGBM](https://lightgbm.readthedocs.io/en/latest/) version. Now, let's turn to making a submission using the random forest."
    },
    {
      "metadata": {
        "_uuid": "71e5e1b326b0dcf95f0dd43131090a54d3df7f30"
      },
      "cell_type": "markdown",
      "source": "# Making a Submission\nIn order to make a submission, we need the test data. Fortunately, we have the test data formatted in exactly the same manner as the train data.\n\nThe format of a testing submission is shown below. Although we are making predictions for each household, we actually need one row per individual (identified by the Id) but only the prediction for the head of household is scored.\n\nId,                         Target\n- ID_2f6873615,     1\n- ID_1c78846d2,    2\n- ID_e5442cf6a,    3\n- ID_a8db26a79,   4\n- ID_a62966799,  4\n\nThe submission_base will have all the individuals in the test set since we have to have a \"prediction\" for each individual while the test_ids will only contain the idhogar from the heads of households. When predicting, we only predict for each household and then we merge the predictions dataframe with all of the individuals on the household id (idhogar). This will set the Target to the same value for everyone in a household. For the test households without a head of household, we can just set these predictions to 4 since they will not be scored."
    },
    {
      "metadata": {
        "trusted": true,
        "_uuid": "96ffdbf3648c2897e0f4a6f2cd9c3053c3a84e07"
      },
      "cell_type": "code",
      "source": "test_ids = list(final.loc[final['Target'].isnull(), 'idhogar'])",
      "execution_count": null,
      "outputs": []
    },
    {
      "metadata": {
        "_uuid": "bcc00df4c23226c80c77019062a8e2ff8fe26385"
      },
      "cell_type": "markdown",
      "source": "The function below takes in a model, a training set, the training labels, and a testing set and performs the following operations:\n\n- Trains the model on the training data using fit\n- Makes predictions on the test data using predict\n- Creates a submission dataframe that can be saved and uploaded to the competition"
    },
    {
      "metadata": {
        "trusted": true,
        "_uuid": "5dd6a8bec4d51b0236afbeca0e25c155a36b94d1"
      },
      "cell_type": "code",
      "source": "def submit(model, train, train_labels, test, test_ids):\n    \"\"\"Train and test a model on the dataset\"\"\"\n    \n    # Train on the data\n    model.fit(train, train_labels)\n    predictions = model.predict(test)\n    predictions = pd.DataFrame({'idhogar': test_ids,\n                               'Target': predictions})\n\n     # Make a submission dataframe\n    submission = submission_base.merge(predictions, \n                                       on = 'idhogar',\n                                       how = 'left').drop(columns = ['idhogar'])\n    \n    # Fill in households missing a head\n    submission['Target'] = submission['Target'].fillna(4).astype(np.int8)\n\n    return submission ",
      "execution_count": null,
      "outputs": []
    },
    {
      "metadata": {
        "_uuid": "3e14f1a887fca4ed6b511bba9fcea86dbee9a602"
      },
      "cell_type": "markdown",
      "source": "Let's make a submission with the Random Forest."
    },
    {
      "metadata": {
        "trusted": true,
        "_uuid": "c59ccab7d8f699e4e1d183fec082318e4cf2d324"
      },
      "cell_type": "code",
      "source": "rf_submission = submit(RandomForestClassifier(n_estimators = 100, \n                                              random_state=10, n_jobs = -1), \n                         train_set, train_labels, test_set, test_ids)\n\nrf_submission.to_csv('rf_submission.csv', index = False)",
      "execution_count": null,
      "outputs": []
    },
    {
      "metadata": {
        "_uuid": "5a3970b5f03299c490b6ff503ee9a4bcbf0b8e29"
      },
      "cell_type": "markdown",
      "source": "These predictions score **0.360** when submitted to the competition."
    },
    {
      "metadata": {
        "trusted": true,
        "_uuid": "195ec15677f3b3932399f5961d260b46304981ef"
      },
      "cell_type": "markdown",
      "source": "## Feature Selection\nOne potential method for improving model performance is feature selection. This is the process where we try to keep only the most useful features for our model. \"Most useful\" can mean many different things, and there are numerous heuristics for selecting the most important features. For feature selection in this notebook, we'll first remove any columns with greater than 0.95 correlation (we already did some of this during feature engineering) and then we'll apply recursive feature elimination with the Scikit-Learn library.\n\nFirst up are the correlations. 0.95 is an arbitrary threshold - feel free to change the values and see how the performance changes!"
    },
    {
      "metadata": {
        "trusted": true,
        "_uuid": "a61e44c83d7ad7f923b5a47738d0f7d6d328f2a5"
      },
      "cell_type": "code",
      "source": "train_set = pd.DataFrame(train_set, columns = features)\n\n# Create correlation matrix\ncorr_matrix = train_set.corr()\n\n# Select upper triangle of correlation matrix\nupper = corr_matrix.where(np.triu(np.ones(corr_matrix.shape), k=1).astype(np.bool))\n\n# Find index of feature columns with correlation greater than 0.95\nto_drop = [column for column in upper.columns if any(abs(upper[column]) > 0.95)]\n\nto_drop",
      "execution_count": null,
      "outputs": []
    },
    {
      "metadata": {
        "trusted": true,
        "_uuid": "d52e511edce5c6d6f6fd5bbc2ced344804511d8f"
      },
      "cell_type": "code",
      "source": "train_set = train_set.drop(columns = to_drop)\ntrain_set.shape",
      "execution_count": null,
      "outputs": []
    },
    {
      "metadata": {
        "trusted": true,
        "_uuid": "4eb4902f14c31e6824472b8a2fed9135f2fde4e5"
      },
      "cell_type": "code",
      "source": "test_set = pd.DataFrame(test_set, columns = features)\ntrain_set, test_set = train_set.align(test_set, axis = 1, join = 'inner')\nfeatures = list(train_set.columns)",
      "execution_count": null,
      "outputs": []
    },
    {
      "metadata": {
        "_uuid": "15287b83deee28fef4f62d0b89af4e52deab9b13"
      },
      "cell_type": "markdown",
      "source": "### Recursive Feature Elimination with Random Forest\nThe RFECV in Sklearn stands for Recursive Feature Elimination with Cross Validation. The selector operates using a model with feature importances in an iterative manner. At each iteration, it removes either a fraction of features or a set number of features. The iterations continue until the cross validation score no longer improves.\n\nTo create the selector object, we pass in the the model, the number of features to remove at each iteration, the cross validation folds, our custom scorer, and any other parameters to guide the selection."
    },
    {
      "metadata": {
        "trusted": true,
        "_uuid": "ed49c2f0afcfeb0f75246bf84ff530d06b4dc678"
      },
      "cell_type": "code",
      "source": "from sklearn.feature_selection import RFECV\n\n# Create a model for feature selection\nestimator = RandomForestClassifier(random_state = 10, n_estimators = 100,  n_jobs = -1)\n\n# Create the object\nselector = RFECV(estimator, step = 1, cv = 3, scoring= scorer, n_jobs = -1)",
      "execution_count": null,
      "outputs": []
    },
    {
      "metadata": {
        "_uuid": "3174382b6d25e1942259475b8d8738f15aa29b76"
      },
      "cell_type": "markdown",
      "source": "Then we fit the selector on the training data as with any other sklearn model. This will continue the feature selection until the cross validation scores no longer improve."
    },
    {
      "metadata": {
        "trusted": true,
        "_uuid": "3db2142ad3805bd6c3550613ea77d643874acc00"
      },
      "cell_type": "code",
      "source": "selector.fit(train_set, train_labels)",
      "execution_count": null,
      "outputs": []
    },
    {
      "metadata": {
        "_uuid": "11a5d3d52f4b3ecc0b15d9a67895d5462ac731d5"
      },
      "cell_type": "markdown",
      "source": "We can investigate the object to see the training scores for each iteration. The following code will plot the validation scores versus the number of features for the training."
    },
    {
      "metadata": {
        "trusted": true,
        "_uuid": "93b37b5834b5c53fa368be55f73a7d734e33b265"
      },
      "cell_type": "code",
      "source": "plt.plot(selector.grid_scores_);\n\nplt.xlabel('Number of Features'); plt.ylabel('Macro F1 Score'); plt.title('Feature Selection Scores');\nselector.n_features_",
      "execution_count": null,
      "outputs": []
    },
    {
      "metadata": {
        "_uuid": "0f6c1b5840fccbf168dc97540dceb5ee5ef6ffff"
      },
      "cell_type": "markdown",
      "source": "We can see that the score improves as we add features up until 96 features. According to the selector, this is the optimal number of features.\n\nThe rankings of each feature can be found by inspecting the trained object. These represent essentially the importance of features averaged over the iterations. Features can share the same ranking, and only features with a rank of 1 are retained."
    },
    {
      "metadata": {
        "trusted": true,
        "_uuid": "7a8b525badbc021c2b16467b656e5fb452dde79d"
      },
      "cell_type": "code",
      "source": "rankings = pd.DataFrame({'feature': list(train_set.columns), 'rank': list(selector.ranking_)}).sort_values('rank')\nrankings.head(10)",
      "execution_count": null,
      "outputs": []
    },
    {
      "metadata": {
        "_uuid": "21440a0f7cc5682755d55b7534538d2dd4fb8551"
      },
      "cell_type": "markdown",
      "source": "Finally, we select the features and then evaluate in cross validation."
    },
    {
      "metadata": {
        "trusted": true,
        "_uuid": "85eb0b74480bdc5485022bb946c008764f6b1fe7"
      },
      "cell_type": "code",
      "source": "train_selected = selector.transform(train_set)\ntest_selected = selector.transform(test_set)",
      "execution_count": null,
      "outputs": []
    },
    {
      "metadata": {
        "trusted": true,
        "_uuid": "a90ab9a8d9b1355cd05747844cc00b75e2d9b4de"
      },
      "cell_type": "code",
      "source": "# Convert back to dataframe\nselected_features = train_set.columns[np.where(selector.ranking_==1)]\ntrain_selected = pd.DataFrame(train_selected, columns = selected_features)\ntest_selected = pd.DataFrame(test_selected, columns = selected_features)",
      "execution_count": null,
      "outputs": []
    },
    {
      "metadata": {
        "trusted": true,
        "_uuid": "6854c5a437abd2d90ef3553f88bf065886db2197"
      },
      "cell_type": "code",
      "source": "model_results = cv_model(train_selected, train_labels, model, 'RF-SEL', model_results)",
      "execution_count": null,
      "outputs": []
    },
    {
      "metadata": {
        "trusted": true,
        "_uuid": "0a617f45be053679b1d06c58aaf09ade6fd5dd40"
      },
      "cell_type": "code",
      "source": "model_results.set_index('model', inplace = True)\nmodel_results['cv_mean'].plot.bar(color = 'orange', figsize = (8, 6),\n                                  yerr = list(model_results['cv_std']),\n                                 edgecolor = 'k', linewidth = 2)\nplt.title('Model F1 Score Results');\nplt.ylabel('Mean F1 Score (with error bar)');\nmodel_results.reset_index(inplace = True)",
      "execution_count": null,
      "outputs": []
    },
    {
      "metadata": {
        "_uuid": "7e41c2e5585b041925ebbd2fdeb2f9ea7a92842a"
      },
      "cell_type": "markdown",
      "source": "The model with selected features does slightly better in cross-validation. We can keep both sets of features for use in our next model, the Gradient Boosting Machine."
    },
    {
      "metadata": {
        "_uuid": "e9ebf2b8ee788c5831d01546762228f55da2189a"
      },
      "cell_type": "markdown",
      "source": "## Upgrading Our Model: Gradient Boosting Machine\nAfter using the Random Forest and getting decent scores, it's time to step up and use the gradient boosting machine. If you spend any time on Kaggle, you'll notice that the Gradient Boosting Machine (GBM) wins a high percentage of competitions where the data is structured (in tables) and the datasets are not that large (less than a million observations).\n\nI won't go too much into the details here, but instead will focus on the implementation. We'll use the GBM in LightGBM, although there are also options in Scikit-Learn, XGBOOST, and CatBoost. The first set of hyperparameters we'll use were based on those I've found have worked well for other problems.\n\n### Choosing Number of Estimators with Early Stopping\nTo choose the number of estimators (the number of decision trees in the ensemble, called n_estimators or num_boost_rounds), we'll use early stopping with 5-fold cross validation. This will keep adding estimators until the performance as measured by the Macro F1 Score has not increased for 100 training rounds. To use this metric, we'll have to define a custom metric."
    },
    {
      "metadata": {
        "trusted": true,
        "_uuid": "2d7d4ba35f0eb620fd0cc187e0d0688e20751169"
      },
      "cell_type": "code",
      "source": "def macro_f1_score(labels, predictions):\n    # Reshape the predictions as needed\n    predictions = predictions.reshape(len(np.unique(labels)), -1 ).argmax(axis = 0)\n    \n    metric_value = f1_score(labels, predictions, average = 'macro')\n    \n    # Return is name, value, is_higher_better\n    return 'macro_f1', metric_value, True",
      "execution_count": null,
      "outputs": []
    },
    {
      "metadata": {
        "_uuid": "3f45452361545f25bb2bb159822c9754084a679b"
      },
      "cell_type": "markdown",
      "source": "## Light Gradient Boosting Machine Implementation\nThe function below implements training the gradient boosting machine with Stratified Kfold cross validation and early stopping to prevent overfitting to the training data (although this can still occur). The function performs training with cross validation and records the predictions in probability for each fold. To see how this works, we can return the predictions from each fold and then we'll return a submission to upload to the competition.\n\nChoosing hyperparameters for the Gradient Boosting Machine can be tough and generally is done through model optimization. In this notebook, we'll use a set of hyperparameters that I've found work well on previous problems (although they will not necessarily translate to this competition).\n\nWe set the n_estimators to 10000 but we won't actually reach this number because we are using early stopping which will quit training estimators when the cross validation metric does not improve for early_stopping_rounds. There's a lot going on in this function, and read through it carefully to make sure you have it all! I've tried to make the comments and code straightforward. (The display is used to show custom information during training in combination with %%capture so we don't have to see all the LightGBM information during training)."
    },
    {
      "metadata": {
        "trusted": true,
        "_uuid": "41810e3839ec12410b8ec4a4b93a7146a8970476"
      },
      "cell_type": "code",
      "source": "from sklearn.model_selection import StratifiedKFold\nimport lightgbm as lgb\nfrom IPython.display import display\n\ndef model_gbm(features, labels, test_features, test_ids, \n              nfolds = 5, return_preds = False, hyp = None):\n    \"\"\"Model using the GBM and cross validation.\n       Trains with early stopping on each fold.\n       Hyperparameters probably need to be tuned.\"\"\"\n    \n    feature_names = list(features.columns)\n\n    # Option for user specified hyperparameters\n    if hyp is not None:\n        # Using early stopping so do not need number of esimators\n        if 'n_estimators' in hyp:\n            del hyp['n_estimators']\n        params = hyp\n    \n    else:\n        # Model hyperparameters\n        params = {'boosting_type': 'dart', \n                  'colsample_bytree': 0.88, \n                  'learning_rate': 0.028, \n                   'min_child_samples': 10, \n                   'num_leaves': 36, 'reg_alpha': 0.76, \n                   'reg_lambda': 0.43, \n                   'subsample_for_bin': 40000, \n                   'subsample': 0.54, \n                   'class_weight': 'balanced'}\n    \n    # Build the model\n    model = lgb.LGBMClassifier(**params, objective = 'multiclass', \n                               n_jobs = -1, n_estimators = 10000,\n                               random_state = 10)\n    \n    # Using stratified kfold cross validation\n    strkfold = StratifiedKFold(n_splits = nfolds, shuffle = True)\n    \n    # Hold all the predictions from each fold\n    predictions = pd.DataFrame()\n    importances = np.zeros(len(feature_names))\n    \n    # Convert to arrays for indexing\n    features = np.array(features)\n    test_features = np.array(test_features)\n    labels = np.array(labels).reshape((-1 ))\n    \n    valid_scores = []\n    \n    # Iterate through the folds\n    for i, (train_indices, valid_indices) in enumerate(strkfold.split(features, labels)):\n        \n        # Dataframe for fold predictions\n        fold_predictions = pd.DataFrame()\n        \n        # Training and validation data\n        X_train = features[train_indices]\n        X_valid = features[valid_indices]\n        y_train = labels[train_indices]\n        y_valid = labels[valid_indices]\n        \n        # Train with early stopping\n        model.fit(X_train, y_train, early_stopping_rounds = 100, \n                  eval_metric = macro_f1_score,\n                  eval_set = [(X_train, y_train), (X_valid, y_valid)],\n                  eval_names = ['train', 'valid'],\n                  verbose = 200)\n        \n        # Record the validation fold score\n        valid_scores.append(model.best_score_['valid']['macro_f1'])\n        \n        # Make predictions from the fold as probabilities\n        fold_probabilitites = model.predict_proba(test_features)\n        \n        # Record each prediction for each class as a separate column\n        for j in range(4):\n            fold_predictions[(j + 1)] = fold_probabilitites[:, j]\n            \n        # Add needed information for predictions \n        fold_predictions['idhogar'] = test_ids\n        fold_predictions['fold'] = (i+1)\n        \n        # Add the predictions as new rows to the existing predictions\n        predictions = predictions.append(fold_predictions)\n        \n        # Feature importances\n        importances += model.feature_importances_ / nfolds   \n        \n        # Display fold information\n        display(f'Fold {i + 1}, Validation Score: {round(valid_scores[i], 5)}, Estimators Trained: {model.best_iteration_}')\n\n    # Feature importances dataframe\n    feature_importances = pd.DataFrame({'feature': feature_names,\n                                        'importance': importances})\n    \n    valid_scores = np.array(valid_scores)\n    display(f'{nfolds} cross validation score: {round(valid_scores.mean(), 5)} with std: {round(valid_scores.std(), 5)}.')\n    \n    # If we want to examine predictions don't average over folds\n    if return_preds:\n        predictions['Target'] = predictions[[1, 2, 3, 4]].idxmax(axis = 1)\n        predictions['confidence'] = predictions[[1, 2, 3, 4]].max(axis = 1)\n        return predictions, feature_importances\n    \n    # Average the predictions over folds\n    predictions = predictions.groupby('idhogar', as_index = False).mean()\n    \n    # Find the class and associated probability\n    predictions['Target'] = predictions[[1, 2, 3, 4]].idxmax(axis = 1)\n    predictions['confidence'] = predictions[[1, 2, 3, 4]].max(axis = 1)\n    predictions = predictions.drop(columns = ['fold'])\n    \n    # Merge with the base to have one prediction for each individual\n    submission = submission_base.merge(predictions[['idhogar', 'Target']], on = 'idhogar', how = 'left').drop(columns = ['idhogar'])\n        \n    # Fill in the individuals that do not have a head of household with 4 since these will not be scored\n    submission['Target'] = submission['Target'].fillna(4).astype(np.int8)\n    \n    # return the submission and feature importances along with validation scores\n    return submission, feature_importances, valid_scores",
      "execution_count": null,
      "outputs": []
    },
    {
      "metadata": {
        "trusted": true,
        "_uuid": "5f05174e0406d58505d3c301109326c9a372a3ef"
      },
      "cell_type": "markdown",
      "source": "### Cross Validation with Early Stopping Notes\nCross validation with early stopping is one of the most effective methods for preventing overfitting on the training set because it prevents us from continuing to add model complexity once it is clear that validation scores are not improving. Repeating this process across multiple folds helps to reduce the bias that comes from using a single fold. Early stopping also lets us train the model much quicker. Overall, early stopping with cross validation is the best method to select the number of estimators in the Gradient Boosting Machine and should be our default technique when we desig an implementation."
    },
    {
      "metadata": {
        "trusted": true,
        "_uuid": "b516ca801ae705dd82af284bb424ce640b327729"
      },
      "cell_type": "code",
      "source": "%%capture --no-display\npredictions, gbm_fi = model_gbm(train_set, train_labels, test_set, test_ids, return_preds=True)",
      "execution_count": null,
      "outputs": []
    },
    {
      "metadata": {
        "_uuid": "fa3dcf831091d99c34d9a4026f345a306cfb398b"
      },
      "cell_type": "markdown",
      "source": "The power of the Gradient Boosting Machine can be seen here! The cross validation score blows away anything we've done previously.\n\nLet's take a look at the predictions to understand what is going on with the predictions in each fold."
    },
    {
      "metadata": {
        "trusted": true,
        "_uuid": "b3e52b74a001f77aaec7bef473e9b98ec593db8b"
      },
      "cell_type": "code",
      "source": "predictions.head()",
      "execution_count": null,
      "outputs": []
    },
    {
      "metadata": {
        "trusted": true,
        "_uuid": "98271d09cf66a2c00ca29d217de22ec2d885b5c0"
      },
      "cell_type": "markdown",
      "source": "For each fold, the 1, 2, 3, 4 columns represent the probability for each Target. The Target is the maximum of these with the confidence the probability. We have the predictions for all 5 folds, so we can plot the confidence in each Target for the different folds."
    },
    {
      "metadata": {
        "trusted": true,
        "_uuid": "f48059659ddfc0fa99d1fc2675d29a2dbc599f60"
      },
      "cell_type": "code",
      "source": "plt.rcParams['font.size'] = 18\n\n# Kdeplot\ng = sns.FacetGrid(predictions, row = 'fold', hue = 'Target', size = 3, aspect = 4)\ng.map(sns.kdeplot, 'confidence');\ng.add_legend();\n\nplt.suptitle('Distribution of Confidence by Fold and Target', y = 1.05);",
      "execution_count": null,
      "outputs": []
    },
    {
      "metadata": {
        "_uuid": "dcde49c57cfb02d5c725a9dce2fa776cb29f7080"
      },
      "cell_type": "markdown",
      "source": "What we see here is that the confidence for each class if relatively low. It does appear that the model has greater confidence in Target=4 predictions which makes sense because of the class imbalance and the high prevalence of this label.\n\nAnother way to look at the information is as a violinplot. This shows the same information, with the number of observations related to the width of the plot."
    },
    {
      "metadata": {
        "trusted": true,
        "_uuid": "2ae90a089ff6b429d5015072628c558e5072edba"
      },
      "cell_type": "code",
      "source": "plt.figure(figsize = (24, 12))\nsns.violinplot(x = 'Target', y = 'confidence', hue = 'fold', data = predictions);",
      "execution_count": null,
      "outputs": []
    },
    {
      "metadata": {
        "_uuid": "80ba65340f517cb6e50cc17a07a061a7a9cb2090"
      },
      "cell_type": "markdown",
      "source": "Overall, these results show the issue with imbalanced class problems: our model cannot distinguish very well between the classes that are underrepresented. Later we'll look at predictions themselves and see where our model is \"confused\". For now, we can generate a submission file and submit it to the competition.\n\nWhen we actually make predictions for each household, we average the predictions from each of the folds. Therefore, we are essentially using multiple models since each one is trained on a slightly different fold of the data. The gradient boosting machine is already an ensemble machine learning model, and now we are using it almost as a meta-ensemble by averaging predictions from several gbms.\n\nThis process is shown in the code below."
    },
    {
      "metadata": {
        "trusted": true,
        "_uuid": "79215cda3254820790ec09a214d9ec84851c969f"
      },
      "cell_type": "code",
      "source": "# Average the predictions over folds\npredictions = predictions.groupby('idhogar', as_index = False).mean()\n\n# Find the class and associated probability\npredictions['Target'] = predictions[[1, 2, 3, 4]].idxmax(axis = 1)\npredictions['confidence'] = predictions[[1, 2, 3, 4]].max(axis = 1)\npredictions = predictions.drop(columns = ['fold'])\n\n# Plot the confidence by each target\nplt.figure(figsize = (10, 6))\nsns.boxplot(x = 'Target', y = 'confidence', data = predictions);\nplt.title('Confidence by Target');\n\nplt.figure(figsize = (10, 6))\nsns.violinplot(x = 'Target', y = 'confidence', data = predictions);\nplt.title('Confidence by Target');",
      "execution_count": null,
      "outputs": []
    },
    {
      "metadata": {
        "_uuid": "663b8df29587c6ff1d9cf9c61ca4801bc6a54147"
      },
      "cell_type": "markdown",
      "source": "We can have the function instead return the actual submission file. This takes the average predictions across the five folds, in effectm combining 5 different models, each one trained on a slghtly different subset of the data."
    },
    {
      "metadata": {
        "trusted": true,
        "_uuid": "3ccac33cc30d297dd60001c0e2b1e22e87ea44ab"
      },
      "cell_type": "code",
      "source": "%%capture\nsubmission, gbm_fi, valid_scores = model_gbm(train_set, train_labels, \n                                             test_set, test_ids, return_preds=False)\n\nsubmission.to_csv('gbm_baseline.csv')",
      "execution_count": null,
      "outputs": []
    },
    {
      "metadata": {
        "trusted": true,
        "_uuid": "da403adb25caec17229f6928c38807bd54db51f1"
      },
      "cell_type": "code",
      "source": "_ = plot_feature_importances(gbm_fi, threshold=0.95)",
      "execution_count": null,
      "outputs": []
    },
    {
      "metadata": {
        "trusted": true,
        "_uuid": "8bc7d258ae75620c6959d38b000fc42e80699259"
      },
      "cell_type": "markdown",
      "source": "The gbm seems to think the most important features are those derived from ages. The education variables also show up in the most important features."
    },
    {
      "metadata": {
        "_uuid": "b88a4d3b1541e6ba44cba9cdf563c1fa57a99a1f"
      },
      "cell_type": "markdown",
      "source": "### Try Selected Features¶\nThe next step with the LightGBM is to try the features that were selected through recursive feature elimination."
    },
    {
      "metadata": {
        "trusted": true,
        "_uuid": "6ef83fa2a8de6d1381bcc352c4228783672176a8"
      },
      "cell_type": "code",
      "source": "%%capture --no-display\nsubmission, gbm_fi_selected, valid_scores_selected = model_gbm(train_selected, train_labels, \n                                                               test_selected, test_ids)",
      "execution_count": null,
      "outputs": []
    },
    {
      "metadata": {
        "trusted": true,
        "_uuid": "9ffb1d5d96e325f547fc2a9962aa8d8424a2777f"
      },
      "cell_type": "code",
      "source": "model_results = model_results.append(pd.DataFrame({'model': [\"GBM\", \"GBM_SEL\"], \n                                                   'cv_mean': [valid_scores.mean(), valid_scores_selected.mean()],\n                                                   'cv_std':  [valid_scores.std(), valid_scores_selected.std()]}),\n                                                sort = True)",
      "execution_count": null,
      "outputs": []
    },
    {
      "metadata": {
        "trusted": true,
        "_uuid": "5a1a6e4afb5a8e4311ade0e48caa9f3a0fc35f0e"
      },
      "cell_type": "code",
      "source": "model_results.set_index('model', inplace = True)\nmodel_results['cv_mean'].plot.bar(color = 'orange', figsize = (8, 6),\n                                  yerr = list(model_results['cv_std']),\n                                 edgecolor = 'k', linewidth = 2)\nplt.title('Model F1 Score Results');\nplt.ylabel('Mean F1 Score (with error bar)');\nmodel_results.reset_index(inplace = True)",
      "execution_count": null,
      "outputs": []
    },
    {
      "metadata": {
        "_uuid": "e48c963b25c8824d8d5d063d80b6625477ae490e"
      },
      "cell_type": "markdown",
      "source": "The massive advantage of the gradient boosting machine is on display here. For a final step, let's try using 10-folds with both sets and add them to the plot."
    },
    {
      "metadata": {
        "trusted": true,
        "_uuid": "926498e40b76d5d42353630877efe3e28031ca56"
      },
      "cell_type": "code",
      "source": "%%capture\nsubmission, gbm_fi, valid_scores = model_gbm(train_set, train_labels, test_set, test_ids, \n                                             nfolds=10, return_preds=False)",
      "execution_count": null,
      "outputs": []
    },
    {
      "metadata": {
        "trusted": true,
        "_uuid": "4a17fd49eec84f697a0509ab520f672d6e049e8c"
      },
      "cell_type": "code",
      "source": "submission.to_csv('gbm_10fold.csv', index = False)",
      "execution_count": null,
      "outputs": []
    },
    {
      "metadata": {
        "trusted": true,
        "_uuid": "a39f226a94baaa2785be9b9e0c226e91125dc284"
      },
      "cell_type": "code",
      "source": "%%capture\nsubmission, gbm_fi_selected, valid_scores_selected = model_gbm(train_selected, train_labels, test_selected, test_ids,\n                                                               nfolds=10)",
      "execution_count": null,
      "outputs": []
    },
    {
      "metadata": {
        "trusted": true,
        "_uuid": "0c6cf1050a1a2d30b0b2c69b85f43b498aa00c9b"
      },
      "cell_type": "code",
      "source": "submission.to_csv('gmb_10fold_selected.csv', index = False)",
      "execution_count": null,
      "outputs": []
    },
    {
      "metadata": {
        "trusted": true,
        "_uuid": "6bb037553849f4a8e0f8e9d462d74496092a132d"
      },
      "cell_type": "code",
      "source": "model_results = model_results.append(pd.DataFrame({'model': [\"GBM_10Fold\", \"GBM_10Fold_SEL\"], \n                                                   'cv_mean': [valid_scores.mean(), valid_scores_selected.mean()],\n                                                   'cv_std':  [valid_scores.std(), valid_scores_selected.std()]}),\n                                    sort = True)",
      "execution_count": null,
      "outputs": []
    },
    {
      "metadata": {
        "trusted": true,
        "_uuid": "df54d7ef5259f521c8d0379eb31227f1b89f856b"
      },
      "cell_type": "code",
      "source": "model_results.set_index('model', inplace = True)\nmodel_results['cv_mean'].plot.bar(color = 'orange', figsize = (8, 6), \n                                  edgecolor = 'k', linewidth = 2,\n                                  yerr = list(model_results['cv_std']))\nplt.title('Model F1 Score Results');\nplt.ylabel('Mean F1 Score (with error bar)');\nmodel_results.reset_index(inplace = True)",
      "execution_count": null,
      "outputs": []
    },
    {
      "metadata": {
        "_uuid": "ef6a96d2bb2d5fd332ad20fb2d0d68a101200e62"
      },
      "cell_type": "markdown",
      "source": "The best model seems to be the Gradient Boosting Machine trained with 10 folds on the selected features. This model has not yet been optimized, but we might be able to get a little more performance through optimization."
    },
    {
      "metadata": {
        "trusted": true,
        "_uuid": "0e2b76dc851def169ac3bcfd054c48f7e7408dde"
      },
      "cell_type": "code",
      "source": "print(f\"There are {gbm_fi_selected[gbm_fi_selected['importance'] == 0].shape[0]} features with no importance.\")",
      "execution_count": null,
      "outputs": []
    },
    {
      "metadata": {
        "_uuid": "9a2b0fae1a982bc0e87ecb0bfec95e7dc833028f"
      },
      "cell_type": "markdown",
      "source": "Well that should make us feel better! All of the features we are using have some importance to the Gradient Boosting Machine. It might be a good idea to go back and retry feature selection but with the GBM since that is the model we are using.\n\nThe next step to take is Model Optimization, the process of getting the most from a machine learning model."
    },
    {
      "metadata": {
        "_uuid": "b5a6c9e3460eb8624fb1fdd07d902300714144c3"
      },
      "cell_type": "markdown",
      "source": "## Model Optimization\nModel optimization is the process of extracting the best performance from a machine learning model by tuning the hyperparameters through cross-validation. This is necessary because the best model hyperparameters are different for every dataset.\n\nIn this notebook, we won't get too far into model tuning, but there are multiple options:\n\n1. Manual\n2. Grid Search\n3. Random Search\n4. Automated Optimization\n\nWe will stick to 4. because it is generally the most efficient method and can easily be implemented in a number of libraries, including Hyperopt, which uses a modified version of Bayesian Optimization with the Tree Parzen Estimator."
    },
    {
      "metadata": {
        "_uuid": "cd9b631871b07eab87c0c228a51e1a814cf38b3b"
      },
      "cell_type": "markdown",
      "source": "## Model Tuning with Hyperopt\nBayesian optimization requires 4 parts:\n\n1. Objective function: what we want to maximize (or minimize)\n2. Domain space: region over which to search\n3. Algorithm for choosing next hyperparameters: uses past results to suggest next values\n5. Results history: saves the past results\n\nI've written previously about using Hyperopt, so here we'll stick to the implementation.\n\n"
    },
    {
      "metadata": {
        "trusted": true,
        "_uuid": "739d8a4d3b736df4571ae20ba4abf84367ae9142"
      },
      "cell_type": "code",
      "source": "from hyperopt import hp, tpe, Trials, fmin, STATUS_OK\nfrom hyperopt.pyll.stochastic import sample\nimport csv\nimport ast\nfrom timeit import default_timer as timer",
      "execution_count": null,
      "outputs": []
    },
    {
      "metadata": {
        "_uuid": "e0ef97fd356ee366f2d7b811f8f7ee7b300a88ee"
      },
      "cell_type": "markdown",
      "source": "### 1. Objective Function\nThis takes in the model hyperparameters and returns the associated validation score. Hyperopt needs a score to minimize, so we return 1 - Macro F1 score."
    },
    {
      "metadata": {
        "trusted": true,
        "_uuid": "27a1c2c06cba3f3c27ceb0ecf985681eb43e4a0a"
      },
      "cell_type": "code",
      "source": "def objective(hyperparameters, nfolds=5):\n    \"\"\"Return validation score from hyperparameters for LightGBM\"\"\"\n    \n    # Keep track of evals\n    global ITERATION\n    ITERATION += 1\n    \n    # Retrieve the subsample\n    subsample = hyperparameters['boosting_type'].get('subsample', 1.0)\n    subsample_freq = hyperparameters['boosting_type'].get('subsample_freq', 0)\n    \n    boosting_type = hyperparameters['boosting_type']['boosting_type']\n    \n    if boosting_type == 'dart':\n        hyperparameters['drop_rate'] = hyperparameters['boosting_type']['drop_rate']\n    \n    # Subsample and subsample frequency to top level keys\n    hyperparameters['subsample'] = subsample\n    hyperparameters['subsample_freq'] = subsample_freq\n    hyperparameters['boosting_type'] = boosting_type\n    \n    # Whether or not to use limit maximum depth\n    if not hyperparameters['limit_max_depth']:\n        hyperparameters['max_depth'] = -1\n    \n    # Make sure parameters that need to be integers are integers\n    for parameter_name in ['max_depth', 'num_leaves', 'subsample_for_bin', \n                           'min_child_samples', 'subsample_freq']:\n        hyperparameters[parameter_name] = int(hyperparameters[parameter_name])\n\n    if 'n_estimators' in hyperparameters:\n        del hyperparameters['n_estimators']\n    \n    # Using stratified kfold cross validation\n    strkfold = StratifiedKFold(n_splits = nfolds, shuffle = True)\n    \n    # Convert to arrays for indexing\n    features = np.array(train_selected)\n    labels = np.array(train_labels).reshape((-1 ))\n    \n    valid_scores = []\n    best_estimators = []\n    run_times = []\n    \n    model = lgb.LGBMClassifier(**hyperparameters, class_weight = 'balanced',\n                               n_jobs=-1, metric = 'None',\n                               n_estimators=10000)\n    \n    # Iterate through the folds\n    for i, (train_indices, valid_indices) in enumerate(strkfold.split(features, labels)):\n        \n        # Training and validation data\n        X_train = features[train_indices]\n        X_valid = features[valid_indices]\n        y_train = labels[train_indices]\n        y_valid = labels[valid_indices]\n        \n        start = timer()\n        # Train with early stopping\n        model.fit(X_train, y_train, early_stopping_rounds = 100, \n                  eval_metric = macro_f1_score, \n                  eval_set = [(X_train, y_train), (X_valid, y_valid)],\n                  eval_names = ['train', 'valid'],\n                  verbose = 400)\n        end = timer()\n        # Record the validation fold score\n        valid_scores.append(model.best_score_['valid']['macro_f1'])\n        best_estimators.append(model.best_iteration_)\n        \n        run_times.append(end - start)\n    \n    score = np.mean(valid_scores)\n    score_std = np.std(valid_scores)\n    loss = 1 - score\n    \n    run_time = np.mean(run_times)\n    run_time_std = np.std(run_times)\n    \n    estimators = int(np.mean(best_estimators))\n    hyperparameters['n_estimators'] = estimators\n    \n    # Write to the csv file ('a' means append)\n    of_connection = open(OUT_FILE, 'a')\n    writer = csv.writer(of_connection)\n    writer.writerow([loss, hyperparameters, ITERATION, run_time, score, score_std])\n    of_connection.close()\n    \n    # Display progress\n    if ITERATION % PROGRESS == 0:\n        display(f'Iteration: {ITERATION}, Current Score: {round(score, 4)}.')\n    \n    return {'loss': loss, 'hyperparameters': hyperparameters, 'iteration': ITERATION,\n            'time': run_time, 'time_std': run_time_std, 'status': STATUS_OK, \n            'score': score, 'score_std': score_std}",
      "execution_count": null,
      "outputs": []
    },
    {
      "metadata": {
        "_uuid": "d3c55d2bd1196f6665dfbe79334caea6539b008e"
      },
      "cell_type": "markdown",
      "source": "### 2. Search Space\nThe domain is the entire range of values over which we want to search. The only difficult part is the subsample ratio which must be set to 1.0 if the boosting_type=\"goss\". Feel free to play around with the values here."
    },
    {
      "metadata": {
        "trusted": true,
        "_uuid": "c5c97c1401ac460c2ab6df250b05305b8a979ad8"
      },
      "cell_type": "code",
      "source": "# Define the search space\nspace = {\n    'boosting_type': hp.choice('boosting_type', \n                              [{'boosting_type': 'gbdt', \n                                'subsample': hp.uniform('gdbt_subsample', 0.5, 1),\n                                'subsample_freq': hp.quniform('gbdt_subsample_freq', 1, 10, 1)}, \n                               {'boosting_type': 'dart', \n                                 'subsample': hp.uniform('dart_subsample', 0.5, 1),\n                                 'subsample_freq': hp.quniform('dart_subsample_freq', 1, 10, 1),\n                                 'drop_rate': hp.uniform('dart_drop_rate', 0.1, 0.5)},\n                                {'boosting_type': 'goss',\n                                 'subsample': 1.0,\n                                 'subsample_freq': 0}]),\n    'limit_max_depth': hp.choice('limit_max_depth', [True, False]),\n    'max_depth': hp.quniform('max_depth', 1, 40, 1),\n    'num_leaves': hp.quniform('num_leaves', 3, 50, 1),\n    'learning_rate': hp.loguniform('learning_rate', \n                                   np.log(0.025), \n                                   np.log(0.25)),\n    'subsample_for_bin': hp.quniform('subsample_for_bin', 2000, 100000, 2000),\n    'min_child_samples': hp.quniform('min_child_samples', 5, 80, 5),\n    'reg_alpha': hp.uniform('reg_alpha', 0.0, 1.0),\n    'reg_lambda': hp.uniform('reg_lambda', 0.0, 1.0),\n    'colsample_bytree': hp.uniform('colsample_by_tree', 0.5, 1.0)\n}",
      "execution_count": null,
      "outputs": []
    },
    {
      "metadata": {
        "trusted": true,
        "_uuid": "c3994408e8fe7c9bbb8878de1cc18cf8546ad299"
      },
      "cell_type": "code",
      "source": "sample(space)",
      "execution_count": null,
      "outputs": []
    },
    {
      "metadata": {
        "_uuid": "41d25f35a315ecb979c939d0576f1d78924be41d"
      },
      "cell_type": "markdown",
      "source": "### 3. Algorithm\nThe algorithm for choosing the next values is the Tree Parzen Estimator which uses Bayes rule for constructing a surrogate model of the objective function. Instead of maximizing the objective function, the algorithm maximizes the Expected Improvement (EI) of the surrogate model."
    },
    {
      "metadata": {
        "trusted": true,
        "_uuid": "ad226275856b93507a76bf9199f67bd47fbf0d88"
      },
      "cell_type": "code",
      "source": "algo = tpe.suggest",
      "execution_count": null,
      "outputs": []
    },
    {
      "metadata": {
        "_uuid": "30e864978d3f64cb00dc7f8239a120e5f6190852"
      },
      "cell_type": "markdown",
      "source": "### 4. Results History\nWe'll use two different methods for recording results:\n\n1. Trials object: stores everything returned from the objective function\n2. Write to a csv file on every iteration\n\nI like using multiple methods for tracking progress because it means redundancy. One way may fail, but hopefully both will not! The csv file can be used to monitor the method while it is running and the Trials object can be saved and then reloaded to resume optimization."
    },
    {
      "metadata": {
        "trusted": true,
        "_uuid": "3f32e3358058e9ba61fa485f541d0521c11f5648"
      },
      "cell_type": "code",
      "source": "# Record results\ntrials = Trials()\n\n# Create a file and open a connection\nOUT_FILE = 'optimization.csv'\nof_connection = open(OUT_FILE, 'w')\nwriter = csv.writer(of_connection)\n\nMAX_EVALS = 100\nPROGRESS = 10\nN_FOLDS = 5\nITERATION = 0\n\n# Write column names\nheaders = ['loss', 'hyperparameters', 'iteration', 'runtime', 'score', 'std']\nwriter.writerow(headers)\nof_connection.close()",
      "execution_count": null,
      "outputs": []
    },
    {
      "metadata": {
        "trusted": true,
        "_uuid": "bff0c1301da4d668421c4ec86b6247abe574047d"
      },
      "cell_type": "code",
      "source": "%%capture --no-display\ndisplay(\"Running Optimization for {} Trials.\".format(MAX_EVALS))\n\n# Run optimization\nbest = fmin(fn = objective, space = space, algo = tpe.suggest, trials = trials,\n            max_evals = MAX_EVALS)",
      "execution_count": null,
      "outputs": []
    },
    {
      "metadata": {
        "_uuid": "e012539aafeae025822e851ffb819f90dbeba76c"
      },
      "cell_type": "markdown",
      "source": "To resume training, we can pass in the same trials object and increase the max number of iterations. For later use, the trials can be saved as json."
    },
    {
      "metadata": {
        "trusted": true,
        "_uuid": "9bc21a477086a66157caca3bbb00f3776935b8e6"
      },
      "cell_type": "code",
      "source": "import json\n\n# Save the trial results\nwith open('trials.json', 'w') as f:\n    f.write(json.dumps(str(trials)))",
      "execution_count": null,
      "outputs": []
    },
    {
      "metadata": {
        "trusted": true,
        "_uuid": "3aa5fde8c9c1c39ad69a8ab3ea6bfa7d42333863"
      },
      "cell_type": "markdown",
      "source": "## Using Optimized Model\nOnce the optimization procedure has finished, we can use the best results for modeling."
    },
    {
      "metadata": {
        "trusted": true,
        "_uuid": "9c139ab6e5440da946eb0dc5493415b95bf0753b"
      },
      "cell_type": "code",
      "source": "results = pd.read_csv(OUT_FILE).sort_values('loss', ascending = True).reset_index()\nresults.head()",
      "execution_count": null,
      "outputs": []
    },
    {
      "metadata": {
        "trusted": true,
        "_uuid": "e88d5a2beeb4cd3fb1b704deeffe65d935b06c35"
      },
      "cell_type": "code",
      "source": "plt.figure(figsize = (8, 6))\nsns.regplot('iteration', 'score', data = results);\nplt.title(\"Optimization Scores\");\nplt.xticks(list(range(1, results['iteration'].max() + 1, 3)));",
      "execution_count": null,
      "outputs": []
    },
    {
      "metadata": {
        "trusted": true,
        "_uuid": "fcc44b84fb49b8b4697ec50e10f4dbf06e1348ed"
      },
      "cell_type": "code",
      "source": "best_hyp = ast.literal_eval(results.loc[0, 'hyperparameters'])\nbest_hyp",
      "execution_count": null,
      "outputs": []
    },
    {
      "metadata": {
        "trusted": true,
        "_uuid": "2058c3902e2b52e622c9a7637ae5a7f3b6130a09"
      },
      "cell_type": "code",
      "source": "%%capture\nsubmission, gbm_fi, valid_scores = model_gbm(train_selected, train_labels, \n                                             test_selected, test_ids, \n                                             nfolds = 10, return_preds=False)\n\nmodel_results = model_results.append(pd.DataFrame({'model': [\"GBM_OPT_10Fold_SEL\"], \n                                                   'cv_mean': [valid_scores.mean()],\n                                                   'cv_std':  [valid_scores.std()]}),\n                                    sort = True).sort_values('cv_mean', ascending = False)",
      "execution_count": null,
      "outputs": []
    },
    {
      "metadata": {
        "trusted": true,
        "_uuid": "6a00c392be9fdca33eafe9604d0256b407b7eedd"
      },
      "cell_type": "code",
      "source": "%%capture\nsubmission, gbm_fi, valid_scores = model_gbm(train_set, train_labels, \n                                             test_set, test_ids, \n                                             nfolds = 10, return_preds=False)\n\nmodel_results = model_results.append(pd.DataFrame({'model': [\"GBM_OPT_10Fold\"], \n                                                   'cv_mean': [valid_scores.mean()],\n                                                   'cv_std':  [valid_scores.std()]}),\n                                    sort = True).sort_values('cv_mean', ascending = False)",
      "execution_count": null,
      "outputs": []
    },
    {
      "metadata": {
        "trusted": true,
        "_uuid": "53247b488dbdb39eede7841a612a0c35d39b6d0c"
      },
      "cell_type": "code",
      "source": "model_results.head()",
      "execution_count": null,
      "outputs": []
    },
    {
      "metadata": {
        "trusted": true,
        "_uuid": "c746857b9903a86c028b1d1ab2ab37d638a77981"
      },
      "cell_type": "code",
      "source": "submission.to_csv('gbm_opt_10fold_selected.csv', index = False)",
      "execution_count": null,
      "outputs": []
    },
    {
      "metadata": {
        "trusted": true,
        "_uuid": "443d385c589e8d3b4fe726d8b79f9eeb663947b6"
      },
      "cell_type": "markdown",
      "source": "At this point, to improve our performance, we can continue with the optimization, try more feature engineering, stack or ensemble additional models, or look at more experimental methods such as dimension reduction or oversampling. However, the scores we are getting are fairly good and I'm going to move on to a crucial part of machine learning: investigating the predictions to see where our model is wrong.\n\nWhile Kaggle is great for presenting realistic datasets, the methods needed to get to the very top of the leaderboard are not generally used in the real-world. Past some level of performance, accuracy takes a back seat to interpretability. People want to know why a model makes the predictions it does, much as they would want a human to be able to explain her decisions. We could work on squeezing some more performance from our model, but right now, our energy is better spent investigating our model."
    },
    {
      "metadata": {
        "trusted": true,
        "_uuid": "058acfcfa0fda14c1170fc2d8b3c5cf0780dae33"
      },
      "cell_type": "code",
      "source": "_ = plot_feature_importances(gbm_fi)",
      "execution_count": null,
      "outputs": []
    },
    {
      "metadata": {
        "_uuid": "6acc09b2f94cc568fac44446b1e406cf80062c53"
      },
      "cell_type": "markdown",
      "source": "## Investigate Predictions\nAs a first attempt at looking into our model, we can visualize the distribution of predicted labels on the test data. We would expect these to show the same distribution as on the training data. Since we are concerned with household predictions, we'll look at only the predictions for each house and compare with that in the training data.\n\nThe following histrograms are normalize meaning that they show the relative frequency instead of the absolute counts. This is necessary because the raw counts differ in the training and testing data."
    },
    {
      "metadata": {
        "trusted": true,
        "_uuid": "36e4d1ef149b83ecd54c4aea9ebc4edf9ed4ec79"
      },
      "cell_type": "code",
      "source": "preds = submission_base.merge(submission, on = 'Id', how = 'left')\npreds = pd.DataFrame(preds.groupby('idhogar')['Target'].mean())\n\n# Plot the training labels distribution\nfig, axes = plt.subplots(1, 2, sharey = True, figsize = (12, 6))\nheads['Target'].sort_index().plot.hist(normed = True,\n                                       edgecolor = r'k',\n                                       linewidth = 2,\n                                       ax = axes[0])\n\naxes[0].set_xticks([1, 2, 3, 4]);\naxes[0].set_xticklabels(poverty_mapping.values(), rotation = 60)\naxes[0].set_title('Train Label Distribution')\n\n# Plot the predicted labels\npreds['Target'].sort_index().plot.hist(normed = True, \n                                       edgecolor = 'k',\n                                       linewidth = 2,\n                                       ax = axes[1])\naxes[1].set_xticks([1, 2, 3, 4]);\naxes[1].set_xticklabels(poverty_mapping.values(), rotation = 60)\nplt.subplots_adjust()\nplt.title('Predicted Label Distribution');",
      "execution_count": null,
      "outputs": []
    },
    {
      "metadata": {
        "trusted": true,
        "_uuid": "873f67a6d325ec43cecbfe3ff6d7bd2994155076"
      },
      "cell_type": "code",
      "source": "heads['Target'].value_counts()",
      "execution_count": null,
      "outputs": []
    },
    {
      "metadata": {
        "trusted": true,
        "_uuid": "a3b087b024ed33da762ecec9577944a214fd0390"
      },
      "cell_type": "code",
      "source": "preds['Target'].value_counts()",
      "execution_count": null,
      "outputs": []
    },
    {
      "metadata": {
        "_uuid": "f0f28a37ba64993eda53e8e22d933d716be2186b"
      },
      "cell_type": "markdown",
      "source": "The predicted distribution looks close to the training distribution although there are some differences. Depending on the run of the notebook, the results you see may change, but for this edition, the 4s are underrepresented in the predictions and the 3s are overrepresented.\n\nOne potentially method for dealing with imbalanced classification problems is oversampling the minority class, which is easy to do in Python using the imbalanced learn library. We won't explore that option here."
    },
    {
      "metadata": {
        "_uuid": "ce83ce6203c2685bb79e747161c342d2f1452036"
      },
      "cell_type": "markdown",
      "source": "## Validation\nFor the test predictions, we can only compare the distribution with that found on the training data. If we want to compare predictions to actual answers, we'll have to split the training data into a separate validation set. We'll use 1000 examples for testing and then we can do operations like make the confusion matrix because we have the right answer."
    },
    {
      "metadata": {
        "trusted": true,
        "_uuid": "b8453f2a5c0d1874927a0646cbf90f0e8b725c2b"
      },
      "cell_type": "code",
      "source": "from sklearn.model_selection import train_test_split\n\n# Split into validation set\nX_train, X_valid, y_train, y_valid = train_test_split(train_selected,\n                                                      train_labels,\n                                                      test_size = 1000,\n                                                      random_state = 10)\n\n# Create model and train\nmodel = lgb.LGBMClassifier(**best_hyp, \n                           class_weight = 'balanced',\n                           random_state = 10)\nmodel.fit(X_train, y_train);",
      "execution_count": null,
      "outputs": []
    },
    {
      "metadata": {
        "trusted": true,
        "_uuid": "352786f24d7e0c4ca8eeb76652166a4dab12615d"
      },
      "cell_type": "code",
      "source": "# Make validation predictions\nvalid_preds = model.predict_proba(X_valid)\npreds_df = pd.DataFrame(valid_preds, columns = [1, 2, 3, 4])\n\n# Convert into predictions\npreds_df['prediction'] = preds_df[[1, 2, 3, 4]].idxmax(axis = 1)\npreds_df['confidence'] = preds_df[[1, 2, 3, 4]].max(axis = 1)\n\npreds_df.head()",
      "execution_count": null,
      "outputs": []
    },
    {
      "metadata": {
        "trusted": true,
        "_uuid": "d4d56ef2cad44171bb44ad6414db2e9354630150"
      },
      "cell_type": "code",
      "source": "print('F1 score:', round(f1_score(y_valid, preds_df['prediction'], average = 'macro'), 5))",
      "execution_count": null,
      "outputs": []
    },
    {
      "metadata": {
        "_uuid": "5cc3d8f82b1098df85b49cd211288d593fb2a088"
      },
      "cell_type": "markdown",
      "source": "Let's use our predictions to plot a confusion matrix. This lets us see where the model is \"confused\" by showing the differences between predictions and true values. The code for this confusion matrix is adapted from: http://scikit-learn.org/stable/auto_examples/model_selection/plot_confusion_matrix.html"
    },
    {
      "metadata": {
        "trusted": true,
        "_uuid": "a676a8b977ad065222fbcdb57053b48d2af10878"
      },
      "cell_type": "code",
      "source": "from sklearn.metrics import confusion_matrix\nimport itertools\n\ndef plot_confusion_matrix(cm, classes,\n                          normalize=False,\n                          title='Confusion matrix',\n                          cmap=plt.cm.Oranges):\n    \"\"\"\n    This function prints and plots the confusion matrix.\n    Normalization can be applied by setting `normalize=True`.\n    Source: http://scikit-learn.org/stable/auto_examples/model_selection/plot_confusion_matrix.html\n    \"\"\"\n    if normalize:\n        cm = cm.astype('float') / cm.sum(axis=1)[:, np.newaxis]\n        print(\"Normalized confusion matrix\")\n    else:\n        print('Confusion matrix, without normalization')\n\n    print(cm)\n\n    plt.figure(figsize = (10, 10))\n    plt.imshow(cm, interpolation='nearest', cmap=cmap)\n    plt.title(title, size = 24)\n    plt.colorbar(aspect=4)\n    tick_marks = np.arange(len(classes))\n    plt.xticks(tick_marks, classes, rotation=45, size = 14)\n    plt.yticks(tick_marks, classes, size = 14)\n\n    fmt = '.2f' if normalize else 'd'\n    thresh = cm.max() / 2.\n    \n    # Labeling the plot\n    for i, j in itertools.product(range(cm.shape[0]), range(cm.shape[1])):\n        plt.text(j, i, format(cm[i, j], fmt), fontsize = 20,\n                 horizontalalignment=\"center\",\n                 color=\"white\" if cm[i, j] > thresh else \"black\")\n        \n    plt.grid(None)\n    plt.tight_layout()\n    plt.ylabel('True label', size = 18)\n    plt.xlabel('Predicted label', size = 18)",
      "execution_count": null,
      "outputs": []
    },
    {
      "metadata": {
        "trusted": true,
        "_uuid": "3384306d1d439dc98fa433b24c7f8bc43819a15b"
      },
      "cell_type": "code",
      "source": "cm = confusion_matrix(y_valid, preds_df['prediction'])\n\nplot_confusion_matrix(cm, classes = ['Extreme', 'Moderate', 'Vulnerable', 'Non-Vulnerable'],\n                      title = 'Poverty Confusion Matrix')",
      "execution_count": null,
      "outputs": []
    },
    {
      "metadata": {
        "_uuid": "bb56cc26e1c3b388360d2dc5faf5a07db6826080"
      },
      "cell_type": "markdown",
      "source": "Here's how to read the confusion matrix: any of the values on the diagonal, the model got correct because the predicted value matches the true value. Anything not on the diagonal our model got wrong which we can assess by looking at the predicted value versus the actual value.\n\nFor example, our model correctly predicted 25 observations where the poverty was extreme. On the other hand, for 26 cases where the poverty was extreme, our model predicted it was moderate. For 95 cases where the poverty was Non-Vulnerable, our model predicted the poverty was Vulnerable. Overall, we see that our model is only very accurate at idenifying the non-vulnerable households.\n\nTo look at the percentage of each true label predicted in each class, we can normalize the confusion matrix for the true labels."
    },
    {
      "metadata": {
        "trusted": true,
        "_uuid": "6a224c26781b090c03442aa933ec75f9f17c3917"
      },
      "cell_type": "code",
      "source": "plot_confusion_matrix(cm, normalize = True,\n                      classes = ['Extreme', 'Moderate', 'Vulnerable', 'Non-Vulnerable'],\n                      title = 'Poverty Confusion Matrix')",
      "execution_count": null,
      "outputs": []
    },
    {
      "metadata": {
        "_uuid": "ff82287716a3c9687869a68c9d20e2e3d631cd61"
      },
      "cell_type": "markdown",
      "source": "Now we can see that our model really does not do that well for classes other than Non Vulnerable. It only correctly identifies 15% of the Vulnerable households, classifying more of them as moderate or non vulnerable. Overall, these results show that imbalanced classification problems with relatively few observations are very difficult. There are some methods we can take to try and counter this such as oversampling or training multiple models on different sections of the data, but at the end of the day, the most effective method may be to gather more data."
    },
    {
      "metadata": {
        "_uuid": "bf3db142480be8ac8c35deea006cb466867f1fe2"
      },
      "cell_type": "markdown",
      "source": "## Dimension Reduction\nAs a final exploration of the problem, we can apply a few different dimension reductions methods to the selected data set. These methods can be used for visualization or as a preprocessing method for machine learning. We'll look at four different methods:\n\n1. [PCA: Principal Components Analysis](https://en.wikipedia.org/wiki/Principal_component_analysis). Finds the dimensions of greatest variation in the data\n2. [ICA: Independent Components Analysis](https://en.wikipedia.org/wiki/Independent_component_analysis). Attempts to separate a mutltivariate signal into independent signals.\n3. [TSNE: T-distributed Stochastic Neighbor Embedding](http://www.jmlr.org/papers/volume9/vandermaaten08a/vandermaaten08a.pdf). Maps high-dimensional data to a low-dimensional manifold attempting to maintain the local structure within the data. It is a non-linear technique and generally only used for visualization.\n4. [UMAP: Uniform Manifold Approximation and Projection](https://arxiv.org/pdf/1802.03426.pdf): A relatively new technique that also maps data to a low-dimensional manifold but tries to preserve more global structure than TSNE.\n\n\nAll four of these methods are relatively simple to implement in Python. We'll map the selected features down to 3 dimensions for visualization and then also use PCA, ICA, and UMAP as features for modeling (TSNE has no transform method and hence cannot be used for preprocessing)."
    },
    {
      "metadata": {
        "trusted": true,
        "_uuid": "d7a0fba71f34d43492f2cfccab5f13a3306590ce"
      },
      "cell_type": "code",
      "source": "from umap import UMAP\nfrom sklearn.decomposition import PCA, FastICA\nfrom sklearn.manifold import TSNE\n\nn_components = 3\n\numap = UMAP(n_components=n_components)\npca = PCA(n_components=n_components)\nica = FastICA(n_components=n_components)\ntsne = TSNE(n_components=n_components)",
      "execution_count": null,
      "outputs": []
    },
    {
      "metadata": {
        "trusted": true,
        "_uuid": "4fb8c2e9fb0a01fbef9c529bbe9bb13641518960"
      },
      "cell_type": "code",
      "source": "train_df = train_selected.copy()\ntest_df = test_selected.copy()\n\nfor method, name in zip([umap, pca, ica, tsne], \n                        ['umap', 'pca', 'ica', 'tsne']):\n    \n    # TSNE has no transform method\n    if name == 'tsne':\n        start = timer()\n        reduction = method.fit_transform(train_selected)\n        end = timer()\n    \n    else:\n        start = timer()\n        reduction = method.fit_transform(train_selected)\n        end = timer()\n        \n        test_reduction = method.transform(test_selected)\n    \n        # Add components to test data\n        test_df['%s_c1' % name] = test_reduction[:, 0]\n        test_df['%s_c2' % name] = test_reduction[:, 1]\n        test_df['%s_c3' % name] = test_reduction[:, 2]\n\n    # Add components to training data for visualization and modeling\n    train_df['%s_c1' % name] = reduction[:, 0]\n    train_df['%s_c2' % name] = reduction[:, 1]\n    train_df['%s_c3' % name] = reduction[:, 2]\n    \n    print(f'Method: {name} {round(end - start, 2)} seconds elapsed.')",
      "execution_count": null,
      "outputs": []
    },
    {
      "metadata": {
        "trusted": true,
        "_uuid": "f7ca2e91064912846f4da3d0d6448416f796d1ce"
      },
      "cell_type": "code",
      "source": "from mpl_toolkits.mplot3d import Axes3D\n\ndef discrete_cmap(N, base_cmap=None):\n    \"\"\"Create an N-bin discrete colormap from the specified input map\n    Source: https://gist.github.com/jakevdp/91077b0cae40f8f8244a\"\"\"\n\n    base = plt.cm.get_cmap(base_cmap)\n    color_list = base(np.linspace(0, 1, N))\n    cmap_name = base.name + str(N)\n    return base.from_list(cmap_name, color_list, N)\n\ncmap = discrete_cmap(4, base_cmap = plt.cm.RdYlBu)\n\ntrain_df['label'] = train_labels",
      "execution_count": null,
      "outputs": []
    },
    {
      "metadata": {
        "trusted": true,
        "_uuid": "8601c3ef6648e1cba9a504d7c91385e4d7be6b46"
      },
      "cell_type": "code",
      "source": "# Plot each method\nfor method, name in zip([umap, pca, ica, tsne], \n                        ['umap', 'pca', 'ica', 'tsne']):\n    \n    fig = plt.figure(figsize = (8, 8))\n    ax = fig.add_subplot(111, projection='3d')\n    \n    p = ax.scatter(train_df['%s_c1' % name], train_df['%s_c2'  % name], train_df['%s_c3'  % name], \n                   c = train_df['label'].astype(int), cmap = cmap)\n    \n    plt.title(f'{name.capitalize()}', size = 22)\n    fig.colorbar(p, aspect = 4, ticks = [1, 2, 3, 4])",
      "execution_count": null,
      "outputs": []
    },
    {
      "metadata": {
        "_uuid": "272cd1e9b6d493a2ab930458fa9f4fa7d5fac2ea"
      },
      "cell_type": "markdown",
      "source": "It's difficult to see much clustering in these plots, which indicates that separating the poverty levels is hard given the available data. Machine learning models are only as effective as the data we give to them, and sometimes the data does not have enough information.\n\nAs a final step, we can train a model using the added reductions from PCA, ICA, and UMAP. We'll use the same Light GBM hyperparameters from the optimization."
    },
    {
      "metadata": {
        "trusted": true,
        "_uuid": "071402db5a401048a0bba0d761669bcc6c99bf07"
      },
      "cell_type": "code",
      "source": "train_df, test_df = train_df.align(test_df, axis = 1, join = 'inner')",
      "execution_count": null,
      "outputs": []
    },
    {
      "metadata": {
        "trusted": true,
        "_uuid": "d65e741c28e85b7e0d518093b7156223b3051ee3"
      },
      "cell_type": "code",
      "source": "%%capture\n\nsubmission, gbm_fi, valid_scores = model_gbm(train_df, train_labels, \n                                             test_df, test_ids, nfolds = 10,\n                                             hyp = best_hyp)",
      "execution_count": null,
      "outputs": []
    },
    {
      "metadata": {
        "trusted": true,
        "_uuid": "d9ba81d695f66d5776a96f6bbd90afdcd3a5cf47"
      },
      "cell_type": "code",
      "source": "submission.to_csv('gbm_opt_10fold_dr.csv', index = False)",
      "execution_count": null,
      "outputs": []
    },
    {
      "metadata": {
        "trusted": true,
        "_uuid": "2a24e6588f0ec6da883e772fcb845313d5d0a9c2"
      },
      "cell_type": "code",
      "source": "model_results = model_results.append(pd.DataFrame({'model': [\"GBM_OPT_10Fold_DR\"], \n                                                   'cv_mean': [valid_scores.mean()],\n                                                   'cv_std':  [valid_scores.std()]}),\n                                    sort = True)",
      "execution_count": null,
      "outputs": []
    },
    {
      "metadata": {
        "trusted": true,
        "_uuid": "52fb0b8c469aa4c19002a23c1521523b06b811b5"
      },
      "cell_type": "code",
      "source": "model_results = model_results.sort_values('cv_mean')\nmodel_results.set_index('model', inplace = True)\nmodel_results['cv_mean'].plot.bar(color = 'orange', figsize = (10, 8),\n                                  edgecolor = 'k', linewidth = 2,\n                                  yerr = list(model_results['cv_std']))\nplt.title('Model F1 Score Results');\nplt.ylabel('Mean F1 Score (with error bar)');\nmodel_results.reset_index(inplace = True)",
      "execution_count": null,
      "outputs": []
    },
    {
      "metadata": {
        "_uuid": "2cdbcfdf6a5381662239ac794115efdae0d7bc36"
      },
      "cell_type": "markdown",
      "source": "The dimensionality reduction components slightly hurt the overall score of the model. It's possible that they only lead to overfitting on the training data."
    },
    {
      "metadata": {
        "trusted": true,
        "_uuid": "74b6bac3e50f8c453825d2bf46e523aa525ae05a"
      },
      "cell_type": "code",
      "source": "_ = plot_feature_importances(gbm_fi)",
      "execution_count": null,
      "outputs": []
    },
    {
      "metadata": {
        "_uuid": "ad95d53dc8d587918fba286cf1e744fc04a15d84"
      },
      "cell_type": "markdown",
      "source": "Given the high importance of the dimension reduction components, it looks like they may be causing overfitting. The dimension reduction methods are not using any of the label information, which means they might not necessarily have any useful information for the model."
    },
    {
      "metadata": {
        "_uuid": "b057699eeefdff456427064d9995804f96e5776e"
      },
      "cell_type": "markdown",
      "source": "## Visualize Single Decision Tree\nAs a final step, we can look at one decision tree in the random forest. First we'll limited the max depth for visability, and then we'll expand the tree all the way.\n\nThe first step is simply to train a random forest and extract one tree (we could also train a single decision tree)."
    },
    {
      "metadata": {
        "trusted": true,
        "_uuid": "df787ac12081f6df773f3671db719790f5abf550"
      },
      "cell_type": "code",
      "source": "model = RandomForestClassifier(max_depth = 3, n_estimators=10)\nmodel.fit(train_selected, train_labels)\nestimator_limited = model.estimators_[5]\nestimator_limited",
      "execution_count": null,
      "outputs": []
    },
    {
      "metadata": {
        "_uuid": "7b788cc5b6ac0f996c0f7dd9bf0ffba8cc27cb8d"
      },
      "cell_type": "markdown",
      "source": "We take the trained tree and export it as a .dot file using export_graphviz."
    },
    {
      "metadata": {
        "trusted": true,
        "_uuid": "89c7d64c84864d82097a1554daad2b4bfb499262"
      },
      "cell_type": "code",
      "source": "from sklearn.tree import export_graphviz\n\nexport_graphviz(estimator_limited, out_file='tree_limited.dot', feature_names = train_selected.columns,\n                class_names = ['extreme', 'moderate' , 'vulnerable', 'non-vulnerable'],\n                rounded = True, proportion = False, precision = 2, filled = True)",
      "execution_count": null,
      "outputs": []
    },
    {
      "metadata": {
        "_uuid": "7d848ee02e9d938bb579998bc61ba63e6c24953a"
      },
      "cell_type": "markdown",
      "source": "Next we use a system command to convert dot file to png."
    },
    {
      "metadata": {
        "trusted": true,
        "_uuid": "deaa17d4ac8f1fef7ed26e73276f358b2795da0d"
      },
      "cell_type": "code",
      "source": "!dot -Tpng tree_limited.dot -o tree_limited.png",
      "execution_count": null,
      "outputs": []
    },
    {
      "metadata": {
        "_uuid": "b1dc5eadc77bbf1e92804f02dd56848ca6df7edb"
      },
      "cell_type": "markdown",
      "source": "Finally, we can view the tree in a Jupyter Notebok using IPython.display (this is the nicest way to render an image. It also happens to be quite simple."
    },
    {
      "metadata": {
        "trusted": true,
        "_uuid": "e743be8ce2635b00d38f7ec8fd2307ea3581aea7"
      },
      "cell_type": "code",
      "source": "# Display in jupyter notebook\nfrom IPython.display import Image\nImage(filename = 'tree_limited.png')",
      "execution_count": null,
      "outputs": []
    },
    {
      "metadata": {
        "_uuid": "5bfe9c09489f1ee319a6046ee98c6eef22279e58"
      },
      "cell_type": "markdown",
      "source": "### Visualize Tree with No Maximum Depth\nWhen we don't limit the depth, the tree grows extremely deep! It's therefore usually helpful to do some limitation (unless you just like the look of the large tree)!"
    },
    {
      "metadata": {
        "trusted": true,
        "_uuid": "88a2759c959b3877d56fa524ffcc30b99f75c208"
      },
      "cell_type": "code",
      "source": "# No maximum depth\nmodel = RandomForestClassifier(max_depth = None, n_estimators=10)\nmodel.fit(train_selected, train_labels)\nestimator_nonlimited = model.estimators_[5]\n\nexport_graphviz(estimator_nonlimited, out_file='tree_nonlimited.dot', feature_names = train_selected.columns,\n                class_names = ['extreme', 'moderate' , 'vulnerable', 'non-vulnerable'],\n                rounded = True, proportion = False, precision = 2)\n\n!dot -Tpng tree_nonlimited.dot -o tree_nonlimited.png -Gdpi=600",
      "execution_count": null,
      "outputs": []
    },
    {
      "metadata": {
        "trusted": true,
        "_uuid": "e0527ef5fd1839bf5de7c74e6a3de8b91514808d"
      },
      "cell_type": "code",
      "source": "Image(filename = 'tree_nonlimited.png')",
      "execution_count": null,
      "outputs": []
    },
    {
      "metadata": {
        "_uuid": "76e309a6ffb3489d3d6ba85738f5b6fbdb2f3042"
      },
      "cell_type": "markdown",
      "source": "## Conclusions\nIn this notebook, we went through a step-by-step implementation of an entire data science solution to a real-world problem. Machine learning is really just a series of steps, each simple by themselves, with the overall result often extremely powerful.\n\nOur path was as follows:\n\n1. Understand the problem\n2. Exploratory Data Analysis\n    - Deal with data issues\n    - Fill in missing values\n3. Feature Engineering\n    - Aggregate data\n    - Feature selection in stages\n4. Model Selection\n    - Try many different models to see which one is most promising\n    - Feature selection can also come into play\n5. Model Optimization\n    - Choose the best performing model and tune\n6. Implementing best model\n7. Investigate predictions\n    - Identify model shortcomings\n8. Try new techniques\n    - Experiment and learn!\n\nAs stated in the introduction, while these steps do have a general order, there is nothing preventing us from repeating them based on subsequent work. For example, we often go back to feature engineering/selection after modeling if we are not satisfied with our performance. After investigating predictions, we might return to the modeling stage and re-think our approach.\n\nIt's also important to keep in mind that machine learning is largely empirical: there are few established best practices so you need to constantly experiement to determine what works best. That's why we included the last step: we got to try out some new methods and even if they don't pay off for this project, they may be useful in the future. As data scientists we need to be constantly learning to do our work more effectively with the best tools possible.\n\nOur final model does well compared to others in the competition, but overall is not extremely accurate. There might be ways to improve performance, but overall, we might not have enough data to achieve exceptional metrics. That's an important point to remember: at the end of the day, the success or failure of a data science project will rest on the quality and quantity of available data. We have solved the problem of classifying household poverty in Porto Rica as well as we can with the available tools, and the next process if we were in charge would be figuring out what more data could be collected to yield a better solution.\n\n## Next Steps\nAlthough we tried many possible approaches, there are still some methods that we did not implement but might prove useful:\n\nFurther Hyperparameter tuning: we did not spend much time optimizing the model and there are other packages for optimization that we could try.\n\nFurther feature selection: we probably do not need to retain all of the features to get the same performance\n[Oversampling the minority class](http://contrib.scikit-learn.org/imbalanced-learn/stable/over_sampling.html) / undersampling the majority class: an advanced techinque that might improve performance\nEnsembling or stacking multiple models. We could train models on different sections of the data and then combine their predictions to try and better separate the classes. It might also be worthwhile to include models other than the gradient boosting machine.\n\nThe most valuable part of a Kaggle competition is never the rewards, but the knowledge gained along the way. These contests are great for learning how to solve realistic problems and I approach every new problem as an opportunity to improve as a data scientist. Thanks for reading!\n\nIf you're looking for more on this competition, I have a kernel using automated feature engineering for this problem: [Featuretools](https://www.kaggle.com/willkoehrsen/featuretools-for-good) for Good."
    },
    {
      "metadata": {
        "trusted": true,
        "_uuid": "d818864f39b6d0c3032fafcc5bca2685ed147ca8"
      },
      "cell_type": "code",
      "source": "",
      "execution_count": null,
      "outputs": []
    },
    {
      "metadata": {
        "trusted": true,
        "_uuid": "761a58372e64ada1a5c2c30f18391801b5c9db27"
      },
      "cell_type": "code",
      "source": "",
      "execution_count": null,
      "outputs": []
    },
    {
      "metadata": {
        "trusted": true,
        "_uuid": "043c83d7b736f7bd44b956d9abf6f1eff8a9335a"
      },
      "cell_type": "code",
      "source": "",
      "execution_count": null,
      "outputs": []
    },
    {
      "metadata": {
        "trusted": true,
        "_uuid": "af5ca1a91672af5e5a7bbe623030187540607f02"
      },
      "cell_type": "code",
      "source": "",
      "execution_count": null,
      "outputs": []
    },
    {
      "metadata": {
        "trusted": true,
        "_uuid": "1db5dc22034086c693fbd13d02b7f9c2d062bcca"
      },
      "cell_type": "code",
      "source": "",
      "execution_count": null,
      "outputs": []
    },
    {
      "metadata": {
        "trusted": true,
        "_uuid": "ff917d0f1a148ca0cecd2aacdb0c5c4bc4c66d67"
      },
      "cell_type": "code",
      "source": "",
      "execution_count": null,
      "outputs": []
    }
  ],
  "metadata": {
    "kernelspec": {
      "display_name": "Python 3",
      "language": "python",
      "name": "python3"
    },
    "language_info": {
      "name": "python",
      "version": "3.6.4",
      "mimetype": "text/x-python",
      "codemirror_mode": {
        "name": "ipython",
        "version": 3
      },
      "pygments_lexer": "ipython3",
      "nbconvert_exporter": "python",
      "file_extension": ".py"
    }
  },
  "nbformat": 4,
  "nbformat_minor": 1
}